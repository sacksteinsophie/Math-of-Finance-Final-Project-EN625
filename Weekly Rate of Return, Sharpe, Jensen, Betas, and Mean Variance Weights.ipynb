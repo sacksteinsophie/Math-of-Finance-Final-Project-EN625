{
 "cells": [
  {
   "cell_type": "markdown",
   "id": "c3365c1e",
   "metadata": {},
   "source": [
    "# Weekly Rate of Return, Sharpe, Jensen, Betas, and Mean Variance Weights"
   ]
  },
  {
   "cell_type": "code",
   "execution_count": 1,
   "id": "fa76b046",
   "metadata": {},
   "outputs": [],
   "source": [
    "import numpy as np\n",
    "import pandas as pd\n",
    "import matplotlib.pyplot as plt\n",
    "import matplotlib.mlab as mlab\n",
    "import seaborn as sns\n",
    "from tabulate import tabulate\n",
    "import math\n",
    "from scipy.stats import norm\n",
    "\n",
    "import warnings\n",
    "warnings.filterwarnings(\"ignore\")\n",
    "\n",
    "# yahoo_finance is used to fetch data \n",
    "import yfinance as yf"
   ]
  },
  {
   "cell_type": "code",
   "execution_count": 3,
   "id": "953b5ce3",
   "metadata": {},
   "outputs": [],
   "source": [
    "from datetime import datetime\n",
    "from dateutil.relativedelta import relativedelta\n",
    "\n",
    "one_yr_ago = datetime.now() - relativedelta(years=1)\n",
    "one_yr_ago = one_yr_ago.strftime(\"%Y-%m-%d\")\n",
    "\n",
    "start = one_yr_ago \n",
    "end = datetime.now().strftime(\"%Y-%m-%d\")\n",
    "symbols = ['FDS','INVH', 'ROL', 'RBLX', 'HIG']"
   ]
  },
  {
   "cell_type": "code",
   "execution_count": 10,
   "id": "9f705ff6",
   "metadata": {},
   "outputs": [
    {
     "name": "stdout",
     "output_type": "stream",
     "text": [
      "[*********************100%***********************]  5 of 5 completed\n"
     ]
    }
   ],
   "source": [
    "all_df = yf.download(symbols, start, end)['Adj Close']"
   ]
  },
  {
   "cell_type": "code",
   "execution_count": 20,
   "id": "0045d1f7",
   "metadata": {},
   "outputs": [],
   "source": [
    "df = all_df[['FDS','INVH', 'ROL', 'RBLX', 'HIG']]"
   ]
  },
  {
   "cell_type": "code",
   "execution_count": 21,
   "id": "1b0854f5",
   "metadata": {},
   "outputs": [],
   "source": [
    "df = df.reset_index() "
   ]
  },
  {
   "cell_type": "code",
   "execution_count": 26,
   "id": "7dde4470",
   "metadata": {},
   "outputs": [
    {
     "data": {
      "text/html": [
       "<div>\n",
       "<style scoped>\n",
       "    .dataframe tbody tr th:only-of-type {\n",
       "        vertical-align: middle;\n",
       "    }\n",
       "\n",
       "    .dataframe tbody tr th {\n",
       "        vertical-align: top;\n",
       "    }\n",
       "\n",
       "    .dataframe thead th {\n",
       "        text-align: right;\n",
       "    }\n",
       "</style>\n",
       "<table border=\"1\" class=\"dataframe\">\n",
       "  <thead>\n",
       "    <tr style=\"text-align: right;\">\n",
       "      <th></th>\n",
       "      <th>Date</th>\n",
       "      <th>FDS</th>\n",
       "      <th>INVH</th>\n",
       "      <th>ROL</th>\n",
       "      <th>RBLX</th>\n",
       "      <th>HIG</th>\n",
       "    </tr>\n",
       "  </thead>\n",
       "  <tbody>\n",
       "    <tr>\n",
       "      <th>0</th>\n",
       "      <td>2022-07-19</td>\n",
       "      <td>396.236359</td>\n",
       "      <td>34.667015</td>\n",
       "      <td>35.985909</td>\n",
       "      <td>39.849998</td>\n",
       "      <td>62.020275</td>\n",
       "    </tr>\n",
       "    <tr>\n",
       "      <th>1</th>\n",
       "      <td>2022-07-20</td>\n",
       "      <td>397.594574</td>\n",
       "      <td>34.705891</td>\n",
       "      <td>35.985909</td>\n",
       "      <td>40.759998</td>\n",
       "      <td>61.834644</td>\n",
       "    </tr>\n",
       "    <tr>\n",
       "      <th>2</th>\n",
       "      <td>2022-07-21</td>\n",
       "      <td>407.518555</td>\n",
       "      <td>35.201550</td>\n",
       "      <td>36.104412</td>\n",
       "      <td>41.919998</td>\n",
       "      <td>61.609936</td>\n",
       "    </tr>\n",
       "    <tr>\n",
       "      <th>3</th>\n",
       "      <td>2022-07-22</td>\n",
       "      <td>404.524506</td>\n",
       "      <td>35.425083</td>\n",
       "      <td>36.015537</td>\n",
       "      <td>39.400002</td>\n",
       "      <td>62.313377</td>\n",
       "    </tr>\n",
       "    <tr>\n",
       "      <th>4</th>\n",
       "      <td>2022-07-25</td>\n",
       "      <td>402.740021</td>\n",
       "      <td>35.434799</td>\n",
       "      <td>36.035290</td>\n",
       "      <td>39.840000</td>\n",
       "      <td>63.300156</td>\n",
       "    </tr>\n",
       "    <tr>\n",
       "      <th>...</th>\n",
       "      <td>...</td>\n",
       "      <td>...</td>\n",
       "      <td>...</td>\n",
       "      <td>...</td>\n",
       "      <td>...</td>\n",
       "      <td>...</td>\n",
       "    </tr>\n",
       "    <tr>\n",
       "      <th>246</th>\n",
       "      <td>2023-07-12</td>\n",
       "      <td>399.519989</td>\n",
       "      <td>35.299999</td>\n",
       "      <td>43.919998</td>\n",
       "      <td>43.459999</td>\n",
       "      <td>72.599998</td>\n",
       "    </tr>\n",
       "    <tr>\n",
       "      <th>247</th>\n",
       "      <td>2023-07-13</td>\n",
       "      <td>413.839996</td>\n",
       "      <td>35.500000</td>\n",
       "      <td>44.029999</td>\n",
       "      <td>44.299999</td>\n",
       "      <td>72.489998</td>\n",
       "    </tr>\n",
       "    <tr>\n",
       "      <th>248</th>\n",
       "      <td>2023-07-14</td>\n",
       "      <td>410.730011</td>\n",
       "      <td>35.400002</td>\n",
       "      <td>44.540001</td>\n",
       "      <td>43.000000</td>\n",
       "      <td>70.500000</td>\n",
       "    </tr>\n",
       "    <tr>\n",
       "      <th>249</th>\n",
       "      <td>2023-07-17</td>\n",
       "      <td>420.100006</td>\n",
       "      <td>35.330002</td>\n",
       "      <td>44.590000</td>\n",
       "      <td>44.459999</td>\n",
       "      <td>72.220001</td>\n",
       "    </tr>\n",
       "    <tr>\n",
       "      <th>250</th>\n",
       "      <td>2023-07-18</td>\n",
       "      <td>424.359985</td>\n",
       "      <td>34.830002</td>\n",
       "      <td>44.480000</td>\n",
       "      <td>45.540001</td>\n",
       "      <td>72.639999</td>\n",
       "    </tr>\n",
       "  </tbody>\n",
       "</table>\n",
       "<p>251 rows × 6 columns</p>\n",
       "</div>"
      ],
      "text/plain": [
       "          Date         FDS       INVH        ROL       RBLX        HIG\n",
       "0   2022-07-19  396.236359  34.667015  35.985909  39.849998  62.020275\n",
       "1   2022-07-20  397.594574  34.705891  35.985909  40.759998  61.834644\n",
       "2   2022-07-21  407.518555  35.201550  36.104412  41.919998  61.609936\n",
       "3   2022-07-22  404.524506  35.425083  36.015537  39.400002  62.313377\n",
       "4   2022-07-25  402.740021  35.434799  36.035290  39.840000  63.300156\n",
       "..         ...         ...        ...        ...        ...        ...\n",
       "246 2023-07-12  399.519989  35.299999  43.919998  43.459999  72.599998\n",
       "247 2023-07-13  413.839996  35.500000  44.029999  44.299999  72.489998\n",
       "248 2023-07-14  410.730011  35.400002  44.540001  43.000000  70.500000\n",
       "249 2023-07-17  420.100006  35.330002  44.590000  44.459999  72.220001\n",
       "250 2023-07-18  424.359985  34.830002  44.480000  45.540001  72.639999\n",
       "\n",
       "[251 rows x 6 columns]"
      ]
     },
     "execution_count": 26,
     "metadata": {},
     "output_type": "execute_result"
    }
   ],
   "source": [
    "df"
   ]
  },
  {
   "cell_type": "markdown",
   "id": "3b54dcc3",
   "metadata": {},
   "source": [
    "# Weekly returns (I assumed rolling average)"
   ]
  },
  {
   "cell_type": "code",
   "execution_count": 29,
   "id": "0c1d3425",
   "metadata": {},
   "outputs": [],
   "source": [
    "weekly_returns = df[['FDS','INVH', 'ROL', 'RBLX', 'HIG']].pct_change(periods=5) # go by business days "
   ]
  },
  {
   "cell_type": "code",
   "execution_count": 61,
   "id": "93d93dee",
   "metadata": {},
   "outputs": [],
   "source": [
    "weekly_returns =weekly_returns.dropna()"
   ]
  },
  {
   "cell_type": "code",
   "execution_count": 62,
   "id": "540be80d",
   "metadata": {},
   "outputs": [
    {
     "data": {
      "text/html": [
       "<div>\n",
       "<style scoped>\n",
       "    .dataframe tbody tr th:only-of-type {\n",
       "        vertical-align: middle;\n",
       "    }\n",
       "\n",
       "    .dataframe tbody tr th {\n",
       "        vertical-align: top;\n",
       "    }\n",
       "\n",
       "    .dataframe thead th {\n",
       "        text-align: right;\n",
       "    }\n",
       "</style>\n",
       "<table border=\"1\" class=\"dataframe\">\n",
       "  <thead>\n",
       "    <tr style=\"text-align: right;\">\n",
       "      <th></th>\n",
       "      <th>FDS</th>\n",
       "      <th>INVH</th>\n",
       "      <th>ROL</th>\n",
       "      <th>RBLX</th>\n",
       "      <th>HIG</th>\n",
       "    </tr>\n",
       "  </thead>\n",
       "  <tbody>\n",
       "    <tr>\n",
       "      <th>5</th>\n",
       "      <td>0.013936</td>\n",
       "      <td>0.026353</td>\n",
       "      <td>-0.006037</td>\n",
       "      <td>-0.021330</td>\n",
       "      <td>0.013863</td>\n",
       "    </tr>\n",
       "    <tr>\n",
       "      <th>6</th>\n",
       "      <td>0.019375</td>\n",
       "      <td>0.035284</td>\n",
       "      <td>-0.029638</td>\n",
       "      <td>0.029195</td>\n",
       "      <td>0.016590</td>\n",
       "    </tr>\n",
       "    <tr>\n",
       "      <th>7</th>\n",
       "      <td>0.024571</td>\n",
       "      <td>0.066262</td>\n",
       "      <td>0.054978</td>\n",
       "      <td>0.025286</td>\n",
       "      <td>-0.003330</td>\n",
       "    </tr>\n",
       "    <tr>\n",
       "      <th>8</th>\n",
       "      <td>0.053060</td>\n",
       "      <td>0.070782</td>\n",
       "      <td>0.057581</td>\n",
       "      <td>0.089594</td>\n",
       "      <td>0.010818</td>\n",
       "    </tr>\n",
       "    <tr>\n",
       "      <th>9</th>\n",
       "      <td>0.040790</td>\n",
       "      <td>0.056226</td>\n",
       "      <td>0.071526</td>\n",
       "      <td>0.135542</td>\n",
       "      <td>-0.020991</td>\n",
       "    </tr>\n",
       "    <tr>\n",
       "      <th>...</th>\n",
       "      <td>...</td>\n",
       "      <td>...</td>\n",
       "      <td>...</td>\n",
       "      <td>...</td>\n",
       "      <td>...</td>\n",
       "    </tr>\n",
       "    <tr>\n",
       "      <th>246</th>\n",
       "      <td>0.010292</td>\n",
       "      <td>0.018465</td>\n",
       "      <td>0.020920</td>\n",
       "      <td>0.041707</td>\n",
       "      <td>0.007773</td>\n",
       "    </tr>\n",
       "    <tr>\n",
       "      <th>247</th>\n",
       "      <td>0.057873</td>\n",
       "      <td>0.021583</td>\n",
       "      <td>0.012649</td>\n",
       "      <td>0.108054</td>\n",
       "      <td>0.001243</td>\n",
       "    </tr>\n",
       "    <tr>\n",
       "      <th>248</th>\n",
       "      <td>0.059757</td>\n",
       "      <td>0.018998</td>\n",
       "      <td>0.031974</td>\n",
       "      <td>0.044957</td>\n",
       "      <td>-0.030661</td>\n",
       "    </tr>\n",
       "    <tr>\n",
       "      <th>249</th>\n",
       "      <td>0.062388</td>\n",
       "      <td>0.016691</td>\n",
       "      <td>0.030268</td>\n",
       "      <td>0.067980</td>\n",
       "      <td>-0.003862</td>\n",
       "    </tr>\n",
       "    <tr>\n",
       "      <th>250</th>\n",
       "      <td>0.059047</td>\n",
       "      <td>-0.011915</td>\n",
       "      <td>0.017849</td>\n",
       "      <td>0.043538</td>\n",
       "      <td>-0.006972</td>\n",
       "    </tr>\n",
       "  </tbody>\n",
       "</table>\n",
       "<p>246 rows × 5 columns</p>\n",
       "</div>"
      ],
      "text/plain": [
       "          FDS      INVH       ROL      RBLX       HIG\n",
       "5    0.013936  0.026353 -0.006037 -0.021330  0.013863\n",
       "6    0.019375  0.035284 -0.029638  0.029195  0.016590\n",
       "7    0.024571  0.066262  0.054978  0.025286 -0.003330\n",
       "8    0.053060  0.070782  0.057581  0.089594  0.010818\n",
       "9    0.040790  0.056226  0.071526  0.135542 -0.020991\n",
       "..        ...       ...       ...       ...       ...\n",
       "246  0.010292  0.018465  0.020920  0.041707  0.007773\n",
       "247  0.057873  0.021583  0.012649  0.108054  0.001243\n",
       "248  0.059757  0.018998  0.031974  0.044957 -0.030661\n",
       "249  0.062388  0.016691  0.030268  0.067980 -0.003862\n",
       "250  0.059047 -0.011915  0.017849  0.043538 -0.006972\n",
       "\n",
       "[246 rows x 5 columns]"
      ]
     },
     "execution_count": 62,
     "metadata": {},
     "output_type": "execute_result"
    }
   ],
   "source": [
    "weekly_returns"
   ]
  },
  {
   "cell_type": "code",
   "execution_count": 31,
   "id": "ea403902",
   "metadata": {},
   "outputs": [
    {
     "data": {
      "text/plain": [
       "0.0012799737009635836"
      ]
     },
     "execution_count": 31,
     "metadata": {},
     "output_type": "execute_result"
    }
   ],
   "source": [
    "weekly_returns['FDS'].mean()"
   ]
  },
  {
   "cell_type": "code",
   "execution_count": 33,
   "id": "5ca9e649",
   "metadata": {},
   "outputs": [
    {
     "data": {
      "text/plain": [
       "0.0007764826005830564"
      ]
     },
     "execution_count": 33,
     "metadata": {},
     "output_type": "execute_result"
    }
   ],
   "source": [
    "weekly_returns['INVH'].mean()"
   ]
  },
  {
   "cell_type": "code",
   "execution_count": 34,
   "id": "53afe5d9",
   "metadata": {},
   "outputs": [
    {
     "data": {
      "text/plain": [
       "0.004833048197696915"
      ]
     },
     "execution_count": 34,
     "metadata": {},
     "output_type": "execute_result"
    }
   ],
   "source": [
    "weekly_returns['ROL'].mean()"
   ]
  },
  {
   "cell_type": "markdown",
   "id": "efd1bd5a",
   "metadata": {},
   "source": [
    "# Standard Deviation and Sharpe Ratio"
   ]
  },
  {
   "cell_type": "code",
   "execution_count": 35,
   "id": "fd13aeb1",
   "metadata": {},
   "outputs": [],
   "source": [
    "import numpy as np\n",
    "import pandas as pd\n",
    "import matplotlib.pyplot as plt\n",
    "import seaborn as sns\n",
    "from scipy.optimize import fmin\n",
    "import math\n"
   ]
  },
  {
   "cell_type": "code",
   "execution_count": 57,
   "id": "adc97111",
   "metadata": {},
   "outputs": [],
   "source": [
    "def std_dev_portfolio(weekly_returns, W):\n",
    "    return np.dot(W,  np.array(np.std(weekly_returns, axis=0)))"
   ]
  },
  {
   "cell_type": "code",
   "execution_count": 58,
   "id": "23fe8919",
   "metadata": {},
   "outputs": [],
   "source": [
    "\n",
    "def sharpe_ratio(weekly_returns, W,risk_free_rate=0.0):\n",
    "    # Calculate weekly Sharpe Ratio\n",
    "    weekly_sharpe_ratio = (np.dot(W,  np.array(np.mean(weekly_returns, axis=0))) - risk_free_rate) \n",
    "    weekly_sharpe_ratio = weekly_sharpe_ratio/np.dot(W,  np.array(np.std(weekly_returns, axis=0)))\n",
    "    sharpe_ratio = weekly_sharpe_ratio \n",
    "    return sharpe_ratio"
   ]
  },
  {
   "cell_type": "code",
   "execution_count": 59,
   "id": "dbf3546c",
   "metadata": {},
   "outputs": [
    {
     "data": {
      "text/plain": [
       "array([0.00127997, 0.00077648, 0.00483305, 0.00618768, 0.00348119])"
      ]
     },
     "execution_count": 59,
     "metadata": {},
     "output_type": "execute_result"
    }
   ],
   "source": [
    "  np.array(np.mean(weekly_returns, axis=0))"
   ]
  },
  {
   "cell_type": "markdown",
   "id": "5b5fc6be",
   "metadata": {},
   "source": [
    "# Sharpe Ratio"
   ]
  },
  {
   "cell_type": "code",
   "execution_count": 60,
   "id": "cc00baf2",
   "metadata": {},
   "outputs": [
    {
     "name": "stdout",
     "output_type": "stream",
     "text": [
      "Symbols:  ['FDS', 'INVH', 'ROL', 'RBLX', 'HIG']\n",
      "with weights:  [0.2, 0.2, 0.2, 0.2, 0.2]\n",
      "Sharpe ratio:  0.0712\n",
      "Standard deviation:  0.0465\n"
     ]
    }
   ],
   "source": [
    "print('Symbols: ', symbols)\n",
    "\n",
    "equal_weighted = [1/len(symbols) for i in range(len(symbols))]\n",
    "print(\"with weights: \", equal_weighted)\n",
    "stocks_df = all_df \n",
    "print('Portfio Sharpe ratio: ',round(sharpe_ratio(weekly_returns, equal_weighted), 4))\n",
    "\n",
    "print('Standard deviation: ',round(std_dev_portfolio(weekly_returns, equal_weighted), 4))"
   ]
  },
  {
   "cell_type": "markdown",
   "id": "5878c15a",
   "metadata": {},
   "source": [
    "# Efficient Portfolio (Mean-Variance) "
   ]
  },
  {
   "cell_type": "code",
   "execution_count": null,
   "id": "9fc2a112",
   "metadata": {},
   "outputs": [],
   "source": [
    "import numpy as np, numpy.random"
   ]
  },
  {
   "cell_type": "code",
   "execution_count": 79,
   "id": "a3a18105",
   "metadata": {},
   "outputs": [
    {
     "data": {
      "text/plain": [
       "array([[0.12236059, 0.31912563, 0.02049388, 0.42163719, 0.11638272]])"
      ]
     },
     "execution_count": 79,
     "metadata": {},
     "output_type": "execute_result"
    }
   ],
   "source": [
    "np.random.seed(1885451678)"
   ]
  },
  {
   "cell_type": "code",
   "execution_count": 113,
   "id": "a648f273",
   "metadata": {},
   "outputs": [
    {
     "name": "stdout",
     "output_type": "stream",
     "text": [
      "random weights:  [0.2 0.2 0.2 0.2 0.2]\n",
      "[2.56739074e-16 0.00000000e+00 4.80011798e-01 2.44596010e-16\n",
      " 5.19988202e-01]\n"
     ]
    }
   ],
   "source": [
    "import pandas as pd\n",
    "import numpy as np\n",
    "from scipy.optimize import minimize\n",
    "\n",
    "\n",
    "\n",
    "\n",
    "def portfolio_risk(W, returns):\n",
    "    portfolio_return = np.sum(returns.mean() * W) \n",
    "    portfolio_std_dev = np.sqrt(np.dot(weights.T, np.dot(returns.cov(), W)))\n",
    "    return portfolio_std_dev\n",
    "\n",
    "\n",
    "num_assets =  len(symbols)\n",
    "# for fun: weights = np.random.dirichlet(np.ones(num_assets),size=1)[0]\n",
    "weights = np.array(num_assets * [1. / num_assets,])\n",
    "\n",
    "print(\"random weights: \", weights)\n",
    "bounds = tuple((0, 1) for asset in range(num_assets))\n",
    "\n",
    "constraints = [{'type': 'eq', 'fun': lambda weights: np.sum(weights) - 1}]\n",
    "\n",
    "minimized_risk = minimize(portfolio_risk, weights, args=(df[['FDS', 'INVH', 'ROL', 'RBLX', 'HIG']].pct_change()), method='SLSQP', bounds=bounds, constraints=constraints)\n",
    "\n",
    "print(minimized_risk.x)"
   ]
  },
  {
   "cell_type": "code",
   "execution_count": 114,
   "id": "ff165bc7",
   "metadata": {},
   "outputs": [],
   "source": [
    "opt_weights = [float(i) for i in minimized_risk.x]"
   ]
  },
  {
   "cell_type": "code",
   "execution_count": null,
   "id": "acbc4c4a",
   "metadata": {},
   "outputs": [],
   "source": []
  },
  {
   "cell_type": "code",
   "execution_count": 115,
   "id": "e66e6b8a",
   "metadata": {},
   "outputs": [
    {
     "data": {
      "image/png": "[encoded data removed]",
      "text/plain": [
       "<Figure size 640x480 with 1 Axes>"
      ]
     },
     "metadata": {},
     "output_type": "display_data"
    }
   ],
   "source": [
    "import matplotlib.pyplot as plt\n",
    "import seaborn as sns\n",
    "\n",
    "#define data\n",
    "data = opt_weights\n",
    "labels = symbols\n",
    "\n",
    "#define Seaborn color palette to use\n",
    "colors = sns.color_palette('pastel')[0:5]\n",
    "\n",
    "#create pie chart\n",
    "plt.pie(data, labels = labels, colors = colors, autopct='%.1f')\n",
    "plt.show()"
   ]
  },
  {
   "cell_type": "markdown",
   "id": "2da488c2",
   "metadata": {},
   "source": [
    "# Beta Calculation"
   ]
  },
  {
   "cell_type": "code",
   "execution_count": 134,
   "id": "632c7c40",
   "metadata": {},
   "outputs": [],
   "source": [
    "def get_return_portfolio(W,stocks):\n",
    "    df = stocks.pct_change()\n",
    "    return np.sum(df[1:] * W,axis=1)"
   ]
  },
  {
   "cell_type": "code",
   "execution_count": 143,
   "id": "10e6367d",
   "metadata": {},
   "outputs": [
    {
     "name": "stdout",
     "output_type": "stream",
     "text": [
      "[*********************100%***********************]  1 of 1 completed\n"
     ]
    }
   ],
   "source": [
    "m= yf.download('SPY', start, end)\n",
    "m= m[['Adj Close']]"
   ]
  },
  {
   "cell_type": "code",
   "execution_count": 153,
   "id": "e8328109",
   "metadata": {},
   "outputs": [],
   "source": [
    "stock = get_return_portfolio(np.array(opt_weights),df[['FDS', 'INVH', 'ROL', 'RBLX', 'HIG']])\n",
    "market = m.pct_change()[1:]"
   ]
  },
  {
   "cell_type": "code",
   "execution_count": 164,
   "id": "591b3259",
   "metadata": {},
   "outputs": [],
   "source": [
    "beta_df =pd.DataFrame({'Stock':stock.values, 'Market':market[\"Adj Close\"].values})"
   ]
  },
  {
   "cell_type": "code",
   "execution_count": 165,
   "id": "75136271",
   "metadata": {},
   "outputs": [
    {
     "name": "stdout",
     "output_type": "stream",
     "text": [
      "Beta for the portfolio:  0.6217\n"
     ]
    }
   ],
   "source": [
    "# for the portfolio \n",
    "beta  = (beta_df[['Stock','Market']].cov()/beta_df['Market'].var()).iloc[0].iloc[1]\n",
    "print('Beta for the portfolio: ', beta.round(4))"
   ]
  },
  {
   "cell_type": "markdown",
   "id": "656863f2",
   "metadata": {},
   "source": [
    "## Individual Betas"
   ]
  },
  {
   "cell_type": "code",
   "execution_count": 178,
   "id": "3fef21da",
   "metadata": {},
   "outputs": [],
   "source": [
    "def beta(stocks_return, market_return):\n",
    "    beta_df =pd.DataFrame({'Stock':stocks_return.values, 'Market':market_return.values})\n",
    "    cov_m = beta_df[['Stock','Market']].cov()\n",
    "    beta =  cov_m / np.std(market_return)\n",
    "    return beta.iloc[0].iloc[1]"
   ]
  },
  {
   "cell_type": "code",
   "execution_count": 179,
   "id": "d9d05495",
   "metadata": {},
   "outputs": [
    {
     "name": "stdout",
     "output_type": "stream",
     "text": [
      "[*********************100%***********************]  1 of 1 completed\n",
      "[*********************100%***********************]  1 of 1 completed\n"
     ]
    }
   ],
   "source": [
    "market_symbol ='SPY'\n",
    "market = yf.download(market_symbol, start=start, end=end)['Adj Close']\n",
    "FDSstock = yf.download('FDS', start=start, end=end)['Adj Close']"
   ]
  },
  {
   "cell_type": "code",
   "execution_count": 182,
   "id": "02b80522",
   "metadata": {},
   "outputs": [
    {
     "name": "stdout",
     "output_type": "stream",
     "text": [
      "FDS Return:  0.010502249000735332\n"
     ]
    }
   ],
   "source": [
    "market_return = market.pct_change().dropna()\n",
    "FDSstock_return = FDSstock.pct_change().dropna()\n",
    "print(\"FDS Return: \", beta(FDSstock_return, market_return))"
   ]
  },
  {
   "cell_type": "code",
   "execution_count": 183,
   "id": "a90988eb",
   "metadata": {},
   "outputs": [
    {
     "data": {
      "text/plain": [
       "['FDS', 'INVH', 'ROL', 'RBLX', 'HIG']"
      ]
     },
     "execution_count": 183,
     "metadata": {},
     "output_type": "execute_result"
    }
   ],
   "source": [
    "symbols"
   ]
  },
  {
   "cell_type": "code",
   "execution_count": 184,
   "id": "77efe039",
   "metadata": {},
   "outputs": [
    {
     "name": "stdout",
     "output_type": "stream",
     "text": [
      "[*********************100%***********************]  1 of 1 completed\n",
      "INVH Return:  0.011389078402327332\n"
     ]
    }
   ],
   "source": [
    "INVHstock = yf.download('INVH', start=start, end=end)['Adj Close']\n",
    "market_return = market.pct_change().dropna()\n",
    "INVHstock_return = INVHstock.pct_change().dropna()\n",
    "print(\"INVH Return: \", beta(INVHstock_return, market_return))"
   ]
  },
  {
   "cell_type": "code",
   "execution_count": 185,
   "id": "6906d1b1",
   "metadata": {},
   "outputs": [
    {
     "name": "stdout",
     "output_type": "stream",
     "text": [
      "[*********************100%***********************]  1 of 1 completed\n",
      "ROL Return:  0.005591673507375275\n"
     ]
    }
   ],
   "source": [
    "ROLstock = yf.download('ROL', start=start, end=end)['Adj Close']\n",
    "market_return = market.pct_change().dropna()\n",
    "ROLstock_return = ROLstock.pct_change().dropna()\n",
    "print(\"ROL Return: \", beta(ROLstock_return, market_return))"
   ]
  },
  {
   "cell_type": "code",
   "execution_count": 186,
   "id": "255e76aa",
   "metadata": {},
   "outputs": [
    {
     "name": "stdout",
     "output_type": "stream",
     "text": [
      "[*********************100%***********************]  1 of 1 completed\n",
      "RBLX Return:  0.023864451277153247\n"
     ]
    }
   ],
   "source": [
    "RBLXstock = yf.download('RBLX', start=start, end=end)['Adj Close']\n",
    "market_return = market.pct_change().dropna()\n",
    "RBLXstock_return = RBLXstock.pct_change().dropna()\n",
    "print(\"RBLX Return: \", beta(RBLXstock_return, market_return))"
   ]
  },
  {
   "cell_type": "code",
   "execution_count": 187,
   "id": "46a31281",
   "metadata": {},
   "outputs": [
    {
     "name": "stdout",
     "output_type": "stream",
     "text": [
      "[*********************100%***********************]  1 of 1 completed\n",
      "HIG Return:  0.00922204720339693\n"
     ]
    }
   ],
   "source": [
    "HIGstock = yf.download('HIG', start=start, end=end)['Adj Close']\n",
    "market_return = market.pct_change().dropna()\n",
    "HIGstock_return = HIGstock.pct_change().dropna()\n",
    "print(\"HIG Return: \", beta(HIGstock_return, market_return))"
   ]
  },
  {
   "cell_type": "markdown",
   "id": "1022fbc1",
   "metadata": {},
   "source": [
    "# Jensen's Index\n",
    " # TODO PLS CHECK"
   ]
  },
  {
   "cell_type": "code",
   "execution_count": 248,
   "id": "2b3da59b",
   "metadata": {},
   "outputs": [],
   "source": [
    "def jensen_indx(tot_return, market_return, beta, risk_free_rate=0.0):\n",
    "    return (tot_return - beta * (market_return-risk_free_rate))/100"
   ]
  },
  {
   "cell_type": "code",
   "execution_count": 235,
   "id": "fd04e602",
   "metadata": {},
   "outputs": [
    {
     "name": "stdout",
     "output_type": "stream",
     "text": [
      "[*********************100%***********************]  1 of 1 completed\n"
     ]
    }
   ],
   "source": [
    "m= yf.download('SPY', start, end)\n",
    "m= m[['Adj Close']]\n",
    "market_return =m.iloc[-1]-m.iloc[0]\n",
    "market_return = market_return[\"Adj Close\"]"
   ]
  },
  {
   "cell_type": "code",
   "execution_count": 250,
   "id": "4ee8fd5d",
   "metadata": {},
   "outputs": [],
   "source": [
    "tot_return = sum(df[['FDS', 'INVH', 'ROL', 'RBLX', 'HIG']].iloc[-1].values* opt_weights) - sum(df[['FDS', 'INVH', 'ROL', 'RBLX', 'HIG']].iloc[0].values* opt_weights)"
   ]
  },
  {
   "cell_type": "code",
   "execution_count": 251,
   "id": "48abc13a",
   "metadata": {},
   "outputs": [
    {
     "data": {
      "text/plain": [
       "-0.32814725013991786"
      ]
     },
     "execution_count": 251,
     "metadata": {},
     "output_type": "execute_result"
    }
   ],
   "source": [
    "beta = 0.6217 # from previous section\n",
    "\n",
    "jensen_indx(tot_return, market_return, beta)"
   ]
  }
 ],
 "metadata": {
  "kernelspec": {
   "display_name": "Python 3 (ipykernel)",
   "language": "python",
   "name": "python3"
  },
  "language_info": {
   "codemirror_mode": {
    "name": "ipython",
    "version": 3
   },
   "file_extension": ".py",
   "mimetype": "text/x-python",
   "name": "python",
   "nbconvert_exporter": "python",
   "pygments_lexer": "ipython3",
   "version": "3.11.3"
  }
 },
 "nbformat": 4,
 "nbformat_minor": 5
}
