{
 "cells": [
  {
   "cell_type": "markdown",
   "id": "c3365c1e",
   "metadata": {},
   "source": [
    "# Weekly Rate of Return, Sharpe, Jensen, Betas, and Mean Variance Weights"
   ]
  },
  {
   "cell_type": "code",
   "execution_count": 1,
   "id": "fa76b046",
   "metadata": {},
   "outputs": [],
   "source": [
    "import numpy as np\n",
    "import pandas as pd\n",
    "import matplotlib.pyplot as plt\n",
    "import matplotlib.mlab as mlab\n",
    "import seaborn as sns\n",
    "from tabulate import tabulate\n",
    "import math\n",
    "from scipy.stats import norm\n",
    "\n",
    "import warnings\n",
    "warnings.filterwarnings(\"ignore\")\n",
    "\n",
    "# yahoo_finance is used to fetch data \n",
    "import yfinance as yf"
   ]
  },
  {
   "cell_type": "code",
   "execution_count": 2,
   "id": "953b5ce3",
   "metadata": {},
   "outputs": [
    {
     "name": "stdout",
     "output_type": "stream",
     "text": [
      "[*********************100%***********************]  6 of 6 completed\n"
     ]
    }
   ],
   "source": [
    "from datetime import datetime\n",
    "from dateutil.relativedelta import relativedelta\n",
    "\n",
    "one_yr_ago = datetime.now() - relativedelta(years=1)\n",
    "one_yr_ago = one_yr_ago.strftime(\"%Y-%m-%d\")\n",
    "\n",
    "start = one_yr_ago \n",
    "end = '2023-07-31'\n",
    "symbols = ['FDS','INVH', 'ROL', 'RBLX', 'HIG', 'SNOW']\n",
    "all_df = yf.download(symbols, start, end)['Adj Close']"
   ]
  },
  {
   "cell_type": "code",
   "execution_count": 3,
   "id": "9f705ff6",
   "metadata": {},
   "outputs": [
    {
     "name": "stdout",
     "output_type": "stream",
     "text": [
      "[*********************100%***********************]  6 of 6 completed\n"
     ]
    }
   ],
   "source": [
    "all_df = yf.download(symbols, start, end)['Adj Close']"
   ]
  },
  {
   "cell_type": "code",
   "execution_count": 4,
   "id": "0045d1f7",
   "metadata": {},
   "outputs": [],
   "source": [
    "df = all_df[symbols]\n",
    "df = df.reset_index() "
   ]
  },
  {
   "cell_type": "code",
   "execution_count": 5,
   "id": "7dde4470",
   "metadata": {},
   "outputs": [
    {
     "data": {
      "text/html": [
       "<div>\n",
       "<style scoped>\n",
       "    .dataframe tbody tr th:only-of-type {\n",
       "        vertical-align: middle;\n",
       "    }\n",
       "\n",
       "    .dataframe tbody tr th {\n",
       "        vertical-align: top;\n",
       "    }\n",
       "\n",
       "    .dataframe thead th {\n",
       "        text-align: right;\n",
       "    }\n",
       "</style>\n",
       "<table border=\"1\" class=\"dataframe\">\n",
       "  <thead>\n",
       "    <tr style=\"text-align: right;\">\n",
       "      <th></th>\n",
       "      <th>Date</th>\n",
       "      <th>FDS</th>\n",
       "      <th>INVH</th>\n",
       "      <th>ROL</th>\n",
       "      <th>RBLX</th>\n",
       "      <th>HIG</th>\n",
       "      <th>SNOW</th>\n",
       "    </tr>\n",
       "  </thead>\n",
       "  <tbody>\n",
       "    <tr>\n",
       "      <th>0</th>\n",
       "      <td>2022-08-05</td>\n",
       "      <td>419.673248</td>\n",
       "      <td>36.814873</td>\n",
       "      <td>37.131447</td>\n",
       "      <td>49.240002</td>\n",
       "      <td>62.684643</td>\n",
       "      <td>165.529999</td>\n",
       "    </tr>\n",
       "    <tr>\n",
       "      <th>1</th>\n",
       "      <td>2022-08-08</td>\n",
       "      <td>419.911163</td>\n",
       "      <td>37.069038</td>\n",
       "      <td>37.309208</td>\n",
       "      <td>48.900002</td>\n",
       "      <td>63.114517</td>\n",
       "      <td>170.850006</td>\n",
       "    </tr>\n",
       "    <tr>\n",
       "      <th>2</th>\n",
       "      <td>2022-08-09</td>\n",
       "      <td>420.109467</td>\n",
       "      <td>37.587147</td>\n",
       "      <td>36.675507</td>\n",
       "      <td>47.349998</td>\n",
       "      <td>64.247841</td>\n",
       "      <td>160.550003</td>\n",
       "    </tr>\n",
       "    <tr>\n",
       "      <th>3</th>\n",
       "      <td>2022-08-10</td>\n",
       "      <td>431.163666</td>\n",
       "      <td>38.066147</td>\n",
       "      <td>36.962658</td>\n",
       "      <td>48.009998</td>\n",
       "      <td>65.283470</td>\n",
       "      <td>174.399994</td>\n",
       "    </tr>\n",
       "    <tr>\n",
       "      <th>4</th>\n",
       "      <td>2022-08-11</td>\n",
       "      <td>429.428711</td>\n",
       "      <td>38.017269</td>\n",
       "      <td>36.289349</td>\n",
       "      <td>49.560001</td>\n",
       "      <td>66.104164</td>\n",
       "      <td>167.880005</td>\n",
       "    </tr>\n",
       "    <tr>\n",
       "      <th>...</th>\n",
       "      <td>...</td>\n",
       "      <td>...</td>\n",
       "      <td>...</td>\n",
       "      <td>...</td>\n",
       "      <td>...</td>\n",
       "      <td>...</td>\n",
       "      <td>...</td>\n",
       "    </tr>\n",
       "    <tr>\n",
       "      <th>241</th>\n",
       "      <td>2023-07-24</td>\n",
       "      <td>436.739990</td>\n",
       "      <td>36.160000</td>\n",
       "      <td>44.750000</td>\n",
       "      <td>39.549999</td>\n",
       "      <td>74.839996</td>\n",
       "      <td>174.800003</td>\n",
       "    </tr>\n",
       "    <tr>\n",
       "      <th>242</th>\n",
       "      <td>2023-07-25</td>\n",
       "      <td>439.239990</td>\n",
       "      <td>35.549999</td>\n",
       "      <td>44.830002</td>\n",
       "      <td>39.660000</td>\n",
       "      <td>74.510002</td>\n",
       "      <td>179.289993</td>\n",
       "    </tr>\n",
       "    <tr>\n",
       "      <th>243</th>\n",
       "      <td>2023-07-26</td>\n",
       "      <td>440.420013</td>\n",
       "      <td>35.520000</td>\n",
       "      <td>44.799999</td>\n",
       "      <td>39.950001</td>\n",
       "      <td>75.660004</td>\n",
       "      <td>170.000000</td>\n",
       "    </tr>\n",
       "    <tr>\n",
       "      <th>244</th>\n",
       "      <td>2023-07-27</td>\n",
       "      <td>435.440002</td>\n",
       "      <td>34.889999</td>\n",
       "      <td>40.820000</td>\n",
       "      <td>37.910000</td>\n",
       "      <td>76.070000</td>\n",
       "      <td>168.270004</td>\n",
       "    </tr>\n",
       "    <tr>\n",
       "      <th>245</th>\n",
       "      <td>2023-07-28</td>\n",
       "      <td>436.510010</td>\n",
       "      <td>35.470001</td>\n",
       "      <td>40.630001</td>\n",
       "      <td>38.930000</td>\n",
       "      <td>72.239998</td>\n",
       "      <td>174.830002</td>\n",
       "    </tr>\n",
       "  </tbody>\n",
       "</table>\n",
       "<p>246 rows × 7 columns</p>\n",
       "</div>"
      ],
      "text/plain": [
       "          Date         FDS       INVH        ROL       RBLX        HIG   \n",
       "0   2022-08-05  419.673248  36.814873  37.131447  49.240002  62.684643  \\\n",
       "1   2022-08-08  419.911163  37.069038  37.309208  48.900002  63.114517   \n",
       "2   2022-08-09  420.109467  37.587147  36.675507  47.349998  64.247841   \n",
       "3   2022-08-10  431.163666  38.066147  36.962658  48.009998  65.283470   \n",
       "4   2022-08-11  429.428711  38.017269  36.289349  49.560001  66.104164   \n",
       "..         ...         ...        ...        ...        ...        ...   \n",
       "241 2023-07-24  436.739990  36.160000  44.750000  39.549999  74.839996   \n",
       "242 2023-07-25  439.239990  35.549999  44.830002  39.660000  74.510002   \n",
       "243 2023-07-26  440.420013  35.520000  44.799999  39.950001  75.660004   \n",
       "244 2023-07-27  435.440002  34.889999  40.820000  37.910000  76.070000   \n",
       "245 2023-07-28  436.510010  35.470001  40.630001  38.930000  72.239998   \n",
       "\n",
       "           SNOW  \n",
       "0    165.529999  \n",
       "1    170.850006  \n",
       "2    160.550003  \n",
       "3    174.399994  \n",
       "4    167.880005  \n",
       "..          ...  \n",
       "241  174.800003  \n",
       "242  179.289993  \n",
       "243  170.000000  \n",
       "244  168.270004  \n",
       "245  174.830002  \n",
       "\n",
       "[246 rows x 7 columns]"
      ]
     },
     "execution_count": 5,
     "metadata": {},
     "output_type": "execute_result"
    }
   ],
   "source": [
    "df"
   ]
  },
  {
   "cell_type": "markdown",
   "id": "efd1bd5a",
   "metadata": {},
   "source": [
    "# Standard Deviation (weekly)"
   ]
  },
  {
   "cell_type": "code",
   "execution_count": 6,
   "id": "fd13aeb1",
   "metadata": {},
   "outputs": [],
   "source": [
    "import numpy as np\n",
    "import pandas as pd\n",
    "import matplotlib.pyplot as plt\n",
    "import seaborn as sns\n",
    "from scipy.optimize import fmin\n",
    "import math\n"
   ]
  },
  {
   "cell_type": "code",
   "execution_count": 7,
   "id": "adc97111",
   "metadata": {},
   "outputs": [],
   "source": [
    "def std_dev_portfolio(weekly_returns, W):\n",
    "    return np.dot(W,  np.array(np.std(weekly_returns, axis=0)))"
   ]
  },
  {
   "cell_type": "code",
   "execution_count": 8,
   "id": "23fe8919",
   "metadata": {},
   "outputs": [],
   "source": [
    "def sharpe_ratio(daily_returns, W,risk_free_rate=0.0):\n",
    "    # Calculate aggregated Sharpe Ratio\n",
    "    daily_sharpe_ratio = (np.dot(W,  np.array(np.mean(daily_returns, axis=0))) - risk_free_rate) \n",
    "    daily_sharpe_ratio = daily_sharpe_ratio/np.dot(W,  np.array(np.std(daily_returns, axis=0)))\n",
    "    sharpe_ratio = daily_sharpe_ratio \n",
    "    return sharpe_ratio"
   ]
  },
  {
   "cell_type": "markdown",
   "id": "c0dd2841",
   "metadata": {},
   "source": [
    "# Sharpe Ratio opt_weights"
   ]
  },
  {
   "cell_type": "code",
   "execution_count": 9,
   "id": "c8d44fd9",
   "metadata": {},
   "outputs": [
    {
     "name": "stdout",
     "output_type": "stream",
     "text": [
      "Symbols:  ['FDS', 'INVH', 'ROL', 'RBLX', 'HIG', 'SNOW']\n",
      "with weights:  [0.344608226, 0.0612683089, 0.0842134112, 2.97174507e-08, 0.381387918, 0.128522106]\n",
      "Portfolio Sharpe ratio:  0.9078\n",
      "Standard deviation:  10.6904%\n"
     ]
    }
   ],
   "source": [
    "print('Symbols: ', symbols)\n",
    "\n",
    "opt_weights = [3.44608226e-01, 6.12683089e-02, 8.42134112e-02, 2.97174507e-08,\n",
    "       3.81387918e-01, 1.28522106e-01]\n",
    "print(\"with weights: \", opt_weights) \n",
    "#tot_returns = df[symbols].pct_change(len(df)-1)\n",
    "tot_return = df[symbols]*opt_weights\n",
    "tot_return = tot_return.pct_change(len(df)-1).iloc[-1].sum()\n",
    "tot_return = tot_return*100 \n",
    "std_dev_port = std_dev_portfolio(df[symbols], opt_weights)\n",
    "sharpe = (tot_return / (std_dev_port))\n",
    "print('Portfolio Sharpe ratio: ',round(sharpe, 4))\n",
    "\n",
    "print('Standard deviation: ',str(round(std_dev_port, 4))+\"%\")"
   ]
  },
  {
   "cell_type": "markdown",
   "id": "e9ffd105",
   "metadata": {},
   "source": [
    "# Sharpe Ratio equal weights"
   ]
  },
  {
   "cell_type": "code",
   "execution_count": 10,
   "id": "2cad4574",
   "metadata": {},
   "outputs": [
    {
     "name": "stdout",
     "output_type": "stream",
     "text": [
      "Portfolio Sharpe ratio:  1.149\n",
      "Standard deviation:  8.4461%\n"
     ]
    }
   ],
   "source": [
    "equal_weighted = [1/len(symbols) for i in range(len(symbols))]\n",
    "tot_return = df[symbols]*equal_weighted\n",
    "tot_return = tot_return.pct_change(len(df)-1).iloc[-1].sum()\n",
    "tot_return = tot_return*100 \n",
    "std_dev_port = std_dev_portfolio(df[symbols], equal_weighted)\n",
    "sharpe = (tot_return / (std_dev_port))\n",
    "print('Portfolio Sharpe ratio: ',round(sharpe, 4))\n",
    "\n",
    "print('Standard deviation: ',str(round(std_dev_port, 4))+\"%\")"
   ]
  },
  {
   "cell_type": "markdown",
   "id": "1022fbc1",
   "metadata": {},
   "source": [
    "# Jensen's Index\n"
   ]
  },
  {
   "cell_type": "code",
   "execution_count": 11,
   "id": "2b3da59b",
   "metadata": {},
   "outputs": [],
   "source": [
    "def jensen_indx(tot_return, market_return, beta, risk_free_rate=0.0):\n",
    "    return (tot_return - (beta * (market_return-risk_free_rate)))"
   ]
  },
  {
   "cell_type": "code",
   "execution_count": 12,
   "id": "c2e5d435",
   "metadata": {},
   "outputs": [],
   "source": [
    "opt_weights = [3.44608226e-01, 6.12683089e-02, 8.42134112e-02, 2.97174507e-08,\n",
    "       3.81387918e-01, 1.28522106e-01]"
   ]
  },
  {
   "cell_type": "code",
   "execution_count": 13,
   "id": "090961ae",
   "metadata": {},
   "outputs": [],
   "source": [
    "stock_returns = df[symbols].pct_change(len(df)-1).iloc[-1]* opt_weights\n",
    "stock_returns = stock_returns.sum()"
   ]
  },
  {
   "cell_type": "code",
   "execution_count": 14,
   "id": "053efc99",
   "metadata": {},
   "outputs": [],
   "source": [
    "df = all_df[symbols]\n",
    "df = df.reset_index()"
   ]
  },
  {
   "cell_type": "code",
   "execution_count": 15,
   "id": "c49d5438",
   "metadata": {},
   "outputs": [],
   "source": [
    "tot_return = df[symbols]*opt_weights\n",
    "tot_return = tot_return.pct_change(len(df)-1).iloc[-1].sum()\n",
    "tot_return = tot_return*100\n",
    "# market S&P return over 5 yrs\n",
    "#  from: https://www.fool.com/investing/how-to-invest/index-funds/average-return/\n",
    "market_return= 10.7  "
   ]
  },
  {
   "cell_type": "code",
   "execution_count": 16,
   "id": "1881d842",
   "metadata": {},
   "outputs": [
    {
     "data": {
      "text/plain": [
       "(9.704476565506969, 10.7)"
      ]
     },
     "execution_count": 16,
     "metadata": {},
     "output_type": "execute_result"
    }
   ],
   "source": [
    "tot_return, market_return,"
   ]
  },
  {
   "cell_type": "code",
   "execution_count": 17,
   "id": "48abc13a",
   "metadata": {},
   "outputs": [
    {
     "name": "stdout",
     "output_type": "stream",
     "text": [
      "Jensen's Index:  -0.1438\n"
     ]
    }
   ],
   "source": [
    "beta = 0.9204 # from previous section\n",
    "\n",
    "j_ind= jensen_indx(tot_return, market_return, beta)\n",
    "print(\"Jensen's Index: \",str(round(j_ind, 4)))"
   ]
  },
  {
   "cell_type": "code",
   "execution_count": null,
   "id": "5f055ee5",
   "metadata": {},
   "outputs": [],
   "source": []
  }
 ],
 "metadata": {
  "kernelspec": {
   "display_name": "Python 3 (ipykernel)",
   "language": "python",
   "name": "python3"
  },
  "language_info": {
   "codemirror_mode": {
    "name": "ipython",
    "version": 3
   },
   "file_extension": ".py",
   "mimetype": "text/x-python",
   "name": "python",
   "nbconvert_exporter": "python",
   "pygments_lexer": "ipython3",
   "version": "3.11.3"
  }
 },
 "nbformat": 4,
 "nbformat_minor": 5
}
