{
 "cells": [
  {
   "cell_type": "markdown",
   "id": "c3365c1e",
   "metadata": {},
   "source": [
    "# Rate of Return for different weights (Market Cap vs Random vs Mean Variance vs LSTM)"
   ]
  },
  {
   "cell_type": "code",
   "execution_count": 1,
   "id": "fa76b046",
   "metadata": {},
   "outputs": [],
   "source": [
    "import numpy as np\n",
    "import pandas as pd\n",
    "import matplotlib.pyplot as plt\n",
    "import matplotlib.mlab as mlab\n",
    "import seaborn as sns\n",
    "from tabulate import tabulate\n",
    "import math\n",
    "from scipy.stats import norm\n",
    "\n",
    "import warnings\n",
    "warnings.filterwarnings(\"ignore\")\n",
    "\n",
    "# yahoo_finance is used to fetch data \n",
    "import yfinance as yf"
   ]
  },
  {
   "cell_type": "code",
   "execution_count": 2,
   "id": "af7dcf89",
   "metadata": {},
   "outputs": [],
   "source": [
    "np.random.seed(99)"
   ]
  },
  {
   "cell_type": "code",
   "execution_count": 3,
   "id": "b5377e32-8e3e-44af-89fb-e514aba23218",
   "metadata": {},
   "outputs": [
    {
     "name": "stdout",
     "output_type": "stream",
     "text": [
      "[*********************100%***********************]  6 of 6 completed\n"
     ]
    }
   ],
   "source": [
    "from datetime import datetime\n",
    "from dateutil.relativedelta import relativedelta\n",
    "\n",
    "one_yr_ago = datetime.now() - relativedelta(years=1)\n",
    "one_yr_ago = one_yr_ago.strftime(\"%Y-%m-%d\")\n",
    "\n",
    "start = one_yr_ago \n",
    "end = datetime.now().strftime(\"%Y-%m-%d\")\n",
    "symbols = ['FDS','INVH', 'ROL', 'RBLX', 'HIG', 'SNOW']\n",
    "\n",
    "all_df = yf.download(symbols, start, end)['Adj Close']\n",
    "\n",
    "df = all_df[['FDS','INVH', 'ROL', 'RBLX', 'HIG', 'SNOW']]"
   ]
  },
  {
   "cell_type": "code",
   "execution_count": 4,
   "id": "1b0854f5",
   "metadata": {},
   "outputs": [],
   "source": [
    "df = df.reset_index() "
   ]
  },
  {
   "cell_type": "markdown",
   "id": "3b54dcc3",
   "metadata": {},
   "source": [
    "# Weekly returns (I assumed rolling average)"
   ]
  },
  {
   "cell_type": "code",
   "execution_count": 5,
   "id": "0c1d3425",
   "metadata": {},
   "outputs": [],
   "source": [
    "weekly_returns = df[['FDS','INVH', 'ROL', 'RBLX', 'HIG','SNOW']].pct_change(periods=5) # go by business days "
   ]
  },
  {
   "cell_type": "code",
   "execution_count": 6,
   "id": "93d93dee",
   "metadata": {},
   "outputs": [],
   "source": [
    "weekly_returns =weekly_returns.dropna()"
   ]
  },
  {
   "cell_type": "code",
   "execution_count": null,
   "id": "540be80d",
   "metadata": {},
   "outputs": [],
   "source": []
  },
  {
   "cell_type": "code",
   "execution_count": 7,
   "id": "ea403902",
   "metadata": {},
   "outputs": [
    {
     "data": {
      "text/plain": [
       "0.0014076376707176793"
      ]
     },
     "execution_count": 7,
     "metadata": {},
     "output_type": "execute_result"
    }
   ],
   "source": [
    "weekly_returns['FDS'].mean()"
   ]
  },
  {
   "cell_type": "code",
   "execution_count": 8,
   "id": "5ca9e649",
   "metadata": {},
   "outputs": [
    {
     "data": {
      "text/plain": [
       "-0.0002908273160938659"
      ]
     },
     "execution_count": 8,
     "metadata": {},
     "output_type": "execute_result"
    }
   ],
   "source": [
    "weekly_returns['INVH'].mean()"
   ]
  },
  {
   "cell_type": "code",
   "execution_count": 9,
   "id": "53afe5d9",
   "metadata": {},
   "outputs": [
    {
     "data": {
      "text/plain": [
       "0.004816420781108757"
      ]
     },
     "execution_count": 9,
     "metadata": {},
     "output_type": "execute_result"
    }
   ],
   "source": [
    "weekly_returns['SNOW'].mean()"
   ]
  },
  {
   "cell_type": "markdown",
   "id": "b84b64cc",
   "metadata": {},
   "source": [
    "# Efficient Portfolio (completly random)"
   ]
  },
  {
   "cell_type": "code",
   "execution_count": 10,
   "id": "9fc2a112",
   "metadata": {},
   "outputs": [],
   "source": [
    "import numpy as np, numpy.random"
   ]
  },
  {
   "cell_type": "code",
   "execution_count": 11,
   "id": "a4db8148",
   "metadata": {},
   "outputs": [
    {
     "name": "stdout",
     "output_type": "stream",
     "text": [
      "random weights:  [0.18447822 0.1107248  0.28869229 0.00528361 0.272936   0.13788509]\n"
     ]
    }
   ],
   "source": [
    "\n",
    "num_assets =  len(symbols)\n",
    "weights = np.random.dirichlet(np.ones(num_assets),size=1)[0]\n",
    "# next : weights = np.array(num_assets * [1. / num_assets,])\n",
    "\n",
    "print(\"random weights: \", weights)\n"
   ]
  },
  {
   "cell_type": "code",
   "execution_count": 12,
   "id": "4cd914b6",
   "metadata": {},
   "outputs": [],
   "source": [
    "opt_weights = [float(i) for i in weights]\n",
    "#opt_weights"
   ]
  },
  {
   "cell_type": "code",
   "execution_count": 13,
   "id": "efe63e72",
   "metadata": {},
   "outputs": [
    {
     "data": {
      "image/png": "[encoded data removed]",
      "text/plain": [
       "<Figure size 640x480 with 1 Axes>"
      ]
     },
     "metadata": {},
     "output_type": "display_data"
    }
   ],
   "source": [
    "import matplotlib.pyplot as plt\n",
    "import seaborn as sns\n",
    "\n",
    "#define data\n",
    "data = opt_weights\n",
    "labels = symbols\n",
    "\n",
    "#define Seaborn color palette to use\n",
    "colors = sns.color_palette('pastel')[0:6]\n",
    "\n",
    "#create pie chart\n",
    "plt.pie(data, labels = labels, colors = colors, autopct='%.1f')\n",
    "plt.show()"
   ]
  },
  {
   "cell_type": "code",
   "execution_count": 14,
   "id": "fbff761c",
   "metadata": {},
   "outputs": [
    {
     "data": {
      "text/plain": [
       "6.7423470385577104"
      ]
     },
     "execution_count": 14,
     "metadata": {},
     "output_type": "execute_result"
    }
   ],
   "source": [
    "tot_return = sum(df[['FDS', 'INVH', 'ROL', 'RBLX', 'HIG','SNOW']].iloc[-1].values* opt_weights) \n",
    "tot_return -= sum(df[['FDS', 'INVH', 'ROL', 'RBLX', 'HIG','SNOW']].iloc[0].values* opt_weights)\n",
    "tot_return"
   ]
  },
  {
   "cell_type": "code",
   "execution_count": 15,
   "id": "fb7a9b8d",
   "metadata": {},
   "outputs": [],
   "source": [
    "random_returns = tot_return"
   ]
  },
  {
   "cell_type": "markdown",
   "id": "eb7cbb0a",
   "metadata": {},
   "source": [
    "# Efficient Portfolio (Market-Cap)"
   ]
  },
  {
   "cell_type": "code",
   "execution_count": 16,
   "id": "613bd831",
   "metadata": {},
   "outputs": [],
   "source": [
    "df_market_cap = pd.DataFrame()\n"
   ]
  },
  {
   "cell_type": "code",
   "execution_count": 17,
   "id": "00f14951",
   "metadata": {},
   "outputs": [],
   "source": [
    "mcstock = []\n",
    "for stock in symbols: \n",
    "    info = yf.Ticker(stock).fast_info\n",
    "    marketcap = info['market_cap']\n",
    "    mcstock.append(marketcap) \n",
    "df_market_cap['Stock'] = symbols\n",
    "df_market_cap['Marketcap'] = mcstock"
   ]
  },
  {
   "cell_type": "code",
   "execution_count": 18,
   "id": "001b8d78",
   "metadata": {},
   "outputs": [
    {
     "data": {
      "text/html": [
       "<div>\n",
       "<style scoped>\n",
       "    .dataframe tbody tr th:only-of-type {\n",
       "        vertical-align: middle;\n",
       "    }\n",
       "\n",
       "    .dataframe tbody tr th {\n",
       "        vertical-align: top;\n",
       "    }\n",
       "\n",
       "    .dataframe thead th {\n",
       "        text-align: right;\n",
       "    }\n",
       "</style>\n",
       "<table border=\"1\" class=\"dataframe\">\n",
       "  <thead>\n",
       "    <tr style=\"text-align: right;\">\n",
       "      <th></th>\n",
       "      <th>Stock</th>\n",
       "      <th>Marketcap</th>\n",
       "    </tr>\n",
       "  </thead>\n",
       "  <tbody>\n",
       "    <tr>\n",
       "      <th>0</th>\n",
       "      <td>FDS</td>\n",
       "      <td>1.651724e+10</td>\n",
       "    </tr>\n",
       "    <tr>\n",
       "      <th>1</th>\n",
       "      <td>INVH</td>\n",
       "      <td>2.160431e+10</td>\n",
       "    </tr>\n",
       "    <tr>\n",
       "      <th>2</th>\n",
       "      <td>ROL</td>\n",
       "      <td>2.005150e+10</td>\n",
       "    </tr>\n",
       "    <tr>\n",
       "      <th>3</th>\n",
       "      <td>RBLX</td>\n",
       "      <td>2.239978e+10</td>\n",
       "    </tr>\n",
       "    <tr>\n",
       "      <th>4</th>\n",
       "      <td>HIG</td>\n",
       "      <td>2.252306e+10</td>\n",
       "    </tr>\n",
       "    <tr>\n",
       "      <th>5</th>\n",
       "      <td>SNOW</td>\n",
       "      <td>5.248620e+10</td>\n",
       "    </tr>\n",
       "  </tbody>\n",
       "</table>\n",
       "</div>"
      ],
      "text/plain": [
       "  Stock     Marketcap\n",
       "0   FDS  1.651724e+10\n",
       "1  INVH  2.160431e+10\n",
       "2   ROL  2.005150e+10\n",
       "3  RBLX  2.239978e+10\n",
       "4   HIG  2.252306e+10\n",
       "5  SNOW  5.248620e+10"
      ]
     },
     "execution_count": 18,
     "metadata": {},
     "output_type": "execute_result"
    }
   ],
   "source": [
    "df_market_cap"
   ]
  },
  {
   "cell_type": "code",
   "execution_count": 19,
   "id": "988eb608",
   "metadata": {},
   "outputs": [],
   "source": [
    "opt_weights = [i/sum(mcstock) for i in mcstock]"
   ]
  },
  {
   "cell_type": "code",
   "execution_count": 20,
   "id": "7494e240",
   "metadata": {},
   "outputs": [
    {
     "data": {
      "image/png": "[encoded data removed]",
      "text/plain": [
       "<Figure size 640x480 with 1 Axes>"
      ]
     },
     "metadata": {},
     "output_type": "display_data"
    }
   ],
   "source": [
    "import matplotlib.pyplot as plt\n",
    "import seaborn as sns\n",
    "\n",
    "#define data\n",
    "data = opt_weights\n",
    "labels = symbols\n",
    "\n",
    "#define Seaborn color palette to use\n",
    "colors = sns.color_palette('pastel')[0:6]\n",
    "\n",
    "#create pie chart\n",
    "plt.pie(data, labels = labels, colors = colors, autopct='%.1f')\n",
    "plt.show()"
   ]
  },
  {
   "cell_type": "code",
   "execution_count": 21,
   "id": "486be19c",
   "metadata": {},
   "outputs": [
    {
     "data": {
      "text/plain": [
       "2.790428730667969"
      ]
     },
     "execution_count": 21,
     "metadata": {},
     "output_type": "execute_result"
    }
   ],
   "source": [
    "tot_return = sum(df[['FDS', 'INVH', 'ROL', 'RBLX', 'HIG','SNOW']].iloc[-1].values* opt_weights) \n",
    "tot_return -= sum(df[['FDS', 'INVH', 'ROL', 'RBLX', 'HIG','SNOW']].iloc[0].values* opt_weights)\n",
    "tot_return"
   ]
  },
  {
   "cell_type": "code",
   "execution_count": 22,
   "id": "475dd92c",
   "metadata": {},
   "outputs": [],
   "source": [
    "marketcap_returns= tot_return"
   ]
  },
  {
   "cell_type": "markdown",
   "id": "5878c15a",
   "metadata": {},
   "source": [
    "# Efficient Portfolio (Mean-Variance) "
   ]
  },
  {
   "cell_type": "code",
   "execution_count": 23,
   "id": "a648f273",
   "metadata": {},
   "outputs": [
    {
     "name": "stdout",
     "output_type": "stream",
     "text": [
      "weights:  [0.16666667 0.16666667 0.16666667 0.16666667 0.16666667 0.16666667]\n",
      "[4.44089210e-15 3.22398358e-15 4.86653517e-01 1.29063427e-15\n",
      " 5.13346483e-01 7.58941521e-16]\n"
     ]
    }
   ],
   "source": [
    "import pandas as pd\n",
    "import numpy as np\n",
    "from scipy.optimize import minimize\n",
    "\n",
    "\n",
    "\n",
    "\n",
    "def portfolio_risk(W, returns):\n",
    "    portfolio_return = np.sum(returns.mean() * W) \n",
    "    portfolio_std_dev = np.sqrt(np.dot(weights.T, np.dot(returns.cov(), W)))\n",
    "    return portfolio_std_dev\n",
    "\n",
    "\n",
    "num_assets =  len(symbols)\n",
    "# for fun: weights = np.random.dirichlet(np.ones(num_assets),size=1)[0]\n",
    "weights = np.array(num_assets * [1. / num_assets,])\n",
    "\n",
    "print(\"weights: \", weights)\n",
    "bounds = tuple((0, 1) for asset in range(num_assets))\n",
    "\n",
    "constraints = [{'type': 'eq', 'fun': lambda weights: np.sum(weights) - 1}]\n",
    "\n",
    "minimized_risk = minimize(portfolio_risk, weights, args=(df[['FDS', 'INVH', 'ROL', 'RBLX', 'HIG','SNOW']].pct_change()), method='SLSQP', bounds=bounds, constraints=constraints)\n",
    "\n",
    "print(minimized_risk.x)"
   ]
  },
  {
   "cell_type": "code",
   "execution_count": 24,
   "id": "ff165bc7",
   "metadata": {},
   "outputs": [],
   "source": [
    "opt_weights = [float(i) for i in minimized_risk.x]"
   ]
  },
  {
   "cell_type": "code",
   "execution_count": 25,
   "id": "acbc4c4a",
   "metadata": {},
   "outputs": [],
   "source": [
    "tot_return = sum(df[['FDS', 'INVH', 'ROL', 'RBLX', 'HIG','SNOW']].iloc[-1].values* opt_weights) - sum(df[['FDS', 'INVH', 'ROL', 'RBLX', 'HIG','SNOW']].iloc[0].values* opt_weights)"
   ]
  },
  {
   "cell_type": "code",
   "execution_count": 26,
   "id": "ae3e6e93",
   "metadata": {},
   "outputs": [
    {
     "data": {
      "text/plain": [
       "6.947087276961909"
      ]
     },
     "execution_count": 26,
     "metadata": {},
     "output_type": "execute_result"
    }
   ],
   "source": [
    "tot_return"
   ]
  },
  {
   "cell_type": "code",
   "execution_count": 27,
   "id": "2861fd2c",
   "metadata": {},
   "outputs": [],
   "source": [
    "mv_return = tot_return"
   ]
  },
  {
   "cell_type": "code",
   "execution_count": 28,
   "id": "b9abe323-6795-4597-9dca-7c468cc6dd5e",
   "metadata": {},
   "outputs": [
    {
     "data": {
      "image/png": "[encoded data removed]",
      "text/plain": [
       "<Figure size 640x480 with 1 Axes>"
      ]
     },
     "metadata": {},
     "output_type": "display_data"
    }
   ],
   "source": [
    "import matplotlib.pyplot as plt\n",
    "import seaborn as sns\n",
    "\n",
    "#define data\n",
    "data = opt_weights\n",
    "labels = symbols\n",
    "\n",
    "#define Seaborn color palette to use\n",
    "colors = sns.color_palette('pastel')[0:6]\n",
    "\n",
    "#create pie chart\n",
    "plt.pie(data, labels = labels, colors = colors, autopct='%.1f')\n",
    "plt.show()"
   ]
  },
  {
   "cell_type": "code",
   "execution_count": 29,
   "id": "fa95f5f4-7b1d-4cec-a40f-dd6bf978c254",
   "metadata": {},
   "outputs": [
    {
     "name": "stdout",
     "output_type": "stream",
     "text": [
      "zsh:1: command not found: conda\r\n"
     ]
    }
   ],
   "source": [
    "!conda install tensorflow"
   ]
  },
  {
   "cell_type": "markdown",
   "id": "54d0e4bf",
   "metadata": {},
   "source": [
    "# Efficient Portfolio (LSTM)"
   ]
  },
  {
   "cell_type": "code",
   "execution_count": 30,
   "id": "d21b1899-5d81-4fbd-8a88-13a4ef7e86ef",
   "metadata": {},
   "outputs": [
    {
     "name": "stderr",
     "output_type": "stream",
     "text": [
      "2023-08-03 19:04:07.746619: I tensorflow/core/platform/cpu_feature_guard.cc:182] This TensorFlow binary is optimized to use available CPU instructions in performance-critical operations.\n",
      "To enable the following instructions: AVX2 FMA, in other operations, rebuild TensorFlow with the appropriate compiler flags.\n"
     ]
    }
   ],
   "source": [
    "import numpy as np\n",
    "import tensorflow as tf\n",
    "import json\n",
    "\n",
    "import datetime as dt\n",
    "from tensorflow.keras.models import Sequential\n",
    "from tensorflow.keras.layers import Dense, Dropout, LSTM\n",
    "from sklearn.neighbors import LocalOutlierFactor\n",
    "from sklearn.feature_selection import f_regression"
   ]
  },
  {
   "cell_type": "code",
   "execution_count": 31,
   "id": "773a2b9b-6b3d-474d-8888-d7a1b91651d0",
   "metadata": {},
   "outputs": [],
   "source": [
    "import numpy as np\n",
    "import tensorflow as tf\n",
    "import json\n",
    "from sklearn.neighbors import LocalOutlierFactor\n",
    "from sklearn.feature_selection import f_regression\n",
    "import datetime as dt\n",
    "from tensorflow.keras.models import Sequential\n",
    "from tensorflow.keras.layers import Dense, Dropout, LSTM\n",
    "def run_sk_lstm_model(normalized_df, prediction_days=25, num_epochs=30, num_batch_size=5):\n",
    "    \"\"\"\n",
    "    Run the SK-LSTM model on the provided normalized DataFrame.\n",
    "\n",
    "    Args:\n",
    "        normalized_df (pandas.DataFrame): The normalized DataFrame.\n",
    "        prediction_days (int): The number of previous days to use for prediction. Default is 20.\n",
    "        num_epochs (int): The number of training epochs. Default is 3.\n",
    "        num_batch_size (int): The batch size for training. Default is 32.\n",
    "\n",
    "    Returns:\n",
    "        tuple: A tuple containing the trained model and the predicted values.\n",
    "\n",
    "    \"\"\"\n",
    "    print(\"prediction_days: \", prediction_days)\n",
    "\n",
    "    # Split the data into input (x) and output (y) variables\n",
    "    x_train, y_train = split_x_data(normalized_df) \n",
    "    print(\"x_train, y_train\", x_train.shape, y_train.shape)\n",
    "\n",
    "    # Convert the data to float32 type\n",
    "    x_train = x_train.astype('float32')\n",
    "    y_train = y_train.astype('float32')\n",
    "\n",
    "    # Get the list of columns to use as input features\n",
    "    vals_to_use = normalized_df.columns.to_list()\n",
    "    fv = len(vals_to_use)\n",
    "\n",
    "    # Define the SK-LSTM model\n",
    "    model = tf.keras.Sequential()\n",
    "    model.add(tf.keras.Input(shape=(prediction_days, fv)))\n",
    "    model.add(tf.keras.layers.LSTM(units=prediction_days))\n",
    "    # if model is over-fitting: model.add(tf.keras.layers.Dropout(0.2))\n",
    "    model.add(tf.keras.layers.Dropout(0.2))\n",
    "    model.add(tf.keras.layers.Dense(fv * prediction_days, activation='linear'))\n",
    "    model.add(tf.keras.layers.Dense(prediction_days, activation=\"relu\"))\n",
    "    model.compile(optimizer=tf.keras.optimizers.SGD(learning_rate=0.1),\n",
    "                  loss=tf.keras.losses.MeanSquaredError(),\n",
    "                  metrics=['mse'])\n",
    "\n",
    "    # Train the model\n",
    "    model.fit(x=x_train, y=y_train,\n",
    "              batch_size=num_batch_size, epochs=num_epochs)\n",
    "\n",
    "    # Predict the output values\n",
    "    y_pred = model.predict(x_train)\n",
    "\n",
    "    return model, y_pred\n",
    "\n",
    "def get_transform(df):\n",
    "    \"\"\"\n",
    "    Apply a transformation to a variable using the maximum and minimum values of a DataFrame.\n",
    "\n",
    "    Args:\n",
    "        df (pandas.DataFrame): The DataFrame used to calculate the maximum and minimum values.\n",
    "\n",
    "    Returns:\n",
    "        The transformed variable.\n",
    "\n",
    "    \"\"\"\n",
    "    return (df-df.min())/(df.max()-df.min())\n",
    "\n",
    "def get_return_scale(df): \n",
    "    \"\"\"\n",
    "    Scales the DataFrame based on a specified target variable.\n",
    "\n",
    "    Args:\n",
    "        df (pandas.DataFrame): The DataFrame\n",
    "\n",
    "    Returns:\n",
    "        np.array: The DataFrame scale.\n",
    "\n",
    "    \"\"\"\n",
    "    fds = df['FDS'].iloc[-1] -df['FDS'].iloc[0]\n",
    "    invh = df['INVH'].iloc[-1] -df['INVH'].iloc[0]\n",
    "    rol = df['ROL'].iloc[-1] -df['ROL'].iloc[0]\n",
    "    rblx = df['RBLX'].iloc[-1] -df['RBLX'].iloc[0]\n",
    "    hig = df['HIG'].iloc[-1] -df['HIG'].iloc[0]\n",
    "    snow = df['SNOW'].iloc[-1] -df['SNOW'].iloc[0]\n",
    "    return_scale = np.array([fds, invh, rol, rblx, hig, snow])\n",
    "    return return_scale\n",
    "\n",
    "def remove_outliers(df):\n",
    "    \"\"\"\n",
    "    Remove outliers from the DataFrame based on a specified target variable.\n",
    "\n",
    "    Args:\n",
    "        df (pandas.DataFrame): The DataFrame to remove outliers from.\n",
    "\n",
    "    Returns:\n",
    "        pandas.DataFrame: The DataFrame with outliers removed.\n",
    "\n",
    "    \"\"\"\n",
    "    X = df.values\n",
    "    cols = [i for i in df.columns]\n",
    "    # identify outliers in the training dataset\n",
    "    lof = LocalOutlierFactor()\n",
    "    yhat = lof.fit_predict(X)\n",
    "    # select all rows that are not outliers\n",
    "    mask = yhat != -1\n",
    "    outliers_removed = df\n",
    "    outliers_removed[\"eff_mask\"] = mask\n",
    "    outliers_removed = outliers_removed[outliers_removed[\"eff_mask\"] == True]\n",
    "    df = outliers_removed\n",
    "    return df[cols]"
   ]
  },
  {
   "cell_type": "code",
   "execution_count": 32,
   "id": "65df1815",
   "metadata": {},
   "outputs": [],
   "source": [
    "def split_x_data(normalized_df, var = \"predict\",prediction_days=25,fv=5):\n",
    "    \"\"\"\n",
    "    Split the data into input (x) and output (y) variables for training an LSTM model.\n",
    "\n",
    "    Args:\n",
    "        normalized_df (pandas.DataFrame): The normalized DataFrame.\n",
    "        prediction_days (int): The number of previous days to use for prediction. Default is 20.\n",
    "        final_x (bool): Whether to return only the final x_train. Default is False.\n",
    "\n",
    "    Returns:\n",
    "        tuple: A tuple containing the input (x_train) and output (y_train) variables.\n",
    "\n",
    "    \"\"\"\n",
    "    #scaled_data = normalized_df.copy(deep=False).values.reshape(-1, fv)\n",
    "    normalized_df[\"predict\"] = np.max(normalized_df.shift(-1),axis=1) \n",
    "        # really dumb monte-carlo-like strategy to invest in one stock each day and predict next value\n",
    "        \n",
    "    vals_to_use = normalized_df.columns.to_list()\n",
    "    fv = len(vals_to_use)\n",
    "    scaled_data = normalized_df.copy(deep=False).values.reshape(-1, fv)\n",
    "    \n",
    "    x_train = []\n",
    "    y_train = []\n",
    "    \n",
    "\n",
    "    var_index = vals_to_use.index(var)\n",
    "\n",
    "    for x in range(prediction_days, len(scaled_data)-prediction_days):\n",
    "        x_train.append(scaled_data[x-prediction_days:x, :])\n",
    "        y_train.append(scaled_data[x:x+prediction_days, var_index])\n",
    "\n",
    "    x_train, y_train = np.array(x_train), np.array(y_train)\n",
    "    print(\"x_train, y_train\", x_train.shape, y_train.shape)\n",
    "    x_train = np.reshape(x_train, (x_train.shape[0], x_train.shape[1], fv))\n",
    "    return x_train, y_train\n"
   ]
  },
  {
   "cell_type": "code",
   "execution_count": 33,
   "id": "c82e29da",
   "metadata": {},
   "outputs": [],
   "source": [
    "idx_normalized_df = df[symbols].copy(deep=False)\n",
    "out_df = remove_outliers(idx_normalized_df)\n",
    "normalized_df = get_transform(out_df)\n"
   ]
  },
  {
   "cell_type": "code",
   "execution_count": 34,
   "id": "8bb9f00c",
   "metadata": {},
   "outputs": [
    {
     "data": {
      "text/html": [
       "<div>\n",
       "<style scoped>\n",
       "    .dataframe tbody tr th:only-of-type {\n",
       "        vertical-align: middle;\n",
       "    }\n",
       "\n",
       "    .dataframe tbody tr th {\n",
       "        vertical-align: top;\n",
       "    }\n",
       "\n",
       "    .dataframe thead th {\n",
       "        text-align: right;\n",
       "    }\n",
       "</style>\n",
       "<table border=\"1\" class=\"dataframe\">\n",
       "  <thead>\n",
       "    <tr style=\"text-align: right;\">\n",
       "      <th></th>\n",
       "      <th>FDS</th>\n",
       "      <th>INVH</th>\n",
       "      <th>ROL</th>\n",
       "      <th>RBLX</th>\n",
       "      <th>HIG</th>\n",
       "      <th>SNOW</th>\n",
       "    </tr>\n",
       "  </thead>\n",
       "  <tbody>\n",
       "    <tr>\n",
       "      <th>0</th>\n",
       "      <td>0.407931</td>\n",
       "      <td>0.765039</td>\n",
       "      <td>0.383054</td>\n",
       "      <td>0.833934</td>\n",
       "      <td>0.130618</td>\n",
       "      <td>0.534022</td>\n",
       "    </tr>\n",
       "    <tr>\n",
       "      <th>1</th>\n",
       "      <td>0.434449</td>\n",
       "      <td>0.787003</td>\n",
       "      <td>0.338095</td>\n",
       "      <td>0.872349</td>\n",
       "      <td>0.113620</td>\n",
       "      <td>0.512955</td>\n",
       "    </tr>\n",
       "    <tr>\n",
       "      <th>2</th>\n",
       "      <td>0.417574</td>\n",
       "      <td>0.783489</td>\n",
       "      <td>0.325990</td>\n",
       "      <td>0.923569</td>\n",
       "      <td>0.168331</td>\n",
       "      <td>0.575373</td>\n",
       "    </tr>\n",
       "    <tr>\n",
       "      <th>3</th>\n",
       "      <td>0.420329</td>\n",
       "      <td>0.806466</td>\n",
       "      <td>0.341553</td>\n",
       "      <td>0.909964</td>\n",
       "      <td>0.191703</td>\n",
       "      <td>0.644988</td>\n",
       "    </tr>\n",
       "    <tr>\n",
       "      <th>4</th>\n",
       "      <td>0.422625</td>\n",
       "      <td>0.853303</td>\n",
       "      <td>0.286073</td>\n",
       "      <td>0.847939</td>\n",
       "      <td>0.253319</td>\n",
       "      <td>0.510207</td>\n",
       "    </tr>\n",
       "    <tr>\n",
       "      <th>...</th>\n",
       "      <td>...</td>\n",
       "      <td>...</td>\n",
       "      <td>...</td>\n",
       "      <td>...</td>\n",
       "      <td>...</td>\n",
       "      <td>...</td>\n",
       "    </tr>\n",
       "    <tr>\n",
       "      <th>246</th>\n",
       "      <td>0.600135</td>\n",
       "      <td>0.609480</td>\n",
       "      <td>0.648924</td>\n",
       "      <td>0.470188</td>\n",
       "      <td>0.896065</td>\n",
       "      <td>0.611228</td>\n",
       "    </tr>\n",
       "    <tr>\n",
       "      <th>247</th>\n",
       "      <td>0.612524</td>\n",
       "      <td>0.661913</td>\n",
       "      <td>0.632289</td>\n",
       "      <td>0.511004</td>\n",
       "      <td>0.687836</td>\n",
       "      <td>0.697069</td>\n",
       "    </tr>\n",
       "    <tr>\n",
       "      <th>248</th>\n",
       "      <td>0.595503</td>\n",
       "      <td>0.664625</td>\n",
       "      <td>0.649799</td>\n",
       "      <td>0.523809</td>\n",
       "      <td>0.668263</td>\n",
       "      <td>0.734755</td>\n",
       "    </tr>\n",
       "    <tr>\n",
       "      <th>249</th>\n",
       "      <td>0.578714</td>\n",
       "      <td>0.651969</td>\n",
       "      <td>0.632289</td>\n",
       "      <td>0.531012</td>\n",
       "      <td>0.674244</td>\n",
       "      <td>0.719969</td>\n",
       "    </tr>\n",
       "    <tr>\n",
       "      <th>250</th>\n",
       "      <td>0.584619</td>\n",
       "      <td>0.659201</td>\n",
       "      <td>0.690948</td>\n",
       "      <td>0.458984</td>\n",
       "      <td>0.685117</td>\n",
       "      <td>0.563203</td>\n",
       "    </tr>\n",
       "  </tbody>\n",
       "</table>\n",
       "<p>251 rows × 6 columns</p>\n",
       "</div>"
      ],
      "text/plain": [
       "          FDS      INVH       ROL      RBLX       HIG      SNOW\n",
       "0    0.407931  0.765039  0.383054  0.833934  0.130618  0.534022\n",
       "1    0.434449  0.787003  0.338095  0.872349  0.113620  0.512955\n",
       "2    0.417574  0.783489  0.325990  0.923569  0.168331  0.575373\n",
       "3    0.420329  0.806466  0.341553  0.909964  0.191703  0.644988\n",
       "4    0.422625  0.853303  0.286073  0.847939  0.253319  0.510207\n",
       "..        ...       ...       ...       ...       ...       ...\n",
       "246  0.600135  0.609480  0.648924  0.470188  0.896065  0.611228\n",
       "247  0.612524  0.661913  0.632289  0.511004  0.687836  0.697069\n",
       "248  0.595503  0.664625  0.649799  0.523809  0.668263  0.734755\n",
       "249  0.578714  0.651969  0.632289  0.531012  0.674244  0.719969\n",
       "250  0.584619  0.659201  0.690948  0.458984  0.685117  0.563203\n",
       "\n",
       "[251 rows x 6 columns]"
      ]
     },
     "execution_count": 34,
     "metadata": {},
     "output_type": "execute_result"
    }
   ],
   "source": [
    "normalized_df"
   ]
  },
  {
   "cell_type": "code",
   "execution_count": 54,
   "id": "7b2c3d6e",
   "metadata": {},
   "outputs": [
    {
     "name": "stdout",
     "output_type": "stream",
     "text": [
      "prediction_days:  25\n",
      "x_train, y_train (201, 25, 7) (201, 25)\n",
      "x_train, y_train (201, 25, 7) (201, 25)\n",
      "Epoch 1/30\n",
      "41/41 [==============================] - 2s 5ms/step - loss: 0.3047 - mse: 0.3047\n",
      "Epoch 2/30\n",
      "41/41 [==============================] - 0s 5ms/step - loss: 0.1800 - mse: 0.1800\n",
      "Epoch 3/30\n",
      "41/41 [==============================] - 0s 5ms/step - loss: 0.1514 - mse: 0.1514\n",
      "Epoch 4/30\n",
      "41/41 [==============================] - 0s 5ms/step - loss: 0.0961 - mse: 0.0961\n",
      "Epoch 5/30\n",
      "41/41 [==============================] - 0s 5ms/step - loss: 0.0922 - mse: 0.0922\n",
      "Epoch 6/30\n",
      "41/41 [==============================] - 0s 5ms/step - loss: 0.0922 - mse: 0.0922\n",
      "Epoch 7/30\n",
      "41/41 [==============================] - 0s 5ms/step - loss: 0.0910 - mse: 0.0910\n",
      "Epoch 8/30\n",
      "41/41 [==============================] - 0s 6ms/step - loss: 0.0905 - mse: 0.0905\n",
      "Epoch 9/30\n",
      "41/41 [==============================] - 0s 5ms/step - loss: 0.0896 - mse: 0.0896\n",
      "Epoch 10/30\n",
      "41/41 [==============================] - 0s 5ms/step - loss: 0.0896 - mse: 0.0896\n",
      "Epoch 11/30\n",
      "41/41 [==============================] - 0s 5ms/step - loss: 0.0887 - mse: 0.0887\n",
      "Epoch 12/30\n",
      "41/41 [==============================] - 0s 5ms/step - loss: 0.0895 - mse: 0.0895\n",
      "Epoch 13/30\n",
      "41/41 [==============================] - 0s 5ms/step - loss: 0.0886 - mse: 0.0886\n",
      "Epoch 14/30\n",
      "41/41 [==============================] - 0s 5ms/step - loss: 0.0883 - mse: 0.0883\n",
      "Epoch 15/30\n",
      "41/41 [==============================] - 0s 5ms/step - loss: 0.0873 - mse: 0.0873\n",
      "Epoch 16/30\n",
      "41/41 [==============================] - 0s 5ms/step - loss: 0.0874 - mse: 0.0874\n",
      "Epoch 17/30\n",
      "41/41 [==============================] - 0s 5ms/step - loss: 0.0873 - mse: 0.0873\n",
      "Epoch 18/30\n",
      "41/41 [==============================] - 0s 5ms/step - loss: 0.0873 - mse: 0.0873\n",
      "Epoch 19/30\n",
      "41/41 [==============================] - 0s 5ms/step - loss: 0.0871 - mse: 0.0871\n",
      "Epoch 20/30\n",
      "41/41 [==============================] - 0s 5ms/step - loss: 0.0870 - mse: 0.0870\n",
      "Epoch 21/30\n",
      "41/41 [==============================] - 0s 5ms/step - loss: 0.0868 - mse: 0.0868\n",
      "Epoch 22/30\n",
      "41/41 [==============================] - 0s 5ms/step - loss: 0.0858 - mse: 0.0858\n",
      "Epoch 23/30\n",
      "41/41 [==============================] - 0s 5ms/step - loss: 0.0864 - mse: 0.0864\n",
      "Epoch 24/30\n",
      "41/41 [==============================] - 0s 5ms/step - loss: 0.0864 - mse: 0.0864\n",
      "Epoch 25/30\n",
      "41/41 [==============================] - 0s 5ms/step - loss: 0.0852 - mse: 0.0852\n",
      "Epoch 26/30\n",
      "41/41 [==============================] - 0s 5ms/step - loss: 0.0859 - mse: 0.0859\n",
      "Epoch 27/30\n",
      "41/41 [==============================] - 0s 5ms/step - loss: 0.0856 - mse: 0.0856\n",
      "Epoch 28/30\n",
      "41/41 [==============================] - 0s 5ms/step - loss: 0.0852 - mse: 0.0852\n",
      "Epoch 29/30\n",
      "41/41 [==============================] - 0s 5ms/step - loss: 0.0857 - mse: 0.0857\n",
      "Epoch 30/30\n",
      "41/41 [==============================] - 0s 5ms/step - loss: 0.0853 - mse: 0.0853\n",
      "7/7 [==============================] - 0s 2ms/step\n"
     ]
    }
   ],
   "source": [
    "model, y_pred = run_sk_lstm_model(normalized_df,num_epochs=30)"
   ]
  },
  {
   "cell_type": "code",
   "execution_count": 55,
   "id": "8cd0f41b",
   "metadata": {},
   "outputs": [
    {
     "data": {
      "text/plain": [
       "<matplotlib.legend.Legend at 0x13a421210>"
      ]
     },
     "execution_count": 55,
     "metadata": {},
     "output_type": "execute_result"
    },
    {
     "data": {
      "image/png": "[encoded data removed]",
      "text/plain": [
       "<Figure size 640x480 with 1 Axes>"
      ]
     },
     "metadata": {},
     "output_type": "display_data"
    }
   ],
   "source": [
    "import matplotlib.pyplot as plt\n",
    "plt.plot(np.mean(y_pred,axis=1),label='y_pred',alpha=0.5)\n",
    "plt.plot(normalized_df['predict'].values[25:],label='y',alpha=0.5)\n",
    "plt.legend()"
   ]
  },
  {
   "cell_type": "code",
   "execution_count": 56,
   "id": "8a57d69f",
   "metadata": {},
   "outputs": [],
   "source": [
    "\n",
    "v = model.layers[-1].get_weights()[0]\n",
    "v = np.sum(v, axis=1)\n",
    "biases = v.reshape(7,-1)\n",
    "values = np.mean(biases, axis=1)\n"
   ]
  },
  {
   "cell_type": "code",
   "execution_count": 57,
   "id": "dcbc9e49",
   "metadata": {},
   "outputs": [],
   "source": [
    "values = values[:6]"
   ]
  },
  {
   "cell_type": "code",
   "execution_count": 58,
   "id": "745e89ae",
   "metadata": {},
   "outputs": [],
   "source": [
    "values = (values - np.min(values))/ np.max(values)"
   ]
  },
  {
   "cell_type": "code",
   "execution_count": 60,
   "id": "3a382ce3",
   "metadata": {},
   "outputs": [],
   "source": [
    "values /= np.sum(values)"
   ]
  },
  {
   "cell_type": "code",
   "execution_count": 61,
   "id": "1c46baf1",
   "metadata": {},
   "outputs": [],
   "source": [
    "opt_weights = values"
   ]
  },
  {
   "cell_type": "code",
   "execution_count": 64,
   "id": "a9307245",
   "metadata": {},
   "outputs": [],
   "source": [
    "return_scale = get_return_scale(df)"
   ]
  },
  {
   "cell_type": "code",
   "execution_count": 65,
   "id": "f0bfc53a",
   "metadata": {},
   "outputs": [
    {
     "data": {
      "text/plain": [
       "array([ 0.17786641, -0.16606974,  0.50133007, -0.        ,  0.45586713,\n",
       "        0.03100613])"
      ]
     },
     "execution_count": 65,
     "metadata": {},
     "output_type": "execute_result"
    }
   ],
   "source": [
    "opt_weights = opt_weights*return_scale\n",
    "opt_weights = (opt_weights - np.min(opt_weights))/ np.max(opt_weights)\n",
    "opt_weights /= np.sum(opt_weights)\n",
    "opt_weights"
   ]
  },
  {
   "cell_type": "code",
   "execution_count": 66,
   "id": "841304af",
   "metadata": {},
   "outputs": [
    {
     "data": {
      "text/plain": [
       "array([1.61469688e+00, 5.37972711e-01, 8.45160352e-01, 6.55327234e-04,\n",
       "       1.28306746e+00, 7.60835568e-01])"
      ]
     },
     "execution_count": 66,
     "metadata": {},
     "output_type": "execute_result"
    }
   ],
   "source": [
    "return_scale = (return_scale - np.min(return_scale)+0.01)/ np.max(return_scale)\n",
    "return_scale"
   ]
  },
  {
   "cell_type": "code",
   "execution_count": 67,
   "id": "95e55876",
   "metadata": {},
   "outputs": [],
   "source": [
    "return_scale /= np.sum(return_scale)"
   ]
  },
  {
   "cell_type": "code",
   "execution_count": 68,
   "id": "78dbd246",
   "metadata": {},
   "outputs": [
    {
     "ename": "ValueError",
     "evalue": "Wedge sizes 'x' must be non negative values",
     "output_type": "error",
     "traceback": [
      "\u001b[0;31m---------------------------------------------------------------------------\u001b[0m",
      "\u001b[0;31mValueError\u001b[0m                                Traceback (most recent call last)",
      "Cell \u001b[0;32mIn[68], line 12\u001b[0m\n\u001b[1;32m      9\u001b[0m colors \u001b[38;5;241m=\u001b[39m sns\u001b[38;5;241m.\u001b[39mcolor_palette(\u001b[38;5;124m'\u001b[39m\u001b[38;5;124mpastel\u001b[39m\u001b[38;5;124m'\u001b[39m)[\u001b[38;5;241m0\u001b[39m:\u001b[38;5;241m5\u001b[39m]\n\u001b[1;32m     11\u001b[0m \u001b[38;5;66;03m#create pie chart\u001b[39;00m\n\u001b[0;32m---> 12\u001b[0m \u001b[43mplt\u001b[49m\u001b[38;5;241;43m.\u001b[39;49m\u001b[43mpie\u001b[49m\u001b[43m(\u001b[49m\u001b[43mdata\u001b[49m\u001b[43m,\u001b[49m\u001b[43m \u001b[49m\u001b[43mlabels\u001b[49m\u001b[43m \u001b[49m\u001b[38;5;241;43m=\u001b[39;49m\u001b[43m \u001b[49m\u001b[43mlabels\u001b[49m\u001b[43m,\u001b[49m\u001b[43m \u001b[49m\u001b[43mcolors\u001b[49m\u001b[43m \u001b[49m\u001b[38;5;241;43m=\u001b[39;49m\u001b[43m \u001b[49m\u001b[43mcolors\u001b[49m\u001b[43m,\u001b[49m\u001b[43m \u001b[49m\u001b[43mautopct\u001b[49m\u001b[38;5;241;43m=\u001b[39;49m\u001b[38;5;124;43m'\u001b[39;49m\u001b[38;5;132;43;01m%.1f\u001b[39;49;00m\u001b[38;5;124;43m'\u001b[39;49m\u001b[43m)\u001b[49m\n\u001b[1;32m     13\u001b[0m plt\u001b[38;5;241m.\u001b[39mshow()\n",
      "File \u001b[0;32m/Library/Frameworks/Python.framework/Versions/3.11/lib/python3.11/site-packages/matplotlib/pyplot.py:2799\u001b[0m, in \u001b[0;36mpie\u001b[0;34m(x, explode, labels, colors, autopct, pctdistance, shadow, labeldistance, startangle, radius, counterclock, wedgeprops, textprops, center, frame, rotatelabels, normalize, hatch, data)\u001b[0m\n\u001b[1;32m   2792\u001b[0m \u001b[38;5;129m@_copy_docstring_and_deprecators\u001b[39m(Axes\u001b[38;5;241m.\u001b[39mpie)\n\u001b[1;32m   2793\u001b[0m \u001b[38;5;28;01mdef\u001b[39;00m \u001b[38;5;21mpie\u001b[39m(\n\u001b[1;32m   2794\u001b[0m         x, explode\u001b[38;5;241m=\u001b[39m\u001b[38;5;28;01mNone\u001b[39;00m, labels\u001b[38;5;241m=\u001b[39m\u001b[38;5;28;01mNone\u001b[39;00m, colors\u001b[38;5;241m=\u001b[39m\u001b[38;5;28;01mNone\u001b[39;00m, autopct\u001b[38;5;241m=\u001b[39m\u001b[38;5;28;01mNone\u001b[39;00m,\n\u001b[0;32m   (...)\u001b[0m\n\u001b[1;32m   2797\u001b[0m         textprops\u001b[38;5;241m=\u001b[39m\u001b[38;5;28;01mNone\u001b[39;00m, center\u001b[38;5;241m=\u001b[39m(\u001b[38;5;241m0\u001b[39m, \u001b[38;5;241m0\u001b[39m), frame\u001b[38;5;241m=\u001b[39m\u001b[38;5;28;01mFalse\u001b[39;00m,\n\u001b[1;32m   2798\u001b[0m         rotatelabels\u001b[38;5;241m=\u001b[39m\u001b[38;5;28;01mFalse\u001b[39;00m, \u001b[38;5;241m*\u001b[39m, normalize\u001b[38;5;241m=\u001b[39m\u001b[38;5;28;01mTrue\u001b[39;00m, hatch\u001b[38;5;241m=\u001b[39m\u001b[38;5;28;01mNone\u001b[39;00m, data\u001b[38;5;241m=\u001b[39m\u001b[38;5;28;01mNone\u001b[39;00m):\n\u001b[0;32m-> 2799\u001b[0m     \u001b[38;5;28;01mreturn\u001b[39;00m \u001b[43mgca\u001b[49m\u001b[43m(\u001b[49m\u001b[43m)\u001b[49m\u001b[38;5;241;43m.\u001b[39;49m\u001b[43mpie\u001b[49m\u001b[43m(\u001b[49m\n\u001b[1;32m   2800\u001b[0m \u001b[43m        \u001b[49m\u001b[43mx\u001b[49m\u001b[43m,\u001b[49m\u001b[43m \u001b[49m\u001b[43mexplode\u001b[49m\u001b[38;5;241;43m=\u001b[39;49m\u001b[43mexplode\u001b[49m\u001b[43m,\u001b[49m\u001b[43m \u001b[49m\u001b[43mlabels\u001b[49m\u001b[38;5;241;43m=\u001b[39;49m\u001b[43mlabels\u001b[49m\u001b[43m,\u001b[49m\u001b[43m \u001b[49m\u001b[43mcolors\u001b[49m\u001b[38;5;241;43m=\u001b[39;49m\u001b[43mcolors\u001b[49m\u001b[43m,\u001b[49m\n\u001b[1;32m   2801\u001b[0m \u001b[43m        \u001b[49m\u001b[43mautopct\u001b[49m\u001b[38;5;241;43m=\u001b[39;49m\u001b[43mautopct\u001b[49m\u001b[43m,\u001b[49m\u001b[43m \u001b[49m\u001b[43mpctdistance\u001b[49m\u001b[38;5;241;43m=\u001b[39;49m\u001b[43mpctdistance\u001b[49m\u001b[43m,\u001b[49m\u001b[43m \u001b[49m\u001b[43mshadow\u001b[49m\u001b[38;5;241;43m=\u001b[39;49m\u001b[43mshadow\u001b[49m\u001b[43m,\u001b[49m\n\u001b[1;32m   2802\u001b[0m \u001b[43m        \u001b[49m\u001b[43mlabeldistance\u001b[49m\u001b[38;5;241;43m=\u001b[39;49m\u001b[43mlabeldistance\u001b[49m\u001b[43m,\u001b[49m\u001b[43m \u001b[49m\u001b[43mstartangle\u001b[49m\u001b[38;5;241;43m=\u001b[39;49m\u001b[43mstartangle\u001b[49m\u001b[43m,\u001b[49m\n\u001b[1;32m   2803\u001b[0m \u001b[43m        \u001b[49m\u001b[43mradius\u001b[49m\u001b[38;5;241;43m=\u001b[39;49m\u001b[43mradius\u001b[49m\u001b[43m,\u001b[49m\u001b[43m \u001b[49m\u001b[43mcounterclock\u001b[49m\u001b[38;5;241;43m=\u001b[39;49m\u001b[43mcounterclock\u001b[49m\u001b[43m,\u001b[49m\n\u001b[1;32m   2804\u001b[0m \u001b[43m        \u001b[49m\u001b[43mwedgeprops\u001b[49m\u001b[38;5;241;43m=\u001b[39;49m\u001b[43mwedgeprops\u001b[49m\u001b[43m,\u001b[49m\u001b[43m \u001b[49m\u001b[43mtextprops\u001b[49m\u001b[38;5;241;43m=\u001b[39;49m\u001b[43mtextprops\u001b[49m\u001b[43m,\u001b[49m\u001b[43m \u001b[49m\u001b[43mcenter\u001b[49m\u001b[38;5;241;43m=\u001b[39;49m\u001b[43mcenter\u001b[49m\u001b[43m,\u001b[49m\n\u001b[1;32m   2805\u001b[0m \u001b[43m        \u001b[49m\u001b[43mframe\u001b[49m\u001b[38;5;241;43m=\u001b[39;49m\u001b[43mframe\u001b[49m\u001b[43m,\u001b[49m\u001b[43m \u001b[49m\u001b[43mrotatelabels\u001b[49m\u001b[38;5;241;43m=\u001b[39;49m\u001b[43mrotatelabels\u001b[49m\u001b[43m,\u001b[49m\u001b[43m \u001b[49m\u001b[43mnormalize\u001b[49m\u001b[38;5;241;43m=\u001b[39;49m\u001b[43mnormalize\u001b[49m\u001b[43m,\u001b[49m\n\u001b[1;32m   2806\u001b[0m \u001b[43m        \u001b[49m\u001b[43mhatch\u001b[49m\u001b[38;5;241;43m=\u001b[39;49m\u001b[43mhatch\u001b[49m\u001b[43m,\u001b[49m\u001b[43m \u001b[49m\u001b[38;5;241;43m*\u001b[39;49m\u001b[38;5;241;43m*\u001b[39;49m\u001b[43m(\u001b[49m\u001b[43m{\u001b[49m\u001b[38;5;124;43m\"\u001b[39;49m\u001b[38;5;124;43mdata\u001b[39;49m\u001b[38;5;124;43m\"\u001b[39;49m\u001b[43m:\u001b[49m\u001b[43m \u001b[49m\u001b[43mdata\u001b[49m\u001b[43m}\u001b[49m\u001b[43m \u001b[49m\u001b[38;5;28;43;01mif\u001b[39;49;00m\u001b[43m \u001b[49m\u001b[43mdata\u001b[49m\u001b[43m \u001b[49m\u001b[38;5;129;43;01mis\u001b[39;49;00m\u001b[43m \u001b[49m\u001b[38;5;129;43;01mnot\u001b[39;49;00m\u001b[43m \u001b[49m\u001b[38;5;28;43;01mNone\u001b[39;49;00m\u001b[43m \u001b[49m\u001b[38;5;28;43;01melse\u001b[39;49;00m\u001b[43m \u001b[49m\u001b[43m{\u001b[49m\u001b[43m}\u001b[49m\u001b[43m)\u001b[49m\u001b[43m)\u001b[49m\n",
      "File \u001b[0;32m/Library/Frameworks/Python.framework/Versions/3.11/lib/python3.11/site-packages/matplotlib/__init__.py:1442\u001b[0m, in \u001b[0;36m_preprocess_data.<locals>.inner\u001b[0;34m(ax, data, *args, **kwargs)\u001b[0m\n\u001b[1;32m   1439\u001b[0m \u001b[38;5;129m@functools\u001b[39m\u001b[38;5;241m.\u001b[39mwraps(func)\n\u001b[1;32m   1440\u001b[0m \u001b[38;5;28;01mdef\u001b[39;00m \u001b[38;5;21minner\u001b[39m(ax, \u001b[38;5;241m*\u001b[39margs, data\u001b[38;5;241m=\u001b[39m\u001b[38;5;28;01mNone\u001b[39;00m, \u001b[38;5;241m*\u001b[39m\u001b[38;5;241m*\u001b[39mkwargs):\n\u001b[1;32m   1441\u001b[0m     \u001b[38;5;28;01mif\u001b[39;00m data \u001b[38;5;129;01mis\u001b[39;00m \u001b[38;5;28;01mNone\u001b[39;00m:\n\u001b[0;32m-> 1442\u001b[0m         \u001b[38;5;28;01mreturn\u001b[39;00m \u001b[43mfunc\u001b[49m\u001b[43m(\u001b[49m\u001b[43max\u001b[49m\u001b[43m,\u001b[49m\u001b[43m \u001b[49m\u001b[38;5;241;43m*\u001b[39;49m\u001b[38;5;28;43mmap\u001b[39;49m\u001b[43m(\u001b[49m\u001b[43msanitize_sequence\u001b[49m\u001b[43m,\u001b[49m\u001b[43m \u001b[49m\u001b[43margs\u001b[49m\u001b[43m)\u001b[49m\u001b[43m,\u001b[49m\u001b[43m \u001b[49m\u001b[38;5;241;43m*\u001b[39;49m\u001b[38;5;241;43m*\u001b[39;49m\u001b[43mkwargs\u001b[49m\u001b[43m)\u001b[49m\n\u001b[1;32m   1444\u001b[0m     bound \u001b[38;5;241m=\u001b[39m new_sig\u001b[38;5;241m.\u001b[39mbind(ax, \u001b[38;5;241m*\u001b[39margs, \u001b[38;5;241m*\u001b[39m\u001b[38;5;241m*\u001b[39mkwargs)\n\u001b[1;32m   1445\u001b[0m     auto_label \u001b[38;5;241m=\u001b[39m (bound\u001b[38;5;241m.\u001b[39marguments\u001b[38;5;241m.\u001b[39mget(label_namer)\n\u001b[1;32m   1446\u001b[0m                   \u001b[38;5;129;01mor\u001b[39;00m bound\u001b[38;5;241m.\u001b[39mkwargs\u001b[38;5;241m.\u001b[39mget(label_namer))\n",
      "File \u001b[0;32m/Library/Frameworks/Python.framework/Versions/3.11/lib/python3.11/site-packages/matplotlib/axes/_axes.py:3196\u001b[0m, in \u001b[0;36mAxes.pie\u001b[0;34m(self, x, explode, labels, colors, autopct, pctdistance, shadow, labeldistance, startangle, radius, counterclock, wedgeprops, textprops, center, frame, rotatelabels, normalize, hatch)\u001b[0m\n\u001b[1;32m   3193\u001b[0m     \u001b[38;5;28;01mraise\u001b[39;00m \u001b[38;5;167;01mValueError\u001b[39;00m(\u001b[38;5;124m\"\u001b[39m\u001b[38;5;124mx must be 1D\u001b[39m\u001b[38;5;124m\"\u001b[39m)\n\u001b[1;32m   3195\u001b[0m \u001b[38;5;28;01mif\u001b[39;00m np\u001b[38;5;241m.\u001b[39many(x \u001b[38;5;241m<\u001b[39m \u001b[38;5;241m0\u001b[39m):\n\u001b[0;32m-> 3196\u001b[0m     \u001b[38;5;28;01mraise\u001b[39;00m \u001b[38;5;167;01mValueError\u001b[39;00m(\u001b[38;5;124m\"\u001b[39m\u001b[38;5;124mWedge sizes \u001b[39m\u001b[38;5;124m'\u001b[39m\u001b[38;5;124mx\u001b[39m\u001b[38;5;124m'\u001b[39m\u001b[38;5;124m must be non negative values\u001b[39m\u001b[38;5;124m\"\u001b[39m)\n\u001b[1;32m   3198\u001b[0m sx \u001b[38;5;241m=\u001b[39m x\u001b[38;5;241m.\u001b[39msum()\n\u001b[1;32m   3200\u001b[0m \u001b[38;5;28;01mif\u001b[39;00m normalize:\n",
      "\u001b[0;31mValueError\u001b[0m: Wedge sizes 'x' must be non negative values"
     ]
    },
    {
     "data": {
      "image/png": "[encoded data removed]",
      "text/plain": [
       "<Figure size 640x480 with 1 Axes>"
      ]
     },
     "metadata": {},
     "output_type": "display_data"
    }
   ],
   "source": [
    "import matplotlib.pyplot as plt\n",
    "import seaborn as sns\n",
    "\n",
    "#define data\n",
    "data = opt_weights\n",
    "labels = symbols\n",
    "\n",
    "#define Seaborn color palette to use\n",
    "colors = sns.color_palette('pastel')[0:5]\n",
    "\n",
    "#create pie chart\n",
    "plt.pie(data, labels = labels, colors = colors, autopct='%.1f')\n",
    "plt.show()"
   ]
  },
  {
   "cell_type": "markdown",
   "id": "f7b23406",
   "metadata": {},
   "source": [
    "## YAY!!!: improved performance with LSTM predicted importance "
   ]
  },
  {
   "cell_type": "code",
   "execution_count": 48,
   "id": "6a332d85",
   "metadata": {},
   "outputs": [
    {
     "data": {
      "text/plain": [
       "8.28149655427626"
      ]
     },
     "execution_count": 48,
     "metadata": {},
     "output_type": "execute_result"
    }
   ],
   "source": [
    "# Better than return scale on its own \n",
    "tot_return = sum(df[symbols].iloc[-1].values* return_scale) \n",
    "tot_return -= sum(df[symbols].iloc[0].values* return_scale)\n",
    "tot_return"
   ]
  },
  {
   "cell_type": "code",
   "execution_count": 49,
   "id": "47c7db12",
   "metadata": {},
   "outputs": [
    {
     "data": {
      "text/plain": [
       "8.1737769305673"
      ]
     },
     "execution_count": 49,
     "metadata": {},
     "output_type": "execute_result"
    }
   ],
   "source": [
    "tot_return = sum(df[symbols].iloc[-1].values* opt_weights) \n",
    "tot_return -= sum(df[symbols].iloc[0].values* opt_weights)\n",
    "tot_return"
   ]
  },
  {
   "cell_type": "code",
   "execution_count": 50,
   "id": "d47524a3",
   "metadata": {},
   "outputs": [],
   "source": [
    "lstm_return = tot_return"
   ]
  },
  {
   "cell_type": "markdown",
   "id": "298faa83",
   "metadata": {},
   "source": [
    "# RESULTS"
   ]
  },
  {
   "cell_type": "code",
   "execution_count": 51,
   "id": "ac26feae",
   "metadata": {},
   "outputs": [
    {
     "data": {
      "text/html": [
       "<div>\n",
       "<style scoped>\n",
       "    .dataframe tbody tr th:only-of-type {\n",
       "        vertical-align: middle;\n",
       "    }\n",
       "\n",
       "    .dataframe tbody tr th {\n",
       "        vertical-align: top;\n",
       "    }\n",
       "\n",
       "    .dataframe thead th {\n",
       "        text-align: right;\n",
       "    }\n",
       "</style>\n",
       "<table border=\"1\" class=\"dataframe\">\n",
       "  <thead>\n",
       "    <tr style=\"text-align: right;\">\n",
       "      <th></th>\n",
       "      <th>lstm</th>\n",
       "      <th>mean-var</th>\n",
       "      <th>random</th>\n",
       "      <th>marketcap</th>\n",
       "    </tr>\n",
       "    <tr>\n",
       "      <th>returns</th>\n",
       "      <th></th>\n",
       "      <th></th>\n",
       "      <th></th>\n",
       "      <th></th>\n",
       "    </tr>\n",
       "  </thead>\n",
       "  <tbody>\n",
       "    <tr>\n",
       "      <th>0</th>\n",
       "      <td>8.173777</td>\n",
       "      <td>6.947087</td>\n",
       "      <td>6.742347</td>\n",
       "      <td>2.790429</td>\n",
       "    </tr>\n",
       "  </tbody>\n",
       "</table>\n",
       "</div>"
      ],
      "text/plain": [
       "             lstm  mean-var    random  marketcap\n",
       "returns                                         \n",
       "0        8.173777  6.947087  6.742347   2.790429"
      ]
     },
     "execution_count": 51,
     "metadata": {},
     "output_type": "execute_result"
    }
   ],
   "source": [
    "result_df = pd.DataFrame()\n",
    "result_df[\"lstm\"] = [lstm_return]\n",
    "result_df[\"mean-var\"] = [mv_return]\n",
    "result_df[\"random\"] = [random_returns]\n",
    "result_df[\"marketcap\"] = [marketcap_returns]\n",
    "result_df.index.name = \"returns\"\n",
    "result_df"
   ]
  },
  {
   "cell_type": "code",
   "execution_count": 52,
   "id": "d42d990b-50fd-4642-b083-147c6de477d8",
   "metadata": {},
   "outputs": [
    {
     "data": {
      "image/png": "[encoded data removed]",
      "text/plain": [
       "<Figure size 640x480 with 1 Axes>"
      ]
     },
     "metadata": {},
     "output_type": "display_data"
    }
   ],
   "source": [
    "import matplotlib.pyplot as plt\n",
    "\n",
    "fig, ax = plt.subplots()\n",
    "\n",
    "algs = [\"lstm\", \"mean-var\",\"marketcap\",\"random\"]\n",
    "counts = [lstm_return,mv_return,marketcap_returns,random_returns]\n",
    "bar_labels = ['xkcd:poop','xkcd:baby puke green', 'xkcd:baby poop green','xkcd:baby poop']\n",
    "bar_colors = bar_labels\n",
    "\n",
    "ax.bar(algs, counts, label=bar_labels, color=bar_colors)\n",
    "\n",
    "ax.set_ylabel('performance')\n",
    "ax.set_title('Weights vs Returns')\n",
    "# function to add value labels\n",
    "def addlabels(x,y):\n",
    "    for i in range(len(x)):\n",
    "        plt.text(i, y[i], y[i], ha = 'center')\n",
    "addlabels(algs, counts)\n",
    "plt.show()"
   ]
  },
  {
   "cell_type": "code",
   "execution_count": 53,
   "id": "e685c8f3-d658-4df5-a455-618baebbd785",
   "metadata": {},
   "outputs": [
    {
     "ename": "NameError",
     "evalue": "name 'portfolio_weekly_returns' is not defined",
     "output_type": "error",
     "traceback": [
      "\u001b[0;31m---------------------------------------------------------------------------\u001b[0m",
      "\u001b[0;31mNameError\u001b[0m                                 Traceback (most recent call last)",
      "Cell \u001b[0;32mIn[53], line 5\u001b[0m\n\u001b[1;32m      3\u001b[0m \u001b[38;5;66;03m# Calculate total returns\u001b[39;00m\n\u001b[1;32m      4\u001b[0m total_returns \u001b[38;5;241m=\u001b[39m (\u001b[38;5;241m1\u001b[39m \u001b[38;5;241m+\u001b[39m weekly_returns)\u001b[38;5;241m.\u001b[39mcumprod()\u001b[38;5;241m.\u001b[39miloc[\u001b[38;5;241m-\u001b[39m\u001b[38;5;241m1\u001b[39m] \u001b[38;5;241m-\u001b[39m \u001b[38;5;241m1\u001b[39m  \u001b[38;5;66;03m# This gives the total return for each stock\u001b[39;00m\n\u001b[0;32m----> 5\u001b[0m portfolio_total_return \u001b[38;5;241m=\u001b[39m (\u001b[38;5;241m1\u001b[39m \u001b[38;5;241m+\u001b[39m \u001b[43mportfolio_weekly_returns\u001b[49m)\u001b[38;5;241m.\u001b[39mcumprod()\u001b[38;5;241m.\u001b[39miloc[\u001b[38;5;241m-\u001b[39m\u001b[38;5;241m1\u001b[39m] \u001b[38;5;241m-\u001b[39m \u001b[38;5;241m1\u001b[39m  \u001b[38;5;66;03m# This gives the total return of the portfolio\u001b[39;00m\n\u001b[1;32m      7\u001b[0m \u001b[38;5;66;03m# Combine into one Series\u001b[39;00m\n\u001b[1;32m      8\u001b[0m all_returns \u001b[38;5;241m=\u001b[39m total_returns\u001b[38;5;241m.\u001b[39mappend(pd\u001b[38;5;241m.\u001b[39mSeries({\u001b[38;5;124m'\u001b[39m\u001b[38;5;124mPortfolio with Optimal Weights\u001b[39m\u001b[38;5;124m'\u001b[39m: portfolio_total_return}))\n",
      "\u001b[0;31mNameError\u001b[0m: name 'portfolio_weekly_returns' is not defined"
     ]
    }
   ],
   "source": [
    "import matplotlib.pyplot as plt\n",
    "\n",
    "# Calculate total returns\n",
    "total_returns = (1 + weekly_returns).cumprod().iloc[-1] - 1  # This gives the total return for each stock\n",
    "portfolio_total_return = (1 + portfolio_weekly_returns).cumprod().iloc[-1] - 1  # This gives the total return of the portfolio\n",
    "\n",
    "# Combine into one Series\n",
    "all_returns = total_returns.append(pd.Series({'Portfolio with Optimal Weights': portfolio_total_return}))\n",
    "\n",
    "# Create bar chart\n",
    "fig, ax = plt.subplots()\n",
    "bar_labels = ['xkcd:poop','xkcd:baby puke green', 'xkcd:baby poop green','xkcd:baby poop'] + ['xkcd:blue']\n",
    "bar_colors = bar_labels\n",
    "ax.bar(all_returns.index, all_returns, color=bar_colors)\n",
    "\n",
    "ax.set_ylabel('Total Returns')\n",
    "ax.set_title('Total Returns of Portfolio and Individual Stocks')\n",
    "\n",
    "# function to add value labels\n",
    "def addlabels(x,y):\n",
    "    for i in range(len(x)):\n",
    "        plt.text(i, y[i], y[i], ha = 'center')\n",
    "\n",
    "addlabels(all_returns.index, all_returns)\n",
    "plt.xticks(rotation=45)  # This rotates the x-axis labels so they don't overlap\n",
    "plt.show()\n"
   ]
  },
  {
   "cell_type": "code",
   "execution_count": null,
   "id": "54c69e19-dfce-4f01-8832-1e27b0874ff4",
   "metadata": {},
   "outputs": [],
   "source": []
  },
  {
   "cell_type": "code",
   "execution_count": null,
   "id": "30e017fe",
   "metadata": {},
   "outputs": [],
   "source": []
  }
 ],
 "metadata": {
  "kernelspec": {
   "display_name": "Python 3 (ipykernel)",
   "language": "python",
   "name": "python3"
  },
  "language_info": {
   "codemirror_mode": {
    "name": "ipython",
    "version": 3
   },
   "file_extension": ".py",
   "mimetype": "text/x-python",
   "name": "python",
   "nbconvert_exporter": "python",
   "pygments_lexer": "ipython3",
   "version": "3.11.3"
  }
 },
 "nbformat": 4,
 "nbformat_minor": 5
}
