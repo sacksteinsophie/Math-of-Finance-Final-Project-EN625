{
 "cells": [
  {
   "cell_type": "markdown",
   "metadata": {
    "id": "3087-21gZVjJ"
   },
   "source": [
    "\n",
    "\n",
    "---\n",
    "\n"
   ]
  },
  {
   "cell_type": "markdown",
   "metadata": {
    "id": "Ukw5sfe0J7Pq"
   },
   "source": [
    "<h4>Value at risk (VaR)</h4>\n",
    "<p>Estimating the risk of a portfolio is very important to long-term capital growth. There are a lot of techniques to help manage risk, but here we'll be covering 'value at risk' (VaR).</p>\n",
    "<p>There are two main ways to calculate VaR:</p>\n",
    "<ol>\n",
    "<li>Using Monte Carlo simulation</li>\n",
    "<li>Using the <a href=\"https://www.investopedia.com/ask/answers/041715/what-variancecovariance-matrix-or-parametric-method-value-risk-var.asp\" target=\"_blank\">variance-covariance method</a></li>\n",
    "</ol>\n",
    "<p>In this post, we'll focus on using method 2 (variance-covariance).</p>\n",
    "<p>VaR provides an estimate of the maximum loss from a given portfolio over a period of time. You can calculate VaR at various confidence levels.</p>\n",
    "<p>For example, given a VaR of 250,000 at 95% confidence, there is a 95% chance that your portfolio will lose no more than 250,000 the following day.</p>\n",
    "<p>Note that the standard VaR calculation assumes the following:</p>\n",
    "<ul>\n",
    "<li><b>Normal distribution of returns</b> - VaR assumes the returns of the  portfolio are normally distributed. This is of course not realistic for most assets, but allows us to develop a baseline using a much more simplistic calculation. <i>(Modifications can be made to VaR to account for different distributions, but here we'll focus on the standard VaR calculation)</i></p>\n",
    "<li><b>Standard market conditions</b> - Like many financial instruments, VaR is best used for considering loss in standard markets, and is not well-suited for extreme/outlier events.</li>\n",
    "</ul>\n",
    "</p>\n",
    "\n",
    "<h4>Steps to calculate the VaR of a portfolio</h4>\n",
    "<p>In order to calculate the VaR of your portfolio, you can follow the steps below:</p>\n",
    "<ol>\n",
    "  <li>Calculate periodic returns of the stocks in your portfolio</li>\n",
    "  <li>Create a covariance matrix based on the returns</li>\n",
    "  <li>Calculate the portfolio mean and standard deviation\n",
    "  <br><i>(weighted based on investment levels of each stock in portolio)</i></li>\n",
    "  <li>Calculate the inverse of the normal cumulative distribution (PPF) with a specified confidence interval, standard deviation, and mean</li>\n",
    "   <li>Estimate the value at risk (VaR) for the portfolio by subtracting the initial investment from the calculation in step 4</li>\n",
    "  </ol>\n",
    "  "
   ]
  },
  {
   "cell_type": "markdown",
   "metadata": {
    "id": "K0nLGucpW7kd"
   },
   "source": [
    "<h4>1) Calculate periodic returns of the stocks in your portfolio </h4>"
   ]
  },
  {
   "cell_type": "code",
   "execution_count": 5,
   "metadata": {
    "id": "xVldGgGfwkBa"
   },
   "outputs": [
    {
     "name": "stdout",
     "output_type": "stream",
     "text": [
      "[*********************100%***********************]  6 of 6 completed\n"
     ]
    }
   ],
   "source": [
    "import pandas as pd\n",
    "import yfinance as yf\n",
    "import numpy as np\n",
    "import datetime as dt\n",
    "import matplotlib.pyplot as plt\n",
    "from datetime import datetime\n",
    "from dateutil.relativedelta import relativedelta\n",
    "\n",
    "\n",
    "one_yr_ago = datetime.now() - relativedelta(years=1)\n",
    "one_yr_ago = one_yr_ago.strftime(\"%Y-%m-%d\")\n",
    "\n",
    "start = one_yr_ago\n",
    "start = one_yr_ago \n",
    "end = '2023-07-31'\n",
    "symbols = ['FDS','INVH', 'ROL', 'RBLX', 'HIG', 'SNOW']\n",
    "all_df = yf.download(symbols, start, end)['Adj Close']\n",
    "\n",
    "#From the closing prices, calculate periodic returns\n",
    "returns = all_df.pct_change()"
   ]
  },
  {
   "cell_type": "code",
   "execution_count": 6,
   "metadata": {
    "colab": {
     "base_uri": "https://localhost:8080/",
     "height": 235
    },
    "id": "bJUVtuS-womS",
    "outputId": "f4527428-83a1-4b24-9b83-ce9cc81717e9"
   },
   "outputs": [
    {
     "data": {
      "text/html": [
       "<div>\n",
       "<style scoped>\n",
       "    .dataframe tbody tr th:only-of-type {\n",
       "        vertical-align: middle;\n",
       "    }\n",
       "\n",
       "    .dataframe tbody tr th {\n",
       "        vertical-align: top;\n",
       "    }\n",
       "\n",
       "    .dataframe thead th {\n",
       "        text-align: right;\n",
       "    }\n",
       "</style>\n",
       "<table border=\"1\" class=\"dataframe\">\n",
       "  <thead>\n",
       "    <tr style=\"text-align: right;\">\n",
       "      <th></th>\n",
       "      <th>FDS</th>\n",
       "      <th>HIG</th>\n",
       "      <th>INVH</th>\n",
       "      <th>RBLX</th>\n",
       "      <th>ROL</th>\n",
       "      <th>SNOW</th>\n",
       "    </tr>\n",
       "    <tr>\n",
       "      <th>Date</th>\n",
       "      <th></th>\n",
       "      <th></th>\n",
       "      <th></th>\n",
       "      <th></th>\n",
       "      <th></th>\n",
       "      <th></th>\n",
       "    </tr>\n",
       "  </thead>\n",
       "  <tbody>\n",
       "    <tr>\n",
       "      <th>2023-07-24</th>\n",
       "      <td>0.011113</td>\n",
       "      <td>0.009169</td>\n",
       "      <td>0.000553</td>\n",
       "      <td>-0.025142</td>\n",
       "      <td>0.005166</td>\n",
       "      <td>-0.006254</td>\n",
       "    </tr>\n",
       "    <tr>\n",
       "      <th>2023-07-25</th>\n",
       "      <td>0.005724</td>\n",
       "      <td>-0.004409</td>\n",
       "      <td>-0.016869</td>\n",
       "      <td>0.002781</td>\n",
       "      <td>0.001788</td>\n",
       "      <td>0.025686</td>\n",
       "    </tr>\n",
       "    <tr>\n",
       "      <th>2023-07-26</th>\n",
       "      <td>0.002687</td>\n",
       "      <td>0.015434</td>\n",
       "      <td>-0.000844</td>\n",
       "      <td>0.007312</td>\n",
       "      <td>-0.000669</td>\n",
       "      <td>-0.051815</td>\n",
       "    </tr>\n",
       "    <tr>\n",
       "      <th>2023-07-27</th>\n",
       "      <td>-0.011307</td>\n",
       "      <td>0.005419</td>\n",
       "      <td>-0.017737</td>\n",
       "      <td>-0.051064</td>\n",
       "      <td>-0.088839</td>\n",
       "      <td>-0.010176</td>\n",
       "    </tr>\n",
       "    <tr>\n",
       "      <th>2023-07-28</th>\n",
       "      <td>0.002457</td>\n",
       "      <td>-0.050348</td>\n",
       "      <td>0.016624</td>\n",
       "      <td>0.026906</td>\n",
       "      <td>-0.004655</td>\n",
       "      <td>0.038985</td>\n",
       "    </tr>\n",
       "  </tbody>\n",
       "</table>\n",
       "</div>"
      ],
      "text/plain": [
       "                 FDS       HIG      INVH      RBLX       ROL      SNOW\n",
       "Date                                                                  \n",
       "2023-07-24  0.011113  0.009169  0.000553 -0.025142  0.005166 -0.006254\n",
       "2023-07-25  0.005724 -0.004409 -0.016869  0.002781  0.001788  0.025686\n",
       "2023-07-26  0.002687  0.015434 -0.000844  0.007312 -0.000669 -0.051815\n",
       "2023-07-27 -0.011307  0.005419 -0.017737 -0.051064 -0.088839 -0.010176\n",
       "2023-07-28  0.002457 -0.050348  0.016624  0.026906 -0.004655  0.038985"
      ]
     },
     "execution_count": 6,
     "metadata": {},
     "output_type": "execute_result"
    }
   ],
   "source": [
    "returns.tail()"
   ]
  },
  {
   "cell_type": "markdown",
   "metadata": {
    "id": "9_yzgZi9x4ay"
   },
   "source": [
    "<h4>2) Create a covariance matrix based on the returns </h4>\n"
   ]
  },
  {
   "cell_type": "code",
   "execution_count": 7,
   "metadata": {
    "colab": {
     "base_uri": "https://localhost:8080/",
     "height": 204
    },
    "id": "m24rO-hZya0q",
    "outputId": "2ea92a9d-d2e4-43e9-91d4-9ce605917214"
   },
   "outputs": [
    {
     "data": {
      "text/html": [
       "<div>\n",
       "<style scoped>\n",
       "    .dataframe tbody tr th:only-of-type {\n",
       "        vertical-align: middle;\n",
       "    }\n",
       "\n",
       "    .dataframe tbody tr th {\n",
       "        vertical-align: top;\n",
       "    }\n",
       "\n",
       "    .dataframe thead th {\n",
       "        text-align: right;\n",
       "    }\n",
       "</style>\n",
       "<table border=\"1\" class=\"dataframe\">\n",
       "  <thead>\n",
       "    <tr style=\"text-align: right;\">\n",
       "      <th></th>\n",
       "      <th>FDS</th>\n",
       "      <th>HIG</th>\n",
       "      <th>INVH</th>\n",
       "      <th>RBLX</th>\n",
       "      <th>ROL</th>\n",
       "      <th>SNOW</th>\n",
       "    </tr>\n",
       "  </thead>\n",
       "  <tbody>\n",
       "    <tr>\n",
       "      <th>FDS</th>\n",
       "      <td>0.000270</td>\n",
       "      <td>0.000112</td>\n",
       "      <td>0.000141</td>\n",
       "      <td>0.000239</td>\n",
       "      <td>0.000090</td>\n",
       "      <td>0.000232</td>\n",
       "    </tr>\n",
       "    <tr>\n",
       "      <th>HIG</th>\n",
       "      <td>0.000112</td>\n",
       "      <td>0.000240</td>\n",
       "      <td>0.000089</td>\n",
       "      <td>0.000131</td>\n",
       "      <td>0.000065</td>\n",
       "      <td>0.000072</td>\n",
       "    </tr>\n",
       "    <tr>\n",
       "      <th>INVH</th>\n",
       "      <td>0.000141</td>\n",
       "      <td>0.000089</td>\n",
       "      <td>0.000314</td>\n",
       "      <td>0.000259</td>\n",
       "      <td>0.000085</td>\n",
       "      <td>0.000256</td>\n",
       "    </tr>\n",
       "    <tr>\n",
       "      <th>RBLX</th>\n",
       "      <td>0.000239</td>\n",
       "      <td>0.000131</td>\n",
       "      <td>0.000259</td>\n",
       "      <td>0.002137</td>\n",
       "      <td>0.000166</td>\n",
       "      <td>0.000970</td>\n",
       "    </tr>\n",
       "    <tr>\n",
       "      <th>ROL</th>\n",
       "      <td>0.000090</td>\n",
       "      <td>0.000065</td>\n",
       "      <td>0.000085</td>\n",
       "      <td>0.000166</td>\n",
       "      <td>0.000247</td>\n",
       "      <td>0.000083</td>\n",
       "    </tr>\n",
       "    <tr>\n",
       "      <th>SNOW</th>\n",
       "      <td>0.000232</td>\n",
       "      <td>0.000072</td>\n",
       "      <td>0.000256</td>\n",
       "      <td>0.000970</td>\n",
       "      <td>0.000083</td>\n",
       "      <td>0.001879</td>\n",
       "    </tr>\n",
       "  </tbody>\n",
       "</table>\n",
       "</div>"
      ],
      "text/plain": [
       "           FDS       HIG      INVH      RBLX       ROL      SNOW\n",
       "FDS   0.000270  0.000112  0.000141  0.000239  0.000090  0.000232\n",
       "HIG   0.000112  0.000240  0.000089  0.000131  0.000065  0.000072\n",
       "INVH  0.000141  0.000089  0.000314  0.000259  0.000085  0.000256\n",
       "RBLX  0.000239  0.000131  0.000259  0.002137  0.000166  0.000970\n",
       "ROL   0.000090  0.000065  0.000085  0.000166  0.000247  0.000083\n",
       "SNOW  0.000232  0.000072  0.000256  0.000970  0.000083  0.001879"
      ]
     },
     "execution_count": 7,
     "metadata": {},
     "output_type": "execute_result"
    }
   ],
   "source": [
    "#Generate Var-Cov matrix\n",
    "cov_matrix = returns.cov()\n",
    "cov_matrix\n"
   ]
  },
  {
   "cell_type": "markdown",
   "metadata": {
    "id": "T1IKHGdHXQKh"
   },
   "source": [
    "<h4>3) Calculate the portfolio mean and standard deviation</h4>"
   ]
  },
  {
   "cell_type": "code",
   "execution_count": 11,
   "metadata": {
    "id": "IiVEp991XQa7"
   },
   "outputs": [],
   "source": [
    "initial_investment= 1000000\n",
    "#Calculate mean returns for each stock\n",
    "avg_rets = returns.mean()\n",
    "\n",
    "#Calculate mean returns for portfolio overall,\n",
    "#using mean, using dot product formula to\n",
    "#normalize against investment weights\n",
    "weights = np.array([3.44608226e-01, 6.12683089e-02, 8.42134112e-02, 2.97174507e-08,\n",
    "       3.81387918e-01, 1.28522106e-01])\n",
    "port_mean = avg_rets.dot(weights)\n",
    "\n",
    "#Calculate portfolio standard deviation\n",
    "port_stdev = np.sqrt(weights.T.dot(cov_matrix).dot(weights))\n",
    "\n",
    "#Calculate mean of given investment\n",
    "mean_investment = (1+port_mean) * initial_investment\n",
    "\n",
    "#Calculate standard deviation of given investmnet\n",
    "stdev_investment = initial_investment * port_stdev"
   ]
  },
  {
   "cell_type": "markdown",
   "metadata": {
    "id": "ny_Ca76SXWbc"
   },
   "source": [
    "<h4>4) Calculate the inverse of the normal cumulative distribution (PPF) with a specified confidence interval, standard deviation, and mean</h4>"
   ]
  },
  {
   "cell_type": "code",
   "execution_count": 12,
   "metadata": {
    "id": "4amwp-AkXXhZ"
   },
   "outputs": [],
   "source": [
    "#Select our confidence interval (I'll choose 95% here)\n",
    "conf_level1 = 0.05\n",
    "\n",
    "#Using SciPy ppf method to generate values for the\n",
    "#inverse cumulative distribution function to a normal distribution\n",
    "#Plugging in the mean, standard deviation of our portfolio\n",
    "#as calculated above\n",
    "#https://docs.scipy.org/doc/scipy/reference/generated/scipy.stats.norm.html\n",
    "from scipy.stats import norm\n",
    "cutoff1 = norm.ppf(conf_level1, mean_investment, stdev_investment)\n"
   ]
  },
  {
   "cell_type": "markdown",
   "metadata": {
    "id": "OUR2EOHkXimv"
   },
   "source": [
    "<h4>5) Estimate the value at risk (VaR) for the portfolio by subtracting the initial investment from the calculation in step 4</h4>"
   ]
  },
  {
   "cell_type": "code",
   "execution_count": 13,
   "metadata": {
    "colab": {
     "base_uri": "https://localhost:8080/",
     "height": 34
    },
    "id": "8u-AK6SsXlkv",
    "outputId": "31d74945-eb58-4f4a-ee66-645c3d894b5a"
   },
   "outputs": [
    {
     "data": {
      "text/plain": [
       "21816.626361689414"
      ]
     },
     "execution_count": 13,
     "metadata": {},
     "output_type": "execute_result"
    }
   ],
   "source": [
    "#Finally, we can calculate the VaR at our confidence interval\n",
    "var_1d1 = initial_investment - cutoff1\n",
    "var_1d1"
   ]
  },
  {
   "cell_type": "markdown",
   "metadata": {
    "id": "8DPxckqx1JPS"
   },
   "source": [
    "<p>Here we are saying with 95% confidence that the loss of our portfolio will not exceed ~$22.3k over a one day period.</p>\n",
    "<h4>Value at risk over n-day time period</h4>\n",
    "<p>What if we wanted to calculate this over a larger window of time? Below we can easily do that by just taking our 1 day VaR and multiplying it by the <a href=\"https://www.investopedia.com/articles/04/101304.asp\" target=\"_blank\">square root of the time period</a>.</p>"
   ]
  },
  {
   "cell_type": "code",
   "execution_count": 24,
   "metadata": {
    "colab": {
     "base_uri": "https://localhost:8080/",
     "height": 567
    },
    "id": "YD94kFq2yrqs",
    "outputId": "b7639b81-98d2-42d0-e40b-83934d38e617"
   },
   "outputs": [
    {
     "name": "stdout",
     "output_type": "stream",
     "text": [
      "1 VaR (95% confidence): 21816.63\n",
      "2 VaR (95% confidence): 30853.37\n",
      "3 VaR (95% confidence): 37787.51\n",
      "4 VaR (95% confidence): 43633.25\n",
      "5 VaR (95% confidence): 48783.46\n",
      "6 VaR (95% confidence): 53439.6\n",
      "7 VaR (95% confidence): 57721.37\n",
      "8 VaR (95% confidence): 61706.74\n",
      "9 VaR (95% confidence): 65449.88\n",
      "10 VaR (95% confidence): 68990.23\n",
      "11 VaR (95% confidence): 72357.56\n",
      "12 VaR (95% confidence): 75575.01\n",
      "13 VaR (95% confidence): 78660.97\n",
      "14 VaR (95% confidence): 81630.34\n",
      "15 VaR (95% confidence): 84495.43\n",
      "16 VaR (95% confidence): 87266.51\n",
      "17 VaR (95% confidence): 89952.25\n",
      "18 VaR (95% confidence): 92560.11\n",
      "19 VaR (95% confidence): 95096.47\n",
      "20 VaR (95% confidence): 97566.92\n",
      "21 VaR (95% confidence): 99976.34\n",
      "22 VaR (95% confidence): 102329.05\n",
      "23 VaR (95% confidence): 104628.86\n",
      "24 VaR (95% confidence): 106879.2\n",
      "25 VaR (95% confidence): 109083.13\n",
      "26 VaR (95% confidence): 111243.4\n",
      "27 VaR (95% confidence): 113362.52\n",
      "28 VaR (95% confidence): 115442.74\n",
      "29 VaR (95% confidence): 117486.13\n",
      "30 VaR (95% confidence): 119494.58\n",
      "31 VaR (95% confidence): 121469.83\n"
     ]
    },
    {
     "data": {
      "text/plain": [
       "[<matplotlib.lines.Line2D at 0x134908950>]"
      ]
     },
     "execution_count": 24,
     "metadata": {},
     "output_type": "execute_result"
    },
    {
     "data": {
      "image/png": "[encoded data removed]",
      "text/plain": [
       "<Figure size 640x480 with 1 Axes>"
      ]
     },
     "metadata": {},
     "output_type": "display_data"
    }
   ],
   "source": [
    "# Calculate n Day VaR\n",
    "var_array = []\n",
    "num_days = 31 #len(returns)\n",
    "for x in range(1, num_days+1):\n",
    "    var_array.append(np.round(var_1d1 * np.sqrt(x),2))\n",
    "    print(str(x) + \" VaR (95% confidence): \" + str(np.round(var_1d1 * np.sqrt(x),2)))\n",
    "\n",
    "# Build plot\n",
    "plt.xlabel(\"Days\")\n",
    "plt.ylabel(\"Max portfolio loss\")\n",
    "plt.title(\"VaR over \"+str(num_days) +\" days\")\n",
    "plt.plot(var_array, \"b\")\n"
   ]
  },
  {
   "cell_type": "code",
   "execution_count": 30,
   "metadata": {
    "id": "iLX8xF7QULgP"
   },
   "outputs": [],
   "source": [
    "VaR_df = pd.DataFrame({\"Day\":[i for i in range(len(var_array))],\"VaR\" : var_array})"
   ]
  },
  {
   "cell_type": "code",
   "execution_count": 33,
   "metadata": {},
   "outputs": [
    {
     "data": {
      "text/html": [
       "<div>\n",
       "<style scoped>\n",
       "    .dataframe tbody tr th:only-of-type {\n",
       "        vertical-align: middle;\n",
       "    }\n",
       "\n",
       "    .dataframe tbody tr th {\n",
       "        vertical-align: top;\n",
       "    }\n",
       "\n",
       "    .dataframe thead th {\n",
       "        text-align: right;\n",
       "    }\n",
       "</style>\n",
       "<table border=\"1\" class=\"dataframe\">\n",
       "  <thead>\n",
       "    <tr style=\"text-align: right;\">\n",
       "      <th></th>\n",
       "      <th>Day</th>\n",
       "      <th>VaR</th>\n",
       "    </tr>\n",
       "  </thead>\n",
       "  <tbody>\n",
       "    <tr>\n",
       "      <th>0</th>\n",
       "      <td>0</td>\n",
       "      <td>21816.63</td>\n",
       "    </tr>\n",
       "    <tr>\n",
       "      <th>1</th>\n",
       "      <td>1</td>\n",
       "      <td>30853.37</td>\n",
       "    </tr>\n",
       "    <tr>\n",
       "      <th>2</th>\n",
       "      <td>2</td>\n",
       "      <td>37787.51</td>\n",
       "    </tr>\n",
       "    <tr>\n",
       "      <th>3</th>\n",
       "      <td>3</td>\n",
       "      <td>43633.25</td>\n",
       "    </tr>\n",
       "    <tr>\n",
       "      <th>4</th>\n",
       "      <td>4</td>\n",
       "      <td>48783.46</td>\n",
       "    </tr>\n",
       "    <tr>\n",
       "      <th>5</th>\n",
       "      <td>5</td>\n",
       "      <td>53439.60</td>\n",
       "    </tr>\n",
       "    <tr>\n",
       "      <th>6</th>\n",
       "      <td>6</td>\n",
       "      <td>57721.37</td>\n",
       "    </tr>\n",
       "  </tbody>\n",
       "</table>\n",
       "</div>"
      ],
      "text/plain": [
       "   Day       VaR\n",
       "0    0  21816.63\n",
       "1    1  30853.37\n",
       "2    2  37787.51\n",
       "3    3  43633.25\n",
       "4    4  48783.46\n",
       "5    5  53439.60\n",
       "6    6  57721.37"
      ]
     },
     "execution_count": 33,
     "metadata": {},
     "output_type": "execute_result"
    }
   ],
   "source": [
    "VaR_df.head(len(var_array)//4)"
   ]
  },
  {
   "cell_type": "code",
   "execution_count": 34,
   "metadata": {},
   "outputs": [
    {
     "data": {
      "text/html": [
       "<div>\n",
       "<style scoped>\n",
       "    .dataframe tbody tr th:only-of-type {\n",
       "        vertical-align: middle;\n",
       "    }\n",
       "\n",
       "    .dataframe tbody tr th {\n",
       "        vertical-align: top;\n",
       "    }\n",
       "\n",
       "    .dataframe thead th {\n",
       "        text-align: right;\n",
       "    }\n",
       "</style>\n",
       "<table border=\"1\" class=\"dataframe\">\n",
       "  <thead>\n",
       "    <tr style=\"text-align: right;\">\n",
       "      <th></th>\n",
       "      <th>Day</th>\n",
       "      <th>VaR</th>\n",
       "    </tr>\n",
       "  </thead>\n",
       "  <tbody>\n",
       "    <tr>\n",
       "      <th>6</th>\n",
       "      <td>6</td>\n",
       "      <td>57721.37</td>\n",
       "    </tr>\n",
       "    <tr>\n",
       "      <th>7</th>\n",
       "      <td>7</td>\n",
       "      <td>61706.74</td>\n",
       "    </tr>\n",
       "    <tr>\n",
       "      <th>8</th>\n",
       "      <td>8</td>\n",
       "      <td>65449.88</td>\n",
       "    </tr>\n",
       "    <tr>\n",
       "      <th>9</th>\n",
       "      <td>9</td>\n",
       "      <td>68990.23</td>\n",
       "    </tr>\n",
       "    <tr>\n",
       "      <th>10</th>\n",
       "      <td>10</td>\n",
       "      <td>72357.56</td>\n",
       "    </tr>\n",
       "    <tr>\n",
       "      <th>11</th>\n",
       "      <td>11</td>\n",
       "      <td>75575.01</td>\n",
       "    </tr>\n",
       "  </tbody>\n",
       "</table>\n",
       "</div>"
      ],
      "text/plain": [
       "    Day       VaR\n",
       "6     6  57721.37\n",
       "7     7  61706.74\n",
       "8     8  65449.88\n",
       "9     9  68990.23\n",
       "10   10  72357.56\n",
       "11   11  75575.01"
      ]
     },
     "execution_count": 34,
     "metadata": {},
     "output_type": "execute_result"
    }
   ],
   "source": [
    "VaR_df[6:12]"
   ]
  },
  {
   "cell_type": "code",
   "execution_count": 35,
   "metadata": {},
   "outputs": [
    {
     "data": {
      "text/html": [
       "<div>\n",
       "<style scoped>\n",
       "    .dataframe tbody tr th:only-of-type {\n",
       "        vertical-align: middle;\n",
       "    }\n",
       "\n",
       "    .dataframe tbody tr th {\n",
       "        vertical-align: top;\n",
       "    }\n",
       "\n",
       "    .dataframe thead th {\n",
       "        text-align: right;\n",
       "    }\n",
       "</style>\n",
       "<table border=\"1\" class=\"dataframe\">\n",
       "  <thead>\n",
       "    <tr style=\"text-align: right;\">\n",
       "      <th></th>\n",
       "      <th>Day</th>\n",
       "      <th>VaR</th>\n",
       "    </tr>\n",
       "  </thead>\n",
       "  <tbody>\n",
       "    <tr>\n",
       "      <th>12</th>\n",
       "      <td>12</td>\n",
       "      <td>78660.97</td>\n",
       "    </tr>\n",
       "    <tr>\n",
       "      <th>13</th>\n",
       "      <td>13</td>\n",
       "      <td>81630.34</td>\n",
       "    </tr>\n",
       "    <tr>\n",
       "      <th>14</th>\n",
       "      <td>14</td>\n",
       "      <td>84495.43</td>\n",
       "    </tr>\n",
       "    <tr>\n",
       "      <th>15</th>\n",
       "      <td>15</td>\n",
       "      <td>87266.51</td>\n",
       "    </tr>\n",
       "    <tr>\n",
       "      <th>16</th>\n",
       "      <td>16</td>\n",
       "      <td>89952.25</td>\n",
       "    </tr>\n",
       "    <tr>\n",
       "      <th>17</th>\n",
       "      <td>17</td>\n",
       "      <td>92560.11</td>\n",
       "    </tr>\n",
       "  </tbody>\n",
       "</table>\n",
       "</div>"
      ],
      "text/plain": [
       "    Day       VaR\n",
       "12   12  78660.97\n",
       "13   13  81630.34\n",
       "14   14  84495.43\n",
       "15   15  87266.51\n",
       "16   16  89952.25\n",
       "17   17  92560.11"
      ]
     },
     "execution_count": 35,
     "metadata": {},
     "output_type": "execute_result"
    }
   ],
   "source": [
    "VaR_df[12:18]"
   ]
  },
  {
   "cell_type": "code",
   "execution_count": 37,
   "metadata": {},
   "outputs": [
    {
     "data": {
      "text/html": [
       "<div>\n",
       "<style scoped>\n",
       "    .dataframe tbody tr th:only-of-type {\n",
       "        vertical-align: middle;\n",
       "    }\n",
       "\n",
       "    .dataframe tbody tr th {\n",
       "        vertical-align: top;\n",
       "    }\n",
       "\n",
       "    .dataframe thead th {\n",
       "        text-align: right;\n",
       "    }\n",
       "</style>\n",
       "<table border=\"1\" class=\"dataframe\">\n",
       "  <thead>\n",
       "    <tr style=\"text-align: right;\">\n",
       "      <th></th>\n",
       "      <th>Day</th>\n",
       "      <th>VaR</th>\n",
       "    </tr>\n",
       "  </thead>\n",
       "  <tbody>\n",
       "    <tr>\n",
       "      <th>18</th>\n",
       "      <td>18</td>\n",
       "      <td>95096.47</td>\n",
       "    </tr>\n",
       "    <tr>\n",
       "      <th>19</th>\n",
       "      <td>19</td>\n",
       "      <td>97566.92</td>\n",
       "    </tr>\n",
       "    <tr>\n",
       "      <th>20</th>\n",
       "      <td>20</td>\n",
       "      <td>99976.34</td>\n",
       "    </tr>\n",
       "    <tr>\n",
       "      <th>21</th>\n",
       "      <td>21</td>\n",
       "      <td>102329.05</td>\n",
       "    </tr>\n",
       "    <tr>\n",
       "      <th>22</th>\n",
       "      <td>22</td>\n",
       "      <td>104628.86</td>\n",
       "    </tr>\n",
       "    <tr>\n",
       "      <th>23</th>\n",
       "      <td>23</td>\n",
       "      <td>106879.20</td>\n",
       "    </tr>\n",
       "    <tr>\n",
       "      <th>24</th>\n",
       "      <td>24</td>\n",
       "      <td>109083.13</td>\n",
       "    </tr>\n",
       "    <tr>\n",
       "      <th>25</th>\n",
       "      <td>25</td>\n",
       "      <td>111243.40</td>\n",
       "    </tr>\n",
       "  </tbody>\n",
       "</table>\n",
       "</div>"
      ],
      "text/plain": [
       "    Day        VaR\n",
       "18   18   95096.47\n",
       "19   19   97566.92\n",
       "20   20   99976.34\n",
       "21   21  102329.05\n",
       "22   22  104628.86\n",
       "23   23  106879.20\n",
       "24   24  109083.13\n",
       "25   25  111243.40"
      ]
     },
     "execution_count": 37,
     "metadata": {},
     "output_type": "execute_result"
    }
   ],
   "source": [
    "VaR_df[18:26]"
   ]
  },
  {
   "cell_type": "code",
   "execution_count": 38,
   "metadata": {},
   "outputs": [
    {
     "data": {
      "text/html": [
       "<div>\n",
       "<style scoped>\n",
       "    .dataframe tbody tr th:only-of-type {\n",
       "        vertical-align: middle;\n",
       "    }\n",
       "\n",
       "    .dataframe tbody tr th {\n",
       "        vertical-align: top;\n",
       "    }\n",
       "\n",
       "    .dataframe thead th {\n",
       "        text-align: right;\n",
       "    }\n",
       "</style>\n",
       "<table border=\"1\" class=\"dataframe\">\n",
       "  <thead>\n",
       "    <tr style=\"text-align: right;\">\n",
       "      <th></th>\n",
       "      <th>Day</th>\n",
       "      <th>VaR</th>\n",
       "    </tr>\n",
       "  </thead>\n",
       "  <tbody>\n",
       "    <tr>\n",
       "      <th>26</th>\n",
       "      <td>26</td>\n",
       "      <td>113362.52</td>\n",
       "    </tr>\n",
       "    <tr>\n",
       "      <th>27</th>\n",
       "      <td>27</td>\n",
       "      <td>115442.74</td>\n",
       "    </tr>\n",
       "    <tr>\n",
       "      <th>28</th>\n",
       "      <td>28</td>\n",
       "      <td>117486.13</td>\n",
       "    </tr>\n",
       "    <tr>\n",
       "      <th>29</th>\n",
       "      <td>29</td>\n",
       "      <td>119494.58</td>\n",
       "    </tr>\n",
       "    <tr>\n",
       "      <th>30</th>\n",
       "      <td>30</td>\n",
       "      <td>121469.83</td>\n",
       "    </tr>\n",
       "  </tbody>\n",
       "</table>\n",
       "</div>"
      ],
      "text/plain": [
       "    Day        VaR\n",
       "26   26  113362.52\n",
       "27   27  115442.74\n",
       "28   28  117486.13\n",
       "29   29  119494.58\n",
       "30   30  121469.83"
      ]
     },
     "execution_count": 38,
     "metadata": {},
     "output_type": "execute_result"
    }
   ],
   "source": [
    "VaR_df[26:31]"
   ]
  },
  {
   "cell_type": "code",
   "execution_count": 39,
   "metadata": {},
   "outputs": [
    {
     "name": "stdout",
     "output_type": "stream",
     "text": [
      "1 VaR (95% confidence): 21816.63\n",
      "2 VaR (95% confidence): 30853.37\n",
      "3 VaR (95% confidence): 37787.51\n",
      "4 VaR (95% confidence): 43633.25\n",
      "5 VaR (95% confidence): 48783.46\n",
      "6 VaR (95% confidence): 53439.6\n",
      "7 VaR (95% confidence): 57721.37\n",
      "8 VaR (95% confidence): 61706.74\n",
      "9 VaR (95% confidence): 65449.88\n",
      "10 VaR (95% confidence): 68990.23\n",
      "11 VaR (95% confidence): 72357.56\n",
      "12 VaR (95% confidence): 75575.01\n",
      "13 VaR (95% confidence): 78660.97\n",
      "14 VaR (95% confidence): 81630.34\n",
      "15 VaR (95% confidence): 84495.43\n",
      "16 VaR (95% confidence): 87266.51\n",
      "17 VaR (95% confidence): 89952.25\n",
      "18 VaR (95% confidence): 92560.11\n",
      "19 VaR (95% confidence): 95096.47\n",
      "20 VaR (95% confidence): 97566.92\n",
      "21 VaR (95% confidence): 99976.34\n",
      "22 VaR (95% confidence): 102329.05\n",
      "23 VaR (95% confidence): 104628.86\n",
      "24 VaR (95% confidence): 106879.2\n",
      "25 VaR (95% confidence): 109083.13\n",
      "26 VaR (95% confidence): 111243.4\n",
      "27 VaR (95% confidence): 113362.52\n",
      "28 VaR (95% confidence): 115442.74\n",
      "29 VaR (95% confidence): 117486.13\n",
      "30 VaR (95% confidence): 119494.58\n",
      "31 VaR (95% confidence): 121469.83\n",
      "32 VaR (95% confidence): 123413.48\n",
      "33 VaR (95% confidence): 125326.98\n",
      "34 VaR (95% confidence): 127211.7\n",
      "35 VaR (95% confidence): 129068.9\n",
      "36 VaR (95% confidence): 130899.76\n",
      "37 VaR (95% confidence): 132705.36\n",
      "38 VaR (95% confidence): 134486.72\n",
      "39 VaR (95% confidence): 136244.79\n",
      "40 VaR (95% confidence): 137980.46\n",
      "41 VaR (95% confidence): 139694.57\n",
      "42 VaR (95% confidence): 141387.9\n",
      "43 VaR (95% confidence): 143061.19\n",
      "44 VaR (95% confidence): 144715.13\n",
      "45 VaR (95% confidence): 146350.38\n",
      "46 VaR (95% confidence): 147967.56\n",
      "47 VaR (95% confidence): 149567.25\n",
      "48 VaR (95% confidence): 151150.02\n",
      "49 VaR (95% confidence): 152716.38\n",
      "50 VaR (95% confidence): 154266.84\n",
      "51 VaR (95% confidence): 155801.88\n",
      "52 VaR (95% confidence): 157321.93\n",
      "53 VaR (95% confidence): 158827.44\n",
      "54 VaR (95% confidence): 160318.81\n",
      "55 VaR (95% confidence): 161796.43\n",
      "56 VaR (95% confidence): 163260.68\n",
      "57 VaR (95% confidence): 164711.92\n",
      "58 VaR (95% confidence): 166150.48\n",
      "59 VaR (95% confidence): 167576.69\n",
      "60 VaR (95% confidence): 168990.86\n",
      "61 VaR (95% confidence): 170393.3\n",
      "62 VaR (95% confidence): 171784.29\n",
      "63 VaR (95% confidence): 173164.1\n",
      "64 VaR (95% confidence): 174533.01\n",
      "65 VaR (95% confidence): 175891.26\n",
      "66 VaR (95% confidence): 177239.11\n",
      "67 VaR (95% confidence): 178576.78\n",
      "68 VaR (95% confidence): 179904.51\n",
      "69 VaR (95% confidence): 181222.51\n",
      "70 VaR (95% confidence): 182530.99\n",
      "71 VaR (95% confidence): 183830.16\n",
      "72 VaR (95% confidence): 185120.21\n",
      "73 VaR (95% confidence): 186401.34\n",
      "74 VaR (95% confidence): 187673.72\n",
      "75 VaR (95% confidence): 188937.53\n",
      "76 VaR (95% confidence): 190192.94\n",
      "77 VaR (95% confidence): 191440.12\n",
      "78 VaR (95% confidence): 192679.23\n",
      "79 VaR (95% confidence): 193910.42\n",
      "80 VaR (95% confidence): 195133.84\n",
      "81 VaR (95% confidence): 196349.64\n",
      "82 VaR (95% confidence): 197557.95\n",
      "83 VaR (95% confidence): 198758.93\n",
      "84 VaR (95% confidence): 199952.68\n",
      "85 VaR (95% confidence): 201139.36\n",
      "86 VaR (95% confidence): 202319.07\n",
      "87 VaR (95% confidence): 203491.94\n",
      "88 VaR (95% confidence): 204658.1\n",
      "89 VaR (95% confidence): 205817.64\n",
      "90 VaR (95% confidence): 206970.69\n",
      "91 VaR (95% confidence): 208117.35\n",
      "92 VaR (95% confidence): 209257.73\n",
      "93 VaR (95% confidence): 210391.93\n",
      "94 VaR (95% confidence): 211520.04\n",
      "95 VaR (95% confidence): 212642.17\n",
      "96 VaR (95% confidence): 213758.41\n",
      "97 VaR (95% confidence): 214868.85\n",
      "98 VaR (95% confidence): 215973.58\n",
      "99 VaR (95% confidence): 217072.69\n",
      "100 VaR (95% confidence): 218166.26\n",
      "101 VaR (95% confidence): 219254.38\n",
      "102 VaR (95% confidence): 220337.13\n",
      "103 VaR (95% confidence): 221414.58\n",
      "104 VaR (95% confidence): 222486.81\n",
      "105 VaR (95% confidence): 223553.9\n",
      "106 VaR (95% confidence): 224615.92\n",
      "107 VaR (95% confidence): 225672.94\n",
      "108 VaR (95% confidence): 226725.03\n",
      "109 VaR (95% confidence): 227772.27\n",
      "110 VaR (95% confidence): 228814.71\n",
      "111 VaR (95% confidence): 229852.42\n",
      "112 VaR (95% confidence): 230885.47\n",
      "113 VaR (95% confidence): 231913.92\n",
      "114 VaR (95% confidence): 232937.83\n",
      "115 VaR (95% confidence): 233957.25\n",
      "116 VaR (95% confidence): 234972.26\n",
      "117 VaR (95% confidence): 235982.9\n",
      "118 VaR (95% confidence): 236989.22\n",
      "119 VaR (95% confidence): 237991.3\n",
      "120 VaR (95% confidence): 238989.17\n",
      "121 VaR (95% confidence): 239982.89\n",
      "122 VaR (95% confidence): 240972.51\n",
      "123 VaR (95% confidence): 241958.09\n",
      "124 VaR (95% confidence): 242939.67\n",
      "125 VaR (95% confidence): 243917.3\n",
      "126 VaR (95% confidence): 244891.02\n",
      "127 VaR (95% confidence): 245860.89\n",
      "128 VaR (95% confidence): 246826.95\n",
      "129 VaR (95% confidence): 247789.24\n",
      "130 VaR (95% confidence): 248747.81\n",
      "131 VaR (95% confidence): 249702.7\n",
      "132 VaR (95% confidence): 250653.95\n",
      "133 VaR (95% confidence): 251601.61\n",
      "134 VaR (95% confidence): 252545.71\n",
      "135 VaR (95% confidence): 253486.29\n",
      "136 VaR (95% confidence): 254423.4\n",
      "137 VaR (95% confidence): 255357.06\n",
      "138 VaR (95% confidence): 256287.33\n",
      "139 VaR (95% confidence): 257214.23\n",
      "140 VaR (95% confidence): 258137.8\n",
      "141 VaR (95% confidence): 259058.08\n",
      "142 VaR (95% confidence): 259975.11\n",
      "143 VaR (95% confidence): 260888.91\n",
      "144 VaR (95% confidence): 261799.52\n",
      "145 VaR (95% confidence): 262706.97\n",
      "146 VaR (95% confidence): 263611.3\n",
      "147 VaR (95% confidence): 264512.54\n",
      "148 VaR (95% confidence): 265410.71\n",
      "149 VaR (95% confidence): 266305.86\n",
      "150 VaR (95% confidence): 267198.01\n",
      "151 VaR (95% confidence): 268087.19\n",
      "152 VaR (95% confidence): 268973.43\n",
      "153 VaR (95% confidence): 269856.76\n",
      "154 VaR (95% confidence): 270737.21\n",
      "155 VaR (95% confidence): 271614.81\n",
      "156 VaR (95% confidence): 272489.58\n",
      "157 VaR (95% confidence): 273361.54\n",
      "158 VaR (95% confidence): 274230.74\n",
      "159 VaR (95% confidence): 275097.19\n",
      "160 VaR (95% confidence): 275960.92\n",
      "161 VaR (95% confidence): 276821.96\n",
      "162 VaR (95% confidence): 277680.32\n",
      "163 VaR (95% confidence): 278536.04\n",
      "164 VaR (95% confidence): 279389.14\n",
      "165 VaR (95% confidence): 280239.64\n",
      "166 VaR (95% confidence): 281087.57\n",
      "167 VaR (95% confidence): 281932.95\n",
      "168 VaR (95% confidence): 282775.8\n",
      "169 VaR (95% confidence): 283616.14\n",
      "170 VaR (95% confidence): 284454.01\n",
      "171 VaR (95% confidence): 285289.41\n",
      "172 VaR (95% confidence): 286122.37\n",
      "173 VaR (95% confidence): 286952.92\n",
      "174 VaR (95% confidence): 287781.07\n",
      "175 VaR (95% confidence): 288606.84\n",
      "176 VaR (95% confidence): 289430.26\n",
      "177 VaR (95% confidence): 290251.34\n",
      "178 VaR (95% confidence): 291070.1\n",
      "179 VaR (95% confidence): 291886.57\n",
      "180 VaR (95% confidence): 292700.76\n",
      "181 VaR (95% confidence): 293512.69\n",
      "182 VaR (95% confidence): 294322.38\n",
      "183 VaR (95% confidence): 295129.85\n",
      "184 VaR (95% confidence): 295935.12\n",
      "185 VaR (95% confidence): 296738.2\n",
      "186 VaR (95% confidence): 297539.11\n",
      "187 VaR (95% confidence): 298337.88\n",
      "188 VaR (95% confidence): 299134.51\n",
      "189 VaR (95% confidence): 299929.03\n",
      "190 VaR (95% confidence): 300721.44\n",
      "191 VaR (95% confidence): 301511.78\n",
      "192 VaR (95% confidence): 302300.04\n",
      "193 VaR (95% confidence): 303086.26\n",
      "194 VaR (95% confidence): 303870.44\n",
      "195 VaR (95% confidence): 304652.61\n",
      "196 VaR (95% confidence): 305432.77\n",
      "197 VaR (95% confidence): 306210.94\n",
      "198 VaR (95% confidence): 306987.14\n",
      "199 VaR (95% confidence): 307761.39\n",
      "200 VaR (95% confidence): 308533.69\n",
      "201 VaR (95% confidence): 309304.06\n",
      "202 VaR (95% confidence): 310072.52\n",
      "203 VaR (95% confidence): 310839.08\n",
      "204 VaR (95% confidence): 311603.75\n",
      "205 VaR (95% confidence): 312366.55\n",
      "206 VaR (95% confidence): 313127.5\n",
      "207 VaR (95% confidence): 313886.59\n",
      "208 VaR (95% confidence): 314643.86\n",
      "209 VaR (95% confidence): 315399.31\n",
      "210 VaR (95% confidence): 316152.95\n",
      "211 VaR (95% confidence): 316904.8\n",
      "212 VaR (95% confidence): 317654.87\n",
      "213 VaR (95% confidence): 318403.18\n",
      "214 VaR (95% confidence): 319149.73\n",
      "215 VaR (95% confidence): 319894.54\n",
      "216 VaR (95% confidence): 320637.61\n",
      "217 VaR (95% confidence): 321378.97\n",
      "218 VaR (95% confidence): 322118.63\n",
      "219 VaR (95% confidence): 322856.59\n",
      "220 VaR (95% confidence): 323592.86\n",
      "221 VaR (95% confidence): 324327.47\n",
      "222 VaR (95% confidence): 325060.41\n",
      "223 VaR (95% confidence): 325791.71\n",
      "224 VaR (95% confidence): 326521.36\n",
      "225 VaR (95% confidence): 327249.4\n",
      "226 VaR (95% confidence): 327975.81\n",
      "227 VaR (95% confidence): 328700.62\n",
      "228 VaR (95% confidence): 329423.83\n",
      "229 VaR (95% confidence): 330145.46\n",
      "230 VaR (95% confidence): 330865.52\n",
      "231 VaR (95% confidence): 331584.01\n",
      "232 VaR (95% confidence): 332300.95\n",
      "233 VaR (95% confidence): 333016.35\n",
      "234 VaR (95% confidence): 333730.21\n",
      "235 VaR (95% confidence): 334442.55\n",
      "236 VaR (95% confidence): 335153.37\n",
      "237 VaR (95% confidence): 335862.69\n",
      "238 VaR (95% confidence): 336570.52\n",
      "239 VaR (95% confidence): 337276.86\n",
      "240 VaR (95% confidence): 337981.72\n",
      "241 VaR (95% confidence): 338685.12\n",
      "242 VaR (95% confidence): 339387.06\n",
      "243 VaR (95% confidence): 340087.55\n",
      "244 VaR (95% confidence): 340786.6\n",
      "245 VaR (95% confidence): 341484.22\n",
      "246 VaR (95% confidence): 342180.41\n"
     ]
    },
    {
     "data": {
      "text/plain": [
       "[<matplotlib.lines.Line2D at 0x1358c06d0>]"
      ]
     },
     "execution_count": 39,
     "metadata": {},
     "output_type": "execute_result"
    },
    {
     "data": {
      "image/png": "[encoded data removed]",
      "text/plain": [
       "<Figure size 640x480 with 1 Axes>"
      ]
     },
     "metadata": {},
     "output_type": "display_data"
    }
   ],
   "source": [
    "# Calculate n Day VaR\n",
    "var_array = []\n",
    "num_days = len(returns)\n",
    "for x in range(1, num_days+1):\n",
    "    var_array.append(np.round(var_1d1 * np.sqrt(x),2))\n",
    "    print(str(x) + \" VaR (95% confidence): \" + str(np.round(var_1d1 * np.sqrt(x),2)))\n",
    "\n",
    "# Build plot\n",
    "plt.xlabel(\"Days\")\n",
    "plt.ylabel(\"Max portfolio loss\")\n",
    "plt.title(\"VaR over \"+str(num_days) +\" days\")\n",
    "plt.plot(var_array, \"b\")\n"
   ]
  },
  {
   "cell_type": "code",
   "execution_count": null,
   "metadata": {},
   "outputs": [],
   "source": []
  }
 ],
 "metadata": {
  "colab": {
   "provenance": []
  },
  "kernelspec": {
   "display_name": "Python 3 (ipykernel)",
   "language": "python",
   "name": "python3"
  },
  "language_info": {
   "codemirror_mode": {
    "name": "ipython",
    "version": 3
   },
   "file_extension": ".py",
   "mimetype": "text/x-python",
   "name": "python",
   "nbconvert_exporter": "python",
   "pygments_lexer": "ipython3",
   "version": "3.11.3"
  }
 },
 "nbformat": 4,
 "nbformat_minor": 1
}
