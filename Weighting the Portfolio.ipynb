{
 "cells": [
  {
   "cell_type": "markdown",
   "id": "c3365c1e",
   "metadata": {},
   "source": [
    "# Rate of Return for different weights (Random vs Mean Variance vs LSTM)"
   ]
  },
  {
   "cell_type": "code",
   "execution_count": 1,
   "id": "fa76b046",
   "metadata": {},
   "outputs": [],
   "source": [
    "import numpy as np\n",
    "import pandas as pd\n",
    "import matplotlib.pyplot as plt\n",
    "import matplotlib.mlab as mlab\n",
    "import seaborn as sns\n",
    "from tabulate import tabulate\n",
    "import math\n",
    "from scipy.stats import norm\n",
    "\n",
    "import warnings\n",
    "warnings.filterwarnings(\"ignore\")\n",
    "\n",
    "# yahoo_finance is used to fetch data \n",
    "import yfinance as yf"
   ]
  },
  {
   "cell_type": "code",
   "execution_count": 2,
   "id": "953b5ce3",
   "metadata": {},
   "outputs": [],
   "source": [
    "from datetime import datetime\n",
    "from dateutil.relativedelta import relativedelta\n",
    "\n",
    "one_yr_ago = datetime.now() - relativedelta(years=1)\n",
    "one_yr_ago = one_yr_ago.strftime(\"%Y-%m-%d\")\n",
    "\n",
    "start = one_yr_ago \n",
    "end = datetime.now().strftime(\"%Y-%m-%d\")\n",
    "symbols = ['FDS','INVH', 'ROL', 'RBLX', 'HIG']"
   ]
  },
  {
   "cell_type": "code",
   "execution_count": 3,
   "id": "9f705ff6",
   "metadata": {},
   "outputs": [
    {
     "name": "stdout",
     "output_type": "stream",
     "text": [
      "[*********************100%***********************]  5 of 5 completed\n"
     ]
    }
   ],
   "source": [
    "all_df = yf.download(symbols, start, end)['Adj Close']"
   ]
  },
  {
   "cell_type": "code",
   "execution_count": 4,
   "id": "0045d1f7",
   "metadata": {},
   "outputs": [],
   "source": [
    "df = all_df[['FDS','INVH', 'ROL', 'RBLX', 'HIG']]"
   ]
  },
  {
   "cell_type": "code",
   "execution_count": 5,
   "id": "1b0854f5",
   "metadata": {},
   "outputs": [],
   "source": [
    "df = df.reset_index() "
   ]
  },
  {
   "cell_type": "code",
   "execution_count": 6,
   "id": "7dde4470",
   "metadata": {},
   "outputs": [
    {
     "data": {
      "text/html": [
       "<div>\n",
       "<style scoped>\n",
       "    .dataframe tbody tr th:only-of-type {\n",
       "        vertical-align: middle;\n",
       "    }\n",
       "\n",
       "    .dataframe tbody tr th {\n",
       "        vertical-align: top;\n",
       "    }\n",
       "\n",
       "    .dataframe thead th {\n",
       "        text-align: right;\n",
       "    }\n",
       "</style>\n",
       "<table border=\"1\" class=\"dataframe\">\n",
       "  <thead>\n",
       "    <tr style=\"text-align: right;\">\n",
       "      <th></th>\n",
       "      <th>Date</th>\n",
       "      <th>FDS</th>\n",
       "      <th>INVH</th>\n",
       "      <th>ROL</th>\n",
       "      <th>RBLX</th>\n",
       "      <th>HIG</th>\n",
       "    </tr>\n",
       "  </thead>\n",
       "  <tbody>\n",
       "    <tr>\n",
       "      <th>0</th>\n",
       "      <td>2022-07-25</td>\n",
       "      <td>402.740021</td>\n",
       "      <td>35.434803</td>\n",
       "      <td>36.035290</td>\n",
       "      <td>39.840000</td>\n",
       "      <td>63.300156</td>\n",
       "    </tr>\n",
       "    <tr>\n",
       "      <th>1</th>\n",
       "      <td>2022-07-26</td>\n",
       "      <td>401.758484</td>\n",
       "      <td>35.580585</td>\n",
       "      <td>35.768654</td>\n",
       "      <td>39.000000</td>\n",
       "      <td>62.880043</td>\n",
       "    </tr>\n",
       "    <tr>\n",
       "      <th>2</th>\n",
       "      <td>2022-07-27</td>\n",
       "      <td>405.297821</td>\n",
       "      <td>35.930462</td>\n",
       "      <td>34.919369</td>\n",
       "      <td>41.950001</td>\n",
       "      <td>62.860497</td>\n",
       "    </tr>\n",
       "    <tr>\n",
       "      <th>3</th>\n",
       "      <td>2022-07-28</td>\n",
       "      <td>417.531799</td>\n",
       "      <td>37.534065</td>\n",
       "      <td>38.089367</td>\n",
       "      <td>42.980000</td>\n",
       "      <td>61.404766</td>\n",
       "    </tr>\n",
       "    <tr>\n",
       "      <th>4</th>\n",
       "      <td>2022-07-29</td>\n",
       "      <td>425.988495</td>\n",
       "      <td>37.932533</td>\n",
       "      <td>38.089367</td>\n",
       "      <td>42.930000</td>\n",
       "      <td>62.987514</td>\n",
       "    </tr>\n",
       "    <tr>\n",
       "      <th>...</th>\n",
       "      <td>...</td>\n",
       "      <td>...</td>\n",
       "      <td>...</td>\n",
       "      <td>...</td>\n",
       "      <td>...</td>\n",
       "      <td>...</td>\n",
       "    </tr>\n",
       "    <tr>\n",
       "      <th>245</th>\n",
       "      <td>2023-07-17</td>\n",
       "      <td>420.100006</td>\n",
       "      <td>35.330002</td>\n",
       "      <td>44.590000</td>\n",
       "      <td>44.459999</td>\n",
       "      <td>72.220001</td>\n",
       "    </tr>\n",
       "    <tr>\n",
       "      <th>246</th>\n",
       "      <td>2023-07-18</td>\n",
       "      <td>424.359985</td>\n",
       "      <td>34.830002</td>\n",
       "      <td>44.480000</td>\n",
       "      <td>45.540001</td>\n",
       "      <td>72.639999</td>\n",
       "    </tr>\n",
       "    <tr>\n",
       "      <th>247</th>\n",
       "      <td>2023-07-19</td>\n",
       "      <td>425.179993</td>\n",
       "      <td>35.299999</td>\n",
       "      <td>44.360001</td>\n",
       "      <td>44.860001</td>\n",
       "      <td>72.430000</td>\n",
       "    </tr>\n",
       "    <tr>\n",
       "      <th>248</th>\n",
       "      <td>2023-07-20</td>\n",
       "      <td>429.600006</td>\n",
       "      <td>35.669998</td>\n",
       "      <td>44.369999</td>\n",
       "      <td>41.040001</td>\n",
       "      <td>74.639999</td>\n",
       "    </tr>\n",
       "    <tr>\n",
       "      <th>249</th>\n",
       "      <td>2023-07-21</td>\n",
       "      <td>431.940002</td>\n",
       "      <td>36.139999</td>\n",
       "      <td>44.520000</td>\n",
       "      <td>40.570000</td>\n",
       "      <td>74.160004</td>\n",
       "    </tr>\n",
       "  </tbody>\n",
       "</table>\n",
       "<p>250 rows × 6 columns</p>\n",
       "</div>"
      ],
      "text/plain": [
       "          Date         FDS       INVH        ROL       RBLX        HIG\n",
       "0   2022-07-25  402.740021  35.434803  36.035290  39.840000  63.300156\n",
       "1   2022-07-26  401.758484  35.580585  35.768654  39.000000  62.880043\n",
       "2   2022-07-27  405.297821  35.930462  34.919369  41.950001  62.860497\n",
       "3   2022-07-28  417.531799  37.534065  38.089367  42.980000  61.404766\n",
       "4   2022-07-29  425.988495  37.932533  38.089367  42.930000  62.987514\n",
       "..         ...         ...        ...        ...        ...        ...\n",
       "245 2023-07-17  420.100006  35.330002  44.590000  44.459999  72.220001\n",
       "246 2023-07-18  424.359985  34.830002  44.480000  45.540001  72.639999\n",
       "247 2023-07-19  425.179993  35.299999  44.360001  44.860001  72.430000\n",
       "248 2023-07-20  429.600006  35.669998  44.369999  41.040001  74.639999\n",
       "249 2023-07-21  431.940002  36.139999  44.520000  40.570000  74.160004\n",
       "\n",
       "[250 rows x 6 columns]"
      ]
     },
     "execution_count": 6,
     "metadata": {},
     "output_type": "execute_result"
    }
   ],
   "source": [
    "df"
   ]
  },
  {
   "cell_type": "markdown",
   "id": "3b54dcc3",
   "metadata": {},
   "source": [
    "# Weekly returns (I assumed rolling average)"
   ]
  },
  {
   "cell_type": "code",
   "execution_count": 7,
   "id": "0c1d3425",
   "metadata": {},
   "outputs": [],
   "source": [
    "weekly_returns = df[['FDS','INVH', 'ROL', 'RBLX', 'HIG']].pct_change(periods=5) # go by business days "
   ]
  },
  {
   "cell_type": "code",
   "execution_count": 8,
   "id": "93d93dee",
   "metadata": {},
   "outputs": [],
   "source": [
    "weekly_returns =weekly_returns.dropna()"
   ]
  },
  {
   "cell_type": "code",
   "execution_count": 9,
   "id": "540be80d",
   "metadata": {},
   "outputs": [
    {
     "data": {
      "text/html": [
       "<div>\n",
       "<style scoped>\n",
       "    .dataframe tbody tr th:only-of-type {\n",
       "        vertical-align: middle;\n",
       "    }\n",
       "\n",
       "    .dataframe tbody tr th {\n",
       "        vertical-align: top;\n",
       "    }\n",
       "\n",
       "    .dataframe thead th {\n",
       "        text-align: right;\n",
       "    }\n",
       "</style>\n",
       "<table border=\"1\" class=\"dataframe\">\n",
       "  <thead>\n",
       "    <tr style=\"text-align: right;\">\n",
       "      <th></th>\n",
       "      <th>FDS</th>\n",
       "      <th>INVH</th>\n",
       "      <th>ROL</th>\n",
       "      <th>RBLX</th>\n",
       "      <th>HIG</th>\n",
       "    </tr>\n",
       "  </thead>\n",
       "  <tbody>\n",
       "    <tr>\n",
       "      <th>5</th>\n",
       "      <td>0.040790</td>\n",
       "      <td>0.056226</td>\n",
       "      <td>0.071526</td>\n",
       "      <td>0.135542</td>\n",
       "      <td>-0.020991</td>\n",
       "    </tr>\n",
       "    <tr>\n",
       "      <th>6</th>\n",
       "      <td>0.038693</td>\n",
       "      <td>0.037421</td>\n",
       "      <td>0.063777</td>\n",
       "      <td>0.161282</td>\n",
       "      <td>-0.021753</td>\n",
       "    </tr>\n",
       "    <tr>\n",
       "      <th>7</th>\n",
       "      <td>0.033414</td>\n",
       "      <td>0.018934</td>\n",
       "      <td>0.082013</td>\n",
       "      <td>0.120381</td>\n",
       "      <td>-0.013833</td>\n",
       "    </tr>\n",
       "    <tr>\n",
       "      <th>8</th>\n",
       "      <td>0.008619</td>\n",
       "      <td>-0.018125</td>\n",
       "      <td>-0.021519</td>\n",
       "      <td>0.115868</td>\n",
       "      <td>0.004455</td>\n",
       "    </tr>\n",
       "    <tr>\n",
       "      <th>9</th>\n",
       "      <td>-0.014825</td>\n",
       "      <td>-0.029464</td>\n",
       "      <td>-0.025149</td>\n",
       "      <td>0.146983</td>\n",
       "      <td>-0.004808</td>\n",
       "    </tr>\n",
       "    <tr>\n",
       "      <th>...</th>\n",
       "      <td>...</td>\n",
       "      <td>...</td>\n",
       "      <td>...</td>\n",
       "      <td>...</td>\n",
       "      <td>...</td>\n",
       "    </tr>\n",
       "    <tr>\n",
       "      <th>245</th>\n",
       "      <td>0.062388</td>\n",
       "      <td>0.016691</td>\n",
       "      <td>0.030268</td>\n",
       "      <td>0.067980</td>\n",
       "      <td>-0.003862</td>\n",
       "    </tr>\n",
       "    <tr>\n",
       "      <th>246</th>\n",
       "      <td>0.059047</td>\n",
       "      <td>-0.011915</td>\n",
       "      <td>0.017849</td>\n",
       "      <td>0.043538</td>\n",
       "      <td>-0.006972</td>\n",
       "    </tr>\n",
       "    <tr>\n",
       "      <th>247</th>\n",
       "      <td>0.064227</td>\n",
       "      <td>0.000000</td>\n",
       "      <td>0.010018</td>\n",
       "      <td>0.032214</td>\n",
       "      <td>-0.002342</td>\n",
       "    </tr>\n",
       "    <tr>\n",
       "      <th>248</th>\n",
       "      <td>0.038082</td>\n",
       "      <td>0.004789</td>\n",
       "      <td>0.007722</td>\n",
       "      <td>-0.073589</td>\n",
       "      <td>0.029659</td>\n",
       "    </tr>\n",
       "    <tr>\n",
       "      <th>249</th>\n",
       "      <td>0.051640</td>\n",
       "      <td>0.020904</td>\n",
       "      <td>-0.000449</td>\n",
       "      <td>-0.056512</td>\n",
       "      <td>0.051915</td>\n",
       "    </tr>\n",
       "  </tbody>\n",
       "</table>\n",
       "<p>245 rows × 5 columns</p>\n",
       "</div>"
      ],
      "text/plain": [
       "          FDS      INVH       ROL      RBLX       HIG\n",
       "5    0.040790  0.056226  0.071526  0.135542 -0.020991\n",
       "6    0.038693  0.037421  0.063777  0.161282 -0.021753\n",
       "7    0.033414  0.018934  0.082013  0.120381 -0.013833\n",
       "8    0.008619 -0.018125 -0.021519  0.115868  0.004455\n",
       "9   -0.014825 -0.029464 -0.025149  0.146983 -0.004808\n",
       "..        ...       ...       ...       ...       ...\n",
       "245  0.062388  0.016691  0.030268  0.067980 -0.003862\n",
       "246  0.059047 -0.011915  0.017849  0.043538 -0.006972\n",
       "247  0.064227  0.000000  0.010018  0.032214 -0.002342\n",
       "248  0.038082  0.004789  0.007722 -0.073589  0.029659\n",
       "249  0.051640  0.020904 -0.000449 -0.056512  0.051915\n",
       "\n",
       "[245 rows x 5 columns]"
      ]
     },
     "execution_count": 9,
     "metadata": {},
     "output_type": "execute_result"
    }
   ],
   "source": [
    "weekly_returns"
   ]
  },
  {
   "cell_type": "code",
   "execution_count": 10,
   "id": "ea403902",
   "metadata": {},
   "outputs": [
    {
     "data": {
      "text/plain": [
       "0.0014607372006632592"
      ]
     },
     "execution_count": 10,
     "metadata": {},
     "output_type": "execute_result"
    }
   ],
   "source": [
    "weekly_returns['FDS'].mean()"
   ]
  },
  {
   "cell_type": "code",
   "execution_count": 11,
   "id": "5ca9e649",
   "metadata": {},
   "outputs": [
    {
     "data": {
      "text/plain": [
       "7.35782452998088e-05"
      ]
     },
     "execution_count": 11,
     "metadata": {},
     "output_type": "execute_result"
    }
   ],
   "source": [
    "weekly_returns['INVH'].mean()"
   ]
  },
  {
   "cell_type": "code",
   "execution_count": 12,
   "id": "53afe5d9",
   "metadata": {},
   "outputs": [
    {
     "data": {
      "text/plain": [
       "0.004609536008896276"
      ]
     },
     "execution_count": 12,
     "metadata": {},
     "output_type": "execute_result"
    }
   ],
   "source": [
    "weekly_returns['ROL'].mean()"
   ]
  },
  {
   "cell_type": "markdown",
   "id": "b84b64cc",
   "metadata": {},
   "source": [
    "# Efficient Portfolio (completly random)"
   ]
  },
  {
   "cell_type": "code",
   "execution_count": 13,
   "id": "9fc2a112",
   "metadata": {},
   "outputs": [],
   "source": [
    "import numpy as np, numpy.random"
   ]
  },
  {
   "cell_type": "code",
   "execution_count": 14,
   "id": "a3a18105",
   "metadata": {},
   "outputs": [],
   "source": [
    "np.random.seed(1885451)"
   ]
  },
  {
   "cell_type": "code",
   "execution_count": 15,
   "id": "a4db8148",
   "metadata": {},
   "outputs": [
    {
     "name": "stdout",
     "output_type": "stream",
     "text": [
      "random weights:  [0.01280302 0.48843802 0.04385469 0.02000437 0.43489989]\n"
     ]
    }
   ],
   "source": [
    "\n",
    "num_assets =  len(symbols)\n",
    "weights = np.random.dirichlet(np.ones(num_assets),size=1)[0]\n",
    "# next : weights = np.array(num_assets * [1. / num_assets,])\n",
    "\n",
    "print(\"random weights: \", weights)\n"
   ]
  },
  {
   "cell_type": "code",
   "execution_count": 16,
   "id": "4cd914b6",
   "metadata": {},
   "outputs": [],
   "source": [
    "opt_weights = [float(i) for i in weights]\n",
    "#opt_weights"
   ]
  },
  {
   "cell_type": "code",
   "execution_count": 17,
   "id": "efe63e72",
   "metadata": {},
   "outputs": [
    {
     "data": {
      "image/png": "[encoded data removed]",
      "text/plain": [
       "<Figure size 640x480 with 1 Axes>"
      ]
     },
     "metadata": {},
     "output_type": "display_data"
    }
   ],
   "source": [
    "import matplotlib.pyplot as plt\n",
    "import seaborn as sns\n",
    "\n",
    "#define data\n",
    "data = opt_weights\n",
    "labels = symbols\n",
    "\n",
    "#define Seaborn color palette to use\n",
    "colors = sns.color_palette('pastel')[0:5]\n",
    "\n",
    "#create pie chart\n",
    "plt.pie(data, labels = labels, colors = colors, autopct='%.1f')\n",
    "plt.show()"
   ]
  },
  {
   "cell_type": "code",
   "execution_count": 18,
   "id": "fbff761c",
   "metadata": {},
   "outputs": [
    {
     "data": {
      "text/plain": [
       "5.827936995684922"
      ]
     },
     "execution_count": 18,
     "metadata": {},
     "output_type": "execute_result"
    }
   ],
   "source": [
    "tot_return = sum(df[['FDS', 'INVH', 'ROL', 'RBLX', 'HIG']].iloc[-1].values* opt_weights) \n",
    "tot_return -= sum(df[['FDS', 'INVH', 'ROL', 'RBLX', 'HIG']].iloc[0].values* opt_weights)\n",
    "tot_return"
   ]
  },
  {
   "cell_type": "code",
   "execution_count": 19,
   "id": "1f37e79d",
   "metadata": {},
   "outputs": [],
   "source": [
    "random_returns = tot_return"
   ]
  },
  {
   "cell_type": "markdown",
   "id": "5878c15a",
   "metadata": {},
   "source": [
    "# Efficient Portfolio (Mean-Variance) "
   ]
  },
  {
   "cell_type": "code",
   "execution_count": 20,
   "id": "a648f273",
   "metadata": {},
   "outputs": [
    {
     "name": "stdout",
     "output_type": "stream",
     "text": [
      "weights:  [0.2 0.2 0.2 0.2 0.2]\n",
      "[0.         0.         0.47854794 0.         0.52145206]\n"
     ]
    }
   ],
   "source": [
    "import pandas as pd\n",
    "import numpy as np\n",
    "from scipy.optimize import minimize\n",
    "\n",
    "\n",
    "\n",
    "\n",
    "def portfolio_risk(W, returns):\n",
    "    portfolio_return = np.sum(returns.mean() * W) \n",
    "    portfolio_std_dev = np.sqrt(np.dot(weights.T, np.dot(returns.cov(), W)))\n",
    "    return portfolio_std_dev\n",
    "\n",
    "\n",
    "num_assets =  len(symbols)\n",
    "# for fun: weights = np.random.dirichlet(np.ones(num_assets),size=1)[0]\n",
    "weights = np.array(num_assets * [1. / num_assets,])\n",
    "\n",
    "print(\"weights: \", weights)\n",
    "bounds = tuple((0, 1) for asset in range(num_assets))\n",
    "\n",
    "constraints = [{'type': 'eq', 'fun': lambda weights: np.sum(weights) - 1}]\n",
    "\n",
    "minimized_risk = minimize(portfolio_risk, weights, args=(df[['FDS', 'INVH', 'ROL', 'RBLX', 'HIG']].pct_change()), method='SLSQP', bounds=bounds, constraints=constraints)\n",
    "\n",
    "print(minimized_risk.x)"
   ]
  },
  {
   "cell_type": "code",
   "execution_count": 21,
   "id": "ff165bc7",
   "metadata": {},
   "outputs": [],
   "source": [
    "opt_weights = [float(i) for i in minimized_risk.x]"
   ]
  },
  {
   "cell_type": "code",
   "execution_count": 22,
   "id": "acbc4c4a",
   "metadata": {},
   "outputs": [],
   "source": [
    "tot_return = sum(df[['FDS', 'INVH', 'ROL', 'RBLX', 'HIG']].iloc[-1].values* opt_weights) - sum(df[['FDS', 'INVH', 'ROL', 'RBLX', 'HIG']].iloc[0].values* opt_weights)"
   ]
  },
  {
   "cell_type": "code",
   "execution_count": 23,
   "id": "ae3e6e93",
   "metadata": {},
   "outputs": [
    {
     "data": {
      "text/plain": [
       "9.723230937308173"
      ]
     },
     "execution_count": 23,
     "metadata": {},
     "output_type": "execute_result"
    }
   ],
   "source": [
    "tot_return"
   ]
  },
  {
   "cell_type": "code",
   "execution_count": 24,
   "id": "15cdd1a8",
   "metadata": {},
   "outputs": [],
   "source": [
    "mv_return = tot_return"
   ]
  },
  {
   "cell_type": "code",
   "execution_count": 25,
   "id": "e66e6b8a",
   "metadata": {},
   "outputs": [
    {
     "data": {
      "image/png": "[encoded data removed]",
      "text/plain": [
       "<Figure size 640x480 with 1 Axes>"
      ]
     },
     "metadata": {},
     "output_type": "display_data"
    }
   ],
   "source": [
    "import matplotlib.pyplot as plt\n",
    "import seaborn as sns\n",
    "\n",
    "#define data\n",
    "data = opt_weights\n",
    "labels = symbols\n",
    "\n",
    "#define Seaborn color palette to use\n",
    "colors = sns.color_palette('pastel')[0:5]\n",
    "\n",
    "#create pie chart\n",
    "plt.pie(data, labels = labels, colors = colors, autopct='%.1f')\n",
    "plt.show()"
   ]
  },
  {
   "cell_type": "markdown",
   "id": "54d0e4bf",
   "metadata": {},
   "source": [
    "# Efficient Portfolio (LSTM)"
   ]
  },
  {
   "cell_type": "code",
   "execution_count": 26,
   "id": "94f88a7b",
   "metadata": {},
   "outputs": [
    {
     "name": "stderr",
     "output_type": "stream",
     "text": [
      "2023-07-23 17:25:26.447271: I tensorflow/core/platform/cpu_feature_guard.cc:182] This TensorFlow binary is optimized to use available CPU instructions in performance-critical operations.\n",
      "To enable the following instructions: AVX2 FMA, in other operations, rebuild TensorFlow with the appropriate compiler flags.\n"
     ]
    }
   ],
   "source": [
    "import numpy as np\n",
    "import tensorflow as tf\n",
    "import json\n",
    "from sklearn.neighbors import LocalOutlierFactor\n",
    "from sklearn.feature_selection import f_regression\n",
    "import datetime as dt\n",
    "from tensorflow.keras.models import Sequential\n",
    "from tensorflow.keras.layers import Dense, Dropout, LSTM\n",
    "def run_sk_lstm_model(normalized_df, prediction_days=25, num_epochs=30, num_batch_size=5):\n",
    "    \"\"\"\n",
    "    Run the SK-LSTM model on the provided normalized DataFrame.\n",
    "\n",
    "    Args:\n",
    "        normalized_df (pandas.DataFrame): The normalized DataFrame.\n",
    "        prediction_days (int): The number of previous days to use for prediction. Default is 20.\n",
    "        num_epochs (int): The number of training epochs. Default is 3.\n",
    "        num_batch_size (int): The batch size for training. Default is 32.\n",
    "\n",
    "    Returns:\n",
    "        tuple: A tuple containing the trained model and the predicted values.\n",
    "\n",
    "    \"\"\"\n",
    "    print(\"prediction_days: \", prediction_days)\n",
    "\n",
    "    # Split the data into input (x) and output (y) variables\n",
    "    x_train, y_train = split_x_data(normalized_df) \n",
    "    print(\"x_train, y_train\", x_train.shape, y_train.shape)\n",
    "\n",
    "    # Convert the data to float32 type\n",
    "    x_train = x_train.astype('float32')\n",
    "    y_train = y_train.astype('float32')\n",
    "\n",
    "    # Get the list of columns to use as input features\n",
    "    vals_to_use = normalized_df.columns.to_list()\n",
    "    fv = len(vals_to_use)\n",
    "\n",
    "    # Define the SK-LSTM model\n",
    "    model = tf.keras.Sequential()\n",
    "    model.add(tf.keras.Input(shape=(prediction_days, fv)))\n",
    "    model.add(tf.keras.layers.LSTM(units=prediction_days))\n",
    "    # if model is over-fitting: model.add(tf.keras.layers.Dropout(0.2))\n",
    "    model.add(tf.keras.layers.Dropout(0.2))\n",
    "    model.add(tf.keras.layers.Dense(fv * prediction_days, activation='linear'))\n",
    "    model.add(tf.keras.layers.Dense(prediction_days, activation=\"relu\"))\n",
    "    model.compile(optimizer=tf.keras.optimizers.SGD(learning_rate=0.1),\n",
    "                  loss=tf.keras.losses.MeanSquaredError(),\n",
    "                  metrics=['mse'])\n",
    "\n",
    "    # Train the model\n",
    "    model.fit(x=x_train, y=y_train,\n",
    "              batch_size=num_batch_size, epochs=num_epochs)\n",
    "\n",
    "    # Predict the output values\n",
    "    y_pred = model.predict(x_train)\n",
    "\n",
    "    return model, y_pred\n",
    "\n",
    "def get_transform(df):\n",
    "    \"\"\"\n",
    "    Apply a transformation to a variable using the maximum and minimum values of a DataFrame.\n",
    "\n",
    "    Args:\n",
    "        df (pandas.DataFrame): The DataFrame used to calculate the maximum and minimum values.\n",
    "\n",
    "    Returns:\n",
    "        The transformed variable.\n",
    "\n",
    "    \"\"\"\n",
    "    return (df-df.min())/(df.max()-df.min())\n",
    "\n",
    "def remove_outliers(df):\n",
    "    \"\"\"\n",
    "    Remove outliers from the DataFrame based on a specified target variable.\n",
    "\n",
    "    Args:\n",
    "        df (pandas.DataFrame): The DataFrame to remove outliers from.\n",
    "\n",
    "    Returns:\n",
    "        pandas.DataFrame: The DataFrame with outliers removed.\n",
    "\n",
    "    \"\"\"\n",
    "    X = df.values\n",
    "    cols = [i for i in df.columns]\n",
    "    # identify outliers in the training dataset\n",
    "    lof = LocalOutlierFactor()\n",
    "    yhat = lof.fit_predict(X)\n",
    "    # select all rows that are not outliers\n",
    "    mask = yhat != -1\n",
    "    outliers_removed = df\n",
    "    outliers_removed[\"eff_mask\"] = mask\n",
    "    outliers_removed = outliers_removed[outliers_removed[\"eff_mask\"] == True]\n",
    "    df = outliers_removed\n",
    "    return df[cols]"
   ]
  },
  {
   "cell_type": "code",
   "execution_count": 27,
   "id": "65df1815",
   "metadata": {},
   "outputs": [],
   "source": [
    "def split_x_data(normalized_df, var = \"predict\",prediction_days=25,fv=5):\n",
    "    \"\"\"\n",
    "    Split the data into input (x) and output (y) variables for training an LSTM model.\n",
    "\n",
    "    Args:\n",
    "        normalized_df (pandas.DataFrame): The normalized DataFrame.\n",
    "        prediction_days (int): The number of previous days to use for prediction. Default is 20.\n",
    "        final_x (bool): Whether to return only the final x_train. Default is False.\n",
    "\n",
    "    Returns:\n",
    "        tuple: A tuple containing the input (x_train) and output (y_train) variables.\n",
    "\n",
    "    \"\"\"\n",
    "    #scaled_data = normalized_df.copy(deep=False).values.reshape(-1, fv)\n",
    "    normalized_df[\"predict\"] = np.max(normalized_df.shift(-1),axis=1) \n",
    "        # really dumb monte-carlo-like strategy to invest in one stock each day and predict next value\n",
    "        \n",
    "    vals_to_use = normalized_df.columns.to_list()\n",
    "    fv = len(vals_to_use)\n",
    "    scaled_data = normalized_df.copy(deep=False).values.reshape(-1, fv)\n",
    "    \n",
    "    x_train = []\n",
    "    y_train = []\n",
    "    \n",
    "\n",
    "    var_index = vals_to_use.index(var)\n",
    "\n",
    "    for x in range(prediction_days, len(scaled_data)-prediction_days):\n",
    "        x_train.append(scaled_data[x-prediction_days:x, :])\n",
    "        y_train.append(scaled_data[x:x+prediction_days, var_index])\n",
    "\n",
    "    x_train, y_train = np.array(x_train), np.array(y_train)\n",
    "    print(\"x_train, y_train\", x_train.shape, y_train.shape)\n",
    "    x_train = np.reshape(x_train, (x_train.shape[0], x_train.shape[1], fv))\n",
    "    return x_train, y_train\n"
   ]
  },
  {
   "cell_type": "code",
   "execution_count": 28,
   "id": "c82e29da",
   "metadata": {},
   "outputs": [],
   "source": [
    "idx_normalized_df = df[['FDS', 'INVH', 'ROL', 'RBLX', 'HIG']].copy(deep=False)\n",
    "out_df = remove_outliers(idx_normalized_df)\n",
    "normalized_df = get_transform(out_df)\n"
   ]
  },
  {
   "cell_type": "code",
   "execution_count": 29,
   "id": "7b2c3d6e",
   "metadata": {},
   "outputs": [
    {
     "name": "stdout",
     "output_type": "stream",
     "text": [
      "prediction_days:  25\n",
      "x_train, y_train (199, 25, 6) (199, 25)\n",
      "x_train, y_train (199, 25, 6) (199, 25)\n",
      "Epoch 1/30\n",
      "40/40 [==============================] - 2s 6ms/step - loss: 0.2271 - mse: 0.2271\n",
      "Epoch 2/30\n",
      "40/40 [==============================] - 0s 5ms/step - loss: 0.0997 - mse: 0.0997\n",
      "Epoch 3/30\n",
      "40/40 [==============================] - 0s 5ms/step - loss: 0.0966 - mse: 0.0966\n",
      "Epoch 4/30\n",
      "40/40 [==============================] - 0s 5ms/step - loss: 0.0915 - mse: 0.0915\n",
      "Epoch 5/30\n",
      "40/40 [==============================] - 0s 6ms/step - loss: 0.0912 - mse: 0.0912\n",
      "Epoch 6/30\n",
      "40/40 [==============================] - 0s 5ms/step - loss: 0.0912 - mse: 0.0912\n",
      "Epoch 7/30\n",
      "40/40 [==============================] - 0s 5ms/step - loss: 0.0882 - mse: 0.0882\n",
      "Epoch 8/30\n",
      "40/40 [==============================] - 0s 5ms/step - loss: 0.0879 - mse: 0.0879\n",
      "Epoch 9/30\n",
      "40/40 [==============================] - 0s 5ms/step - loss: 0.0865 - mse: 0.0865\n",
      "Epoch 10/30\n",
      "40/40 [==============================] - 0s 5ms/step - loss: 0.0860 - mse: 0.0860\n",
      "Epoch 11/30\n",
      "40/40 [==============================] - 0s 5ms/step - loss: 0.0851 - mse: 0.0851\n",
      "Epoch 12/30\n",
      "40/40 [==============================] - 0s 5ms/step - loss: 0.0847 - mse: 0.0847\n",
      "Epoch 13/30\n",
      "40/40 [==============================] - 0s 5ms/step - loss: 0.0836 - mse: 0.0836\n",
      "Epoch 14/30\n",
      "40/40 [==============================] - 0s 5ms/step - loss: 0.0838 - mse: 0.0838\n",
      "Epoch 15/30\n",
      "40/40 [==============================] - 0s 5ms/step - loss: 0.0834 - mse: 0.0834\n",
      "Epoch 16/30\n",
      "40/40 [==============================] - 0s 6ms/step - loss: 0.0833 - mse: 0.0833\n",
      "Epoch 17/30\n",
      "40/40 [==============================] - 0s 5ms/step - loss: 0.0830 - mse: 0.0830\n",
      "Epoch 18/30\n",
      "40/40 [==============================] - 0s 6ms/step - loss: 0.0823 - mse: 0.0823\n",
      "Epoch 19/30\n",
      "40/40 [==============================] - 0s 6ms/step - loss: 0.0823 - mse: 0.0823\n",
      "Epoch 20/30\n",
      "40/40 [==============================] - 0s 6ms/step - loss: 0.0822 - mse: 0.0822\n",
      "Epoch 21/30\n",
      "40/40 [==============================] - 0s 6ms/step - loss: 0.0815 - mse: 0.0815\n",
      "Epoch 22/30\n",
      "40/40 [==============================] - 0s 6ms/step - loss: 0.0815 - mse: 0.0815\n",
      "Epoch 23/30\n",
      "40/40 [==============================] - 0s 6ms/step - loss: 0.0817 - mse: 0.0817\n",
      "Epoch 24/30\n",
      "40/40 [==============================] - 0s 6ms/step - loss: 0.0808 - mse: 0.0808\n",
      "Epoch 25/30\n",
      "40/40 [==============================] - 0s 5ms/step - loss: 0.0813 - mse: 0.0813\n",
      "Epoch 26/30\n",
      "40/40 [==============================] - 0s 5ms/step - loss: 0.0683 - mse: 0.0683\n",
      "Epoch 27/30\n",
      "40/40 [==============================] - 0s 5ms/step - loss: 0.0588 - mse: 0.0588\n",
      "Epoch 28/30\n",
      "40/40 [==============================] - 0s 5ms/step - loss: 0.0583 - mse: 0.0583\n",
      "Epoch 29/30\n",
      "40/40 [==============================] - 0s 5ms/step - loss: 0.0583 - mse: 0.0583\n",
      "Epoch 30/30\n",
      "40/40 [==============================] - 0s 5ms/step - loss: 0.0577 - mse: 0.0577\n",
      "7/7 [==============================] - 0s 3ms/step\n"
     ]
    }
   ],
   "source": [
    "model, y_pred = run_sk_lstm_model(normalized_df,num_epochs=30)"
   ]
  },
  {
   "cell_type": "code",
   "execution_count": 30,
   "id": "8cd0f41b",
   "metadata": {},
   "outputs": [
    {
     "data": {
      "text/plain": [
       "<matplotlib.legend.Legend at 0x13a0254d0>"
      ]
     },
     "execution_count": 30,
     "metadata": {},
     "output_type": "execute_result"
    },
    {
     "data": {
      "image/png": "[encoded data removed]",
      "text/plain": [
       "<Figure size 640x480 with 1 Axes>"
      ]
     },
     "metadata": {},
     "output_type": "display_data"
    }
   ],
   "source": [
    "import matplotlib.pyplot as plt\n",
    "plt.plot(np.mean(y_pred,axis=1),label='y_pred',alpha=0.5)\n",
    "plt.plot(normalized_df['predict'].values[25:],label='y',alpha=0.5)\n",
    "plt.legend()"
   ]
  },
  {
   "cell_type": "code",
   "execution_count": 31,
   "id": "8a57d69f",
   "metadata": {},
   "outputs": [],
   "source": [
    "#get last layer output \n",
    "biases = model.layers[-1].get_weights()[-1].reshape(5,5)\n",
    "values = np.mean(biases, axis=0)\n"
   ]
  },
  {
   "cell_type": "code",
   "execution_count": 32,
   "id": "3a382ce3",
   "metadata": {},
   "outputs": [],
   "source": [
    "values /= np.sum(values)"
   ]
  },
  {
   "cell_type": "code",
   "execution_count": 33,
   "id": "1c46baf1",
   "metadata": {},
   "outputs": [],
   "source": [
    "opt_weights = values"
   ]
  },
  {
   "cell_type": "code",
   "execution_count": 34,
   "id": "78dbd246",
   "metadata": {},
   "outputs": [
    {
     "data": {
      "image/png": "[encoded data removed]",
      "text/plain": [
       "<Figure size 640x480 with 1 Axes>"
      ]
     },
     "metadata": {},
     "output_type": "display_data"
    }
   ],
   "source": [
    "import matplotlib.pyplot as plt\n",
    "import seaborn as sns\n",
    "\n",
    "#define data\n",
    "data = opt_weights\n",
    "labels = symbols\n",
    "\n",
    "#define Seaborn color palette to use\n",
    "colors = sns.color_palette('pastel')[0:5]\n",
    "\n",
    "#create pie chart\n",
    "plt.pie(data, labels = labels, colors = colors, autopct='%.1f')\n",
    "plt.show()"
   ]
  },
  {
   "cell_type": "markdown",
   "id": "f7b23406",
   "metadata": {},
   "source": [
    "## YAY!!!: improved performance with LSTM predicted importance "
   ]
  },
  {
   "cell_type": "code",
   "execution_count": 35,
   "id": "47c7db12",
   "metadata": {},
   "outputs": [
    {
     "data": {
      "text/plain": [
       "10.036828242765807"
      ]
     },
     "execution_count": 35,
     "metadata": {},
     "output_type": "execute_result"
    }
   ],
   "source": [
    "tot_return = sum(df[['FDS', 'INVH', 'ROL', 'RBLX', 'HIG']].iloc[-1].values* opt_weights) \n",
    "tot_return -= sum(df[['FDS', 'INVH', 'ROL', 'RBLX', 'HIG']].iloc[0].values* opt_weights)\n",
    "tot_return"
   ]
  },
  {
   "cell_type": "code",
   "execution_count": 36,
   "id": "69a4c55d",
   "metadata": {},
   "outputs": [],
   "source": [
    "lstm_return = tot_return"
   ]
  },
  {
   "cell_type": "markdown",
   "id": "d54ccaed",
   "metadata": {},
   "source": [
    "# RESULTS"
   ]
  },
  {
   "cell_type": "code",
   "execution_count": 43,
   "id": "8802ce40",
   "metadata": {},
   "outputs": [
    {
     "data": {
      "text/html": [
       "<div>\n",
       "<style scoped>\n",
       "    .dataframe tbody tr th:only-of-type {\n",
       "        vertical-align: middle;\n",
       "    }\n",
       "\n",
       "    .dataframe tbody tr th {\n",
       "        vertical-align: top;\n",
       "    }\n",
       "\n",
       "    .dataframe thead th {\n",
       "        text-align: right;\n",
       "    }\n",
       "</style>\n",
       "<table border=\"1\" class=\"dataframe\">\n",
       "  <thead>\n",
       "    <tr style=\"text-align: right;\">\n",
       "      <th></th>\n",
       "      <th>lstm</th>\n",
       "      <th>mean-var</th>\n",
       "      <th>random</th>\n",
       "    </tr>\n",
       "    <tr>\n",
       "      <th>returns</th>\n",
       "      <th></th>\n",
       "      <th></th>\n",
       "      <th></th>\n",
       "    </tr>\n",
       "  </thead>\n",
       "  <tbody>\n",
       "    <tr>\n",
       "      <th>0</th>\n",
       "      <td>10.036828</td>\n",
       "      <td>9.723231</td>\n",
       "      <td>5.827937</td>\n",
       "    </tr>\n",
       "  </tbody>\n",
       "</table>\n",
       "</div>"
      ],
      "text/plain": [
       "              lstm  mean-var    random\n",
       "returns                               \n",
       "0        10.036828  9.723231  5.827937"
      ]
     },
     "execution_count": 43,
     "metadata": {},
     "output_type": "execute_result"
    }
   ],
   "source": [
    "result_df = pd.DataFrame()\n",
    "result_df[\"lstm\"] = [lstm_return]\n",
    "result_df[\"mean-var\"] = [mv_return]\n",
    "result_df[\"random\"] = [random_returns]\n",
    "result_df.index.name = \"returns\"\n",
    "result_df"
   ]
  },
  {
   "cell_type": "code",
   "execution_count": 50,
   "id": "63448434",
   "metadata": {},
   "outputs": [],
   "source": [
    "import matplotlib.colors as mcolors"
   ]
  },
  {
   "cell_type": "code",
   "execution_count": 56,
   "id": "c4ff11d5",
   "metadata": {},
   "outputs": [
    {
     "data": {
      "image/png": "[encoded data removed]",
      "text/plain": [
       "<Figure size 640x480 with 1 Axes>"
      ]
     },
     "metadata": {},
     "output_type": "display_data"
    }
   ],
   "source": [
    "import matplotlib.pyplot as plt\n",
    "\n",
    "fig, ax = plt.subplots()\n",
    "\n",
    "algs = [\"lstm\", \"mean-var\",\"random\"]\n",
    "counts = [lstm_return,mv_return,random_returns]\n",
    "bar_labels = ['xkcd:baby puke green', 'xkcd:baby poop green', 'xkcd:baby poop']\n",
    "bar_colors = bar_labels\n",
    "\n",
    "ax.bar(algs, counts, label=bar_labels, color=bar_colors)\n",
    "\n",
    "ax.set_ylabel('performance')\n",
    "ax.set_title('Weights vs Returns')\n",
    "# function to add value labels\n",
    "def addlabels(x,y):\n",
    "    for i in range(len(x)):\n",
    "        plt.text(i, y[i], y[i], ha = 'center')\n",
    "addlabels(algs, counts)\n",
    "plt.show()"
   ]
  },
  {
   "cell_type": "code",
   "execution_count": null,
   "id": "70b0febd",
   "metadata": {},
   "outputs": [],
   "source": []
  }
 ],
 "metadata": {
  "kernelspec": {
   "display_name": "Python 3 (ipykernel)",
   "language": "python",
   "name": "python3"
  },
  "language_info": {
   "codemirror_mode": {
    "name": "ipython",
    "version": 3
   },
   "file_extension": ".py",
   "mimetype": "text/x-python",
   "name": "python",
   "nbconvert_exporter": "python",
   "pygments_lexer": "ipython3",
   "version": "3.11.3"
  }
 },
 "nbformat": 4,
 "nbformat_minor": 5
}
